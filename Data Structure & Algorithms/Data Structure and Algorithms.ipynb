{
 "cells": [
  {
   "cell_type": "markdown",
   "metadata": {},
   "source": [
    "# Data Structure and Algorithms"
   ]
  },
  {
   "cell_type": "code",
   "execution_count": 1,
   "metadata": {},
   "outputs": [],
   "source": [
    "# https://www.youtube.com/watch?v=_t2GVaQasRY&list=PLeo1K3hjS3uu_n_a__MI_KktGTLYopZ12&ab_channel=codebasics"
   ]
  },
  {
   "cell_type": "markdown",
   "metadata": {},
   "source": [
    "## Singly Linked List"
   ]
  },
  {
   "cell_type": "code",
   "execution_count": 34,
   "metadata": {},
   "outputs": [
    {
     "name": "stdout",
     "output_type": "stream",
     "text": [
      "Head--> 6 --> 5 --> 9 --> 15 --> Soumen --> Shouvik --> Null\n",
      "Linked List length: 6\n",
      "Head--> 6 --> 5 --> 15 --> Soumen --> Shouvik --> Null\n",
      "Linked List length: 5\n",
      "Head--> 6 --> 5 --> 15 --> Soumen --> Null\n",
      "Linked List length: 4\n",
      "Head--> 6 --> 5 --> Shouvik --> 15 --> Soumen --> Null\n",
      "Linked List length: 5\n",
      "Head--> 100 --> 6 --> 5 --> Shouvik --> 15 --> Soumen --> Null\n",
      "Linked List length: 6\n"
     ]
    }
   ],
   "source": [
    "class Node:\n",
    "    def __init__(self,data=None,next=None):\n",
    "        self.data = data\n",
    "        self.next = next\n",
    "\n",
    "class LinkedList:\n",
    "    def __init__(self):\n",
    "        self.head = None\n",
    "    \n",
    "    def insert_at_begining(self, data):\n",
    "        node = Node(data, self.head)\n",
    "        self.head = node\n",
    "    \n",
    "    def insert_at_end(self, data):\n",
    "        node = Node(data, None)\n",
    "        if self.head == None:\n",
    "            self.head = node\n",
    "            return\n",
    "        itr = self.head\n",
    "        while itr.next:\n",
    "            itr = itr.next\n",
    "        itr.next = node\n",
    "    \n",
    "    def insert_values(self, data_list):\n",
    "        for data in data_list:\n",
    "            self.insert_at_end(data)\n",
    "    \n",
    "    def insert_at(self, index, data):\n",
    "        node = Node(data, None)\n",
    "        if index<0 or index>self.get_length():\n",
    "            print(\"invalid index\")\n",
    "            return\n",
    "        if index==0:\n",
    "            self.insert_at_begining(data)\n",
    "            return\n",
    "        count=0\n",
    "        itr = self.head\n",
    "        while itr:\n",
    "            if (count+1)==index:\n",
    "                node.next = itr.next\n",
    "                itr.next = node\n",
    "                return\n",
    "            itr = itr.next\n",
    "            count+=1\n",
    "        \n",
    "    def remove_at(self, index):\n",
    "        itr = self.head\n",
    "        count=0\n",
    "        while itr:\n",
    "            if index < 0:\n",
    "                print(\"invalid index\")\n",
    "                return\n",
    "            if index == 0:\n",
    "                self.head = (self.head).next\n",
    "                return\n",
    "            if itr.next == None:\n",
    "                print(\"invalid index\")\n",
    "                return\n",
    "            if (count+1)==index:\n",
    "                itr.next = (itr.next).next\n",
    "                return\n",
    "            itr = itr.next\n",
    "            count+=1\n",
    "    \n",
    "    def remove_data(self, data_to_remove):\n",
    "        itr = self.head\n",
    "        while itr:\n",
    "            if (itr.next).data == data_to_remove:\n",
    "                itr.next = (itr.next).next\n",
    "                return\n",
    "            itr = itr.next\n",
    "    \n",
    "    def print_elements(self):\n",
    "        if self.head == None:\n",
    "            print(\"Linked List is empty.\")\n",
    "            return\n",
    "        itr = self.head\n",
    "        llstr = \"Head--> \"\n",
    "        while itr:\n",
    "            llstr += str(itr.data) + \" --> \"\n",
    "            itr = itr.next\n",
    "        llstr += \"Null\"\n",
    "        print(llstr)\n",
    "    \n",
    "    def get_length(self):\n",
    "        count = 0\n",
    "        itr = self.head\n",
    "        while itr:\n",
    "            count += 1\n",
    "            itr = itr.next\n",
    "        return count\n",
    "\n",
    "ll = LinkedList()\n",
    "ll.insert_at_begining(5)\n",
    "ll.insert_at_begining(6)\n",
    "ll.insert_at_end(9)\n",
    "ll.insert_at_end(15)\n",
    "ll.insert_values([\"Soumen\",\"Shouvik\"])\n",
    "ll.print_elements()\n",
    "print(f\"Linked List length: {ll.get_length()}\")\n",
    "ll.remove_at(2)\n",
    "ll.print_elements()\n",
    "print(f\"Linked List length: {ll.get_length()}\")\n",
    "ll.remove_data(\"Shouvik\")\n",
    "ll.print_elements()\n",
    "print(f\"Linked List length: {ll.get_length()}\")\n",
    "ll.insert_at(2, \"Shouvik\")\n",
    "ll.print_elements()\n",
    "print(f\"Linked List length: {ll.get_length()}\")\n",
    "ll.insert_at(0, 100)\n",
    "ll.print_elements()\n",
    "print(f\"Linked List length: {ll.get_length()}\")"
   ]
  },
  {
   "cell_type": "markdown",
   "metadata": {},
   "source": [
    "## Doubly Linked List"
   ]
  },
  {
   "cell_type": "code",
   "execution_count": 46,
   "metadata": {},
   "outputs": [
    {
     "name": "stdout",
     "output_type": "stream",
     "text": [
      "Head <--> Mango <--> 100 <--> Shouvik <--> 3 <--> 2 <--> 1 <--> Null\n",
      "Null <--> 1 <--> 2 <--> 3 <--> Shouvik <--> 100 <--> Mango <--> Head\n"
     ]
    }
   ],
   "source": [
    "class Node:\n",
    "    def __init__(self,data=None,prev=None,next=None):\n",
    "        self.data = data\n",
    "        self.prev = prev\n",
    "        self.next = next\n",
    "\n",
    "class LinkedList:\n",
    "    def __init__(self):\n",
    "        self.head = Node(None,None,None)\n",
    "        \n",
    "    def insert_at_begining(self, data):\n",
    "        node = Node(data, self.head, self.head.next)\n",
    "        if self.head.next != None:\n",
    "            next_node = self.head.next\n",
    "            next_node.prev = node\n",
    "        self.head.next = node\n",
    "    \n",
    "    def insert_values(self, datas):\n",
    "        for data in datas:\n",
    "            self.insert_at_begining(data)\n",
    "    \n",
    "    def print_forward(self):\n",
    "        if self.head.next == None:\n",
    "            print(\"Linked List is empty.\")\n",
    "            return\n",
    "        itr = self.head.next\n",
    "        llstr = \"Head <--> \"\n",
    "        while itr:\n",
    "            llstr += str(itr.data) + \" <--> \"\n",
    "            itr = itr.next\n",
    "        llstr += \"Null\"\n",
    "        print(llstr)\n",
    "    \n",
    "    def print_backward(self):\n",
    "        if self.head.next == None:\n",
    "            print(\"Linked List is empty.\")\n",
    "            return\n",
    "        itr = self.head.next\n",
    "        llstr = \"Null <--> \"\n",
    "        while itr.next:\n",
    "            itr = itr.next\n",
    "        while itr.prev:\n",
    "            llstr += str(itr.data) + \" <--> \"\n",
    "            itr = itr.prev\n",
    "        llstr += \"Head\"\n",
    "        print(llstr)\n",
    "\n",
    "ll = LinkedList()\n",
    "ll.insert_values([1,2,3,\"Shouvik\",100,\"Mango\"])\n",
    "ll.print_forward()\n",
    "ll.print_backward()"
   ]
  },
  {
   "cell_type": "markdown",
   "metadata": {},
   "source": [
    "## Hash Table"
   ]
  },
  {
   "cell_type": "code",
   "execution_count": 65,
   "metadata": {},
   "outputs": [
    {
     "name": "stdout",
     "output_type": "stream",
     "text": [
      "March 8: 100\n",
      "March 6: 130\n",
      "December 22: 300\n",
      "December 20: 208\n",
      "105\n",
      "None\n"
     ]
    }
   ],
   "source": [
    "class HashTable:\n",
    "    def __init__(self):\n",
    "        self.MAX = 100\n",
    "        self.arr = [set() for i in range(self.MAX)]\n",
    "    \n",
    "    def get_hash(self, key):\n",
    "        h = 0\n",
    "        for char in key:\n",
    "            h += ord(char)\n",
    "        return h%self.MAX\n",
    "    \n",
    "    def add(self,key,val):\n",
    "        h = self.get_hash(key)\n",
    "        self.arr[h] = val\n",
    "    \n",
    "    def get(self,key):\n",
    "        return self.arr[self.get_hash(key)]\n",
    "    \n",
    "    def __setitem__(self,key,val):\n",
    "        h = self.get_hash(key)\n",
    "        self.arr[h] = val\n",
    "    \n",
    "    def __getitem__(self,key):\n",
    "        return self.arr[self.get_hash(key)]\n",
    "    \n",
    "    def __delitem__(self,key):\n",
    "        self.arr[self.get_hash(key)] = None\n",
    "\n",
    "ht = HashTable()\n",
    "ht.add(\"march 6\",130)\n",
    "ht.add(\"march 8\",100)\n",
    "print(f\"March 8: {ht.get('march 8')}\")\n",
    "print(f\"March 6: {ht.get('march 6')}\")\n",
    "\n",
    "ht[\"december 20\"] = 208\n",
    "ht[\"december 22\"] = 300\n",
    "print(f\"December 22: {ht['december 22']}\")\n",
    "print(f\"December 20: {ht['december 20']}\")\n",
    "\n",
    "ht[\"january 02\"] = 105\n",
    "print(ht[\"january 02\"])\n",
    "del ht[\"january 02\"]\n",
    "print(ht[\"january 02\"])"
   ]
  },
  {
   "cell_type": "code",
   "execution_count": 118,
   "metadata": {},
   "outputs": [],
   "source": [
    "# handling collisions\n",
    "\n",
    "class HashTable2:\n",
    "    def __init__(self):\n",
    "        self.MAX = 100\n",
    "        self.arr = [[] for i in range(self.MAX)]\n",
    "    \n",
    "    def get_hash(self, key):\n",
    "        h = 0\n",
    "        for char in key:\n",
    "            h += ord(char)\n",
    "        return h%self.MAX\n",
    "    \n",
    "    def __setitem__(self,key,val):\n",
    "        h = self.get_hash(key)\n",
    "        found = False\n",
    "        for index,element in enumerate(self.arr[h]):\n",
    "            if len(element)==2 and element[0]==key:\n",
    "                self.arr[h][index] = (key,val)\n",
    "                found = True\n",
    "                break\n",
    "        if not found:\n",
    "            self.arr[h].append((key,val))\n",
    "    \n",
    "    def __getitem__(self,key):\n",
    "        h = self.get_hash(key)\n",
    "        for element in self.arr[h]:\n",
    "            if element[0]==key:\n",
    "                return element[1]\n",
    "    \n",
    "    def __delitem__(self,key):\n",
    "        h = self.get_hash(key)\n",
    "        for index, element in enumerate(self.arr[h]):\n",
    "            if element[0] == key:\n",
    "                del self.arr[h][index]"
   ]
  },
  {
   "cell_type": "code",
   "execution_count": 119,
   "metadata": {},
   "outputs": [],
   "source": [
    "ht2 = HashTable2()"
   ]
  },
  {
   "cell_type": "code",
   "execution_count": 114,
   "metadata": {},
   "outputs": [
    {
     "data": {
      "text/plain": [
       "54"
      ]
     },
     "execution_count": 114,
     "metadata": {},
     "output_type": "execute_result"
    }
   ],
   "source": [
    "ht2.get_hash(\"march 12\")"
   ]
  },
  {
   "cell_type": "code",
   "execution_count": 113,
   "metadata": {},
   "outputs": [
    {
     "data": {
      "text/plain": [
       "54"
      ]
     },
     "execution_count": 113,
     "metadata": {},
     "output_type": "execute_result"
    }
   ],
   "source": [
    "ht2.get_hash(\"march 21\")"
   ]
  },
  {
   "cell_type": "code",
   "execution_count": 120,
   "metadata": {},
   "outputs": [],
   "source": [
    "ht2[\"march 12\"] = 100\n",
    "ht2[\"march 21\"] = 150"
   ]
  },
  {
   "cell_type": "code",
   "execution_count": 110,
   "metadata": {},
   "outputs": [
    {
     "data": {
      "text/plain": [
       "100"
      ]
     },
     "execution_count": 110,
     "metadata": {},
     "output_type": "execute_result"
    }
   ],
   "source": [
    "ht2[\"march 12\"]"
   ]
  },
  {
   "cell_type": "code",
   "execution_count": 111,
   "metadata": {},
   "outputs": [
    {
     "data": {
      "text/plain": [
       "150"
      ]
     },
     "execution_count": 111,
     "metadata": {},
     "output_type": "execute_result"
    }
   ],
   "source": [
    "ht2[\"march 21\"]"
   ]
  },
  {
   "cell_type": "code",
   "execution_count": 128,
   "metadata": {},
   "outputs": [],
   "source": [
    "del ht2[\"march 21\"]"
   ]
  },
  {
   "cell_type": "markdown",
   "metadata": {},
   "source": [
    "## Tree (General Tree)"
   ]
  },
  {
   "cell_type": "code",
   "execution_count": null,
   "metadata": {},
   "outputs": [],
   "source": []
  },
  {
   "cell_type": "markdown",
   "metadata": {},
   "source": [
    "### Binary Tree"
   ]
  },
  {
   "cell_type": "code",
   "execution_count": 1,
   "metadata": {},
   "outputs": [
    {
     "name": "stdout",
     "output_type": "stream",
     "text": [
      "In-order traversal: [1, 4, 9, 17, 18, 20, 23, 34, 200]\n",
      "Pre-order traversal: [17, 4, 1, 9, 20, 18, 23, 34, 200]\n",
      "Post-order traversal: [1, 9, 4, 18, 200, 34, 23, 20, 17]\n",
      "Is 9 present in the tree? : True\n",
      "Is 50 present in the tree? : False\n",
      "Minimum element in the tree: 1\n",
      "Maximum element in the tree: 200\n",
      "Sum of all the elements in the tree: 326\n",
      "After deleting 20 from the tree: [1, 4, 9, 17, 18, 23, 34, 200]\n",
      "After deleting 4 from the tree: [1, 9, 17, 18, 23, 34, 200]\n"
     ]
    }
   ],
   "source": [
    "class BSTNode:\n",
    "    def __init__(self,data):\n",
    "        self.data=data\n",
    "        self.left=None\n",
    "        self.right=None\n",
    "    \n",
    "    def add_child(self,data):\n",
    "        if data==self.data:\n",
    "            return\n",
    "        if data<self.data:\n",
    "            # add this data in left sub tree\n",
    "            if self.left:\n",
    "                self.left.add_child(data)\n",
    "            else:\n",
    "                self.left=BSTNode(data)\n",
    "        else:\n",
    "            # add this data in right sub tree\n",
    "            if self.right:\n",
    "                self.right.add_child(data)\n",
    "            else:\n",
    "                self.right=BSTNode(data)\n",
    "    \n",
    "    def in_order_traversal(self):\n",
    "        elements=[]\n",
    "        # first visit the left sub tree\n",
    "        if self.left:\n",
    "            elements+=self.left.in_order_traversal()\n",
    "        # then visit the base node\n",
    "        elements.append(self.data)\n",
    "        # then visit the right sub tree\n",
    "        if self.right:\n",
    "            elements+=self.right.in_order_traversal()\n",
    "        return elements\n",
    "    \n",
    "    def pre_order_traversal(self):\n",
    "        elements=[]\n",
    "        # first visit the base node\n",
    "        elements.append(self.data)\n",
    "        # then visit the left sub tree\n",
    "        if self.left:\n",
    "            elements+=self.left.pre_order_traversal()\n",
    "        # then visit the right sub tree\n",
    "        if self.right:\n",
    "            elements+=self.right.pre_order_traversal()\n",
    "        return elements\n",
    "\n",
    "    def post_order_traversal(self):\n",
    "        elements=[]\n",
    "        # first visit the left sub tree\n",
    "        if self.left:\n",
    "            elements+=self.left.post_order_traversal()\n",
    "        # then visit the right sub tree\n",
    "        if self.right:\n",
    "            elements+=self.right.post_order_traversal()\n",
    "        # then visit the base node\n",
    "        elements.append(self.data)\n",
    "        return elements\n",
    "    \n",
    "    def search(self, val):\n",
    "        if self.data==val:\n",
    "            return True\n",
    "        if val<self.data:\n",
    "            # this means, val might be in the left sub tree\n",
    "            if self.left:\n",
    "                return self.left.search(val)\n",
    "            else:\n",
    "                return False\n",
    "        if val>self.data:\n",
    "            # this means, val might be in the right sub tree\n",
    "            if self.right:\n",
    "                return self.right.search(val)\n",
    "            else:\n",
    "                return False\n",
    "    \n",
    "    def find_min(self):\n",
    "        if self.left:\n",
    "            return self.left.find_min()\n",
    "        else:\n",
    "            return self.data\n",
    "\n",
    "    def find_max(self):\n",
    "        if self.right:\n",
    "            return self.right.find_max()\n",
    "        else:\n",
    "            return self.data\n",
    "\n",
    "    def calculate_sum(self):\n",
    "        return sum(self.in_order_traversal())\n",
    "    \n",
    "    def delete(self,val):\n",
    "        if val<self.data:\n",
    "            if self.left:\n",
    "                self.left=self.left.delete(val)\n",
    "            else:\n",
    "                return None\n",
    "        elif val>self.data:\n",
    "            if self.right:\n",
    "                self.right=self.right.delete(val)\n",
    "            else:\n",
    "                return None\n",
    "        else:\n",
    "            if self.left is None and self.right is None:\n",
    "                return None\n",
    "            if self.left is None:\n",
    "                return self.right\n",
    "            if self.right is None:\n",
    "                return self.left\n",
    "            ## replacing the value to be deleted with min value from it's right sub tree\n",
    "            # min_val=self.right.find_min()\n",
    "            # self.data=min_val\n",
    "            # self.right=self.right.delete(min_val)\n",
    "\n",
    "            ## replacing the value to be deleted with max value from it's left sub tree\n",
    "            max_val=self.left.find_max()\n",
    "            self.data=max_val\n",
    "            self.left=self.left.delete(max_val)\n",
    "        return self\n",
    "\n",
    "def build_tree(elements):\n",
    "    root = BSTNode(elements[0])\n",
    "    for i in range(1,len(elements)):\n",
    "        root.add_child(elements[i])\n",
    "    return root\n",
    "\n",
    "numbers=[17,4,1,20,9,23,18,34,200]\n",
    "numbers_tree=build_tree(numbers)\n",
    "print(f\"In-order traversal: {numbers_tree.in_order_traversal()}\")\n",
    "print(f\"Pre-order traversal: {numbers_tree.pre_order_traversal()}\")\n",
    "print(f\"Post-order traversal: {numbers_tree.post_order_traversal()}\")\n",
    "print(f\"Is 9 present in the tree? : {numbers_tree.search(9)}\")\n",
    "print(f\"Is 50 present in the tree? : {numbers_tree.search(50)}\")\n",
    "print(f\"Minimum element in the tree: {numbers_tree.find_min()}\")\n",
    "print(f\"Maximum element in the tree: {numbers_tree.find_max()}\")\n",
    "print(f\"Sum of all the elements in the tree: {numbers_tree.calculate_sum()}\")\n",
    "numbers_tree.delete(20)\n",
    "print(f\"After deleting 20 from the tree: {numbers_tree.in_order_traversal()}\")\n",
    "numbers_tree.delete(4)\n",
    "print(f\"After deleting 4 from the tree: {numbers_tree.in_order_traversal()}\")"
   ]
  },
  {
   "cell_type": "markdown",
   "metadata": {},
   "source": [
    "### Graph Introduction"
   ]
  },
  {
   "cell_type": "code",
   "execution_count": 2,
   "metadata": {},
   "outputs": [
    {
     "name": "stdout",
     "output_type": "stream",
     "text": [
      "Path between Mumbai and Dubai is: [['Mumbai', 'Paris', 'Dubai'], ['Mumbai', 'Dubai']]\n",
      "Path between Mumbai and New York is: [['Mumbai', 'Paris', 'Dubai', 'New York'], ['Mumbai', 'Paris', 'New York'], ['Mumbai', 'Dubai', 'New York']]\n",
      "Shortest path between Mumbai and New York is: ['Mumbai', 'Paris', 'New York']\n",
      "Shortest path between Mumbai and Dubai is: ['Mumbai', 'Dubai']\n"
     ]
    }
   ],
   "source": [
    "import math\n",
    "\n",
    "class Graph:\n",
    "    def __init__(self,edges):\n",
    "        self.edges=edges\n",
    "        self.graph_dict={}\n",
    "        for edge in self.edges:\n",
    "            if edge[0] not in self.graph_dict:\n",
    "                self.graph_dict.update({edge[0]: [edge[1]]})\n",
    "            else:\n",
    "                self.graph_dict[edge[0]].append(edge[1])\n",
    "        # print(self.edges)\n",
    "        # print(self.graph_dict)\n",
    "\n",
    "    def get_paths(self,start,end,path=[]):\n",
    "        path=path+[start]\n",
    "        if start==end:\n",
    "            return [path]\n",
    "        if start not in self.graph_dict:\n",
    "            return []\n",
    "        paths=[]\n",
    "        for node in self.graph_dict[start]:\n",
    "            if node not in path:\n",
    "                new_paths=self.get_paths(node,end,path)\n",
    "                for p in new_paths:\n",
    "                    paths.append(p)\n",
    "        return paths\n",
    "    \n",
    "    def get_shortest_path(self,start,end):\n",
    "        shortest_path=[]\n",
    "        shortest_path_length=math.inf\n",
    "        all_paths = self.get_paths(start,end)\n",
    "        for path in all_paths:\n",
    "            if len(path)<shortest_path_length:\n",
    "                shortest_path_length=len(path)\n",
    "                shortest_path=path\n",
    "        return shortest_path\n",
    "\n",
    "routes=[\n",
    "    (\"Mumbai\",\"Paris\"),\n",
    "    (\"Mumbai\",\"Dubai\"),\n",
    "    (\"Paris\",\"Dubai\"),\n",
    "    (\"Paris\",\"New York\"),\n",
    "    (\"Dubai\",\"New York\"),\n",
    "    (\"New York\",\"Toronto\")\n",
    "]\n",
    "\n",
    "route_graph=Graph(routes)\n",
    "start=\"Mumbai\"\n",
    "end=\"Dubai\"\n",
    "print(f\"Path between {start} and {end} is: {route_graph.get_paths(start,end)}\")\n",
    "start=\"Mumbai\"\n",
    "end=\"New York\"\n",
    "print(f\"Path between {start} and {end} is: {route_graph.get_paths(start,end)}\")\n",
    "start=\"Mumbai\"\n",
    "end=\"New York\"\n",
    "print(f\"Shortest path between {start} and {end} is: {route_graph.get_shortest_path(start,end)}\")\n",
    "start=\"Mumbai\"\n",
    "end=\"Dubai\"\n",
    "print(f\"Shortest path between {start} and {end} is: {route_graph.get_shortest_path(start,end)}\")"
   ]
  },
  {
   "cell_type": "markdown",
   "metadata": {},
   "source": [
    "### Binary Search"
   ]
  },
  {
   "cell_type": "code",
   "execution_count": 2,
   "metadata": {},
   "outputs": [
    {
     "name": "stdout",
     "output_type": "stream",
     "text": [
      "Checking the iterative function\n",
      "Target found at index 11\n",
      "Checking the recursive function\n",
      "Target found at index 11\n"
     ]
    }
   ],
   "source": [
    "def binary_search(nums,target):\n",
    "    start=0\n",
    "    end=len(nums)-1\n",
    "    while start<=end:\n",
    "        mid=(start+end)//2\n",
    "        if nums[mid]==target:\n",
    "            return mid\n",
    "        if target<nums[mid]:\n",
    "            end=mid-1\n",
    "        if target>nums[mid]:\n",
    "            start=mid+1\n",
    "    return -1\n",
    "\n",
    "def binary_search_recursive(nums,target,start,end):\n",
    "    if end<start:\n",
    "        return -1\n",
    "    mid=(start+end)//2\n",
    "    if nums[mid]==target:\n",
    "        return mid\n",
    "    if target<nums[mid]:\n",
    "        return binary_search_recursive(nums,target,start,mid-1)\n",
    "    if target>nums[mid]:\n",
    "        return binary_search_recursive(nums,target,mid+1,end)\n",
    "\n",
    "nums=[1,2,3,4,5,6,7,8,9,12,13,45,60]\n",
    "target=int(input(\"Enter target value to search: \"))\n",
    "## checking the iterative function\n",
    "print(\"Checking the iterative function\")\n",
    "res = binary_search(nums,target)\n",
    "if res==-1:\n",
    "    print(\"Target not found!\")\n",
    "else:\n",
    "    print(f\"Target found at index {res}\")\n",
    "\n",
    "## checking the recursive function\n",
    "print(\"Checking the recursive function\")\n",
    "res = binary_search_recursive(nums,target,0,len(nums)-1)\n",
    "if res==-1:\n",
    "    print(\"Target not found!\")\n",
    "else:\n",
    "    print(f\"Target found at index {res}\")"
   ]
  },
  {
   "cell_type": "markdown",
   "metadata": {},
   "source": [
    "### Bubble Sort"
   ]
  },
  {
   "cell_type": "code",
   "execution_count": 19,
   "metadata": {},
   "outputs": [
    {
     "name": "stdout",
     "output_type": "stream",
     "text": [
      "Loop count: 54\n",
      "[1, 2, 3, 4, 5, 6, 7, 8, 9]\n",
      "------------------------------\n",
      "Loop count: 32\n",
      "[1, 2, 5, 9, 34, 34, 67, 88]\n",
      "------------------------------\n",
      "Loop count: 10\n",
      "[1, 2, 3, 4, 5, 6, 7, 8, 9, 10]\n",
      "Time: 0.0006511211395263672\n"
     ]
    }
   ],
   "source": [
    "import time\n",
    "\n",
    "def bubble_sort(elements):\n",
    "    size=len(elements)\n",
    "    count=0\n",
    "    for _ in range(size):\n",
    "        swap_flag=False\n",
    "        count+=1\n",
    "        for i in range(size-1):\n",
    "            count+=1\n",
    "            if elements[i]>elements[i+1]:\n",
    "                elements[i],elements[i+1]=elements[i+1],elements[i]\n",
    "                swap_flag=True\n",
    "        if not swap_flag:\n",
    "            break\n",
    "    print(f\"Loop count: {count}\")\n",
    "\n",
    "t1=time.time()\n",
    "nums=[6,8,3,5,1,9,2,7,4]\n",
    "bubble_sort(nums)\n",
    "print(nums)\n",
    "print(\"------------------------------\")\n",
    "nums=[5,9,2,1,67,34,88,34]\n",
    "bubble_sort(nums)\n",
    "print(nums)\n",
    "print(\"------------------------------\")\n",
    "nums=[1,2,3,4,5,6,7,8,9,10]\n",
    "bubble_sort(nums)\n",
    "print(nums)\n",
    "t2=time.time()\n",
    "print(f\"Time: {t2-t1}\")"
   ]
  },
  {
   "cell_type": "markdown",
   "metadata": {},
   "source": [
    "### Quick Sort"
   ]
  },
  {
   "cell_type": "code",
   "execution_count": 21,
   "metadata": {},
   "outputs": [
    {
     "name": "stdout",
     "output_type": "stream",
     "text": [
      "Quick sort implementation pending!!\n",
      "[6, 8, 3, 5, 1, 9, 2, 7, 4]\n",
      "------------------------------\n",
      "Quick sort implementation pending!!\n",
      "[5, 9, 2, 1, 67, 34, 88, 34]\n",
      "Time: 0.0006721019744873047\n"
     ]
    }
   ],
   "source": [
    "import time\n",
    "\n",
    "def quick_sort(elements):\n",
    "    print(\"Quick sort implementation pending!!\")\n",
    "\n",
    "t1=time.time()\n",
    "nums=[6,8,3,5,1,9,2,7,4]\n",
    "quick_sort(nums)\n",
    "print(nums)\n",
    "print(\"------------------------------\")\n",
    "nums=[5,9,2,1,67,34,88,34]\n",
    "quick_sort(nums)\n",
    "print(nums)\n",
    "t2=time.time()\n",
    "print(f\"Time: {t2-t1}\")"
   ]
  }
 ],
 "metadata": {
  "kernelspec": {
   "display_name": "Python 3.8.10 64-bit",
   "language": "python",
   "name": "python3"
  },
  "language_info": {
   "codemirror_mode": {
    "name": "ipython",
    "version": 3
   },
   "file_extension": ".py",
   "mimetype": "text/x-python",
   "name": "python",
   "nbconvert_exporter": "python",
   "pygments_lexer": "ipython3",
   "version": "3.10.4"
  },
  "vscode": {
   "interpreter": {
    "hash": "31f2aee4e71d21fbe5cf8b01ff0e069b9275f58929596ceb00d14d90e3e16cd6"
   }
  }
 },
 "nbformat": 4,
 "nbformat_minor": 2
}
