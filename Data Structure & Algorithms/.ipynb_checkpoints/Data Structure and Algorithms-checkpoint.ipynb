{
 "cells": [
  {
   "cell_type": "markdown",
   "metadata": {},
   "source": [
    "# Data Structure and Algorithms"
   ]
  },
  {
   "cell_type": "code",
   "execution_count": 1,
   "metadata": {},
   "outputs": [],
   "source": [
    "# https://www.youtube.com/watch?v=_t2GVaQasRY&list=PLeo1K3hjS3uu_n_a__MI_KktGTLYopZ12&ab_channel=codebasics"
   ]
  },
  {
   "cell_type": "markdown",
   "metadata": {},
   "source": [
    "## Singly Linked List"
   ]
  },
  {
   "cell_type": "code",
   "execution_count": 34,
   "metadata": {},
   "outputs": [
    {
     "name": "stdout",
     "output_type": "stream",
     "text": [
      "Head--> 6 --> 5 --> 9 --> 15 --> Soumen --> Shouvik --> Null\n",
      "Linked List length: 6\n",
      "Head--> 6 --> 5 --> 15 --> Soumen --> Shouvik --> Null\n",
      "Linked List length: 5\n",
      "Head--> 6 --> 5 --> 15 --> Soumen --> Null\n",
      "Linked List length: 4\n",
      "Head--> 6 --> 5 --> Shouvik --> 15 --> Soumen --> Null\n",
      "Linked List length: 5\n",
      "Head--> 100 --> 6 --> 5 --> Shouvik --> 15 --> Soumen --> Null\n",
      "Linked List length: 6\n"
     ]
    }
   ],
   "source": [
    "class Node:\n",
    "    def __init__(self,data=None,next=None):\n",
    "        self.data = data\n",
    "        self.next = next\n",
    "\n",
    "class LinkedList:\n",
    "    def __init__(self):\n",
    "        self.head = None\n",
    "    \n",
    "    def insert_at_begining(self, data):\n",
    "        node = Node(data, self.head)\n",
    "        self.head = node\n",
    "    \n",
    "    def insert_at_end(self, data):\n",
    "        node = Node(data, None)\n",
    "        if self.head == None:\n",
    "            self.head = node\n",
    "            return\n",
    "        itr = self.head\n",
    "        while itr.next:\n",
    "            itr = itr.next\n",
    "        itr.next = node\n",
    "    \n",
    "    def insert_values(self, data_list):\n",
    "        for data in data_list:\n",
    "            self.insert_at_end(data)\n",
    "    \n",
    "    def insert_at(self, index, data):\n",
    "        node = Node(data, None)\n",
    "        if index<0 or index>self.get_length():\n",
    "            print(\"invalid index\")\n",
    "            return\n",
    "        if index==0:\n",
    "            self.insert_at_begining(data)\n",
    "            return\n",
    "        count=0\n",
    "        itr = self.head\n",
    "        while itr:\n",
    "            if (count+1)==index:\n",
    "                node.next = itr.next\n",
    "                itr.next = node\n",
    "                return\n",
    "            itr = itr.next\n",
    "            count+=1\n",
    "        \n",
    "    def remove_at(self, index):\n",
    "        itr = self.head\n",
    "        count=0\n",
    "        while itr:\n",
    "            if index < 0:\n",
    "                print(\"invalid index\")\n",
    "                return\n",
    "            if index == 0:\n",
    "                self.head = (self.head).next\n",
    "                return\n",
    "            if itr.next == None:\n",
    "                print(\"invalid index\")\n",
    "                return\n",
    "            if (count+1)==index:\n",
    "                itr.next = (itr.next).next\n",
    "                return\n",
    "            itr = itr.next\n",
    "            count+=1\n",
    "    \n",
    "    def remove_data(self, data_to_remove):\n",
    "        itr = self.head\n",
    "        while itr:\n",
    "            if (itr.next).data == data_to_remove:\n",
    "                itr.next = (itr.next).next\n",
    "                return\n",
    "            itr = itr.next\n",
    "    \n",
    "    def print_elements(self):\n",
    "        if self.head == None:\n",
    "            print(\"Linked List is empty.\")\n",
    "            return\n",
    "        itr = self.head\n",
    "        llstr = \"Head--> \"\n",
    "        while itr:\n",
    "            llstr += str(itr.data) + \" --> \"\n",
    "            itr = itr.next\n",
    "        llstr += \"Null\"\n",
    "        print(llstr)\n",
    "    \n",
    "    def get_length(self):\n",
    "        count = 0\n",
    "        itr = self.head\n",
    "        while itr:\n",
    "            count += 1\n",
    "            itr = itr.next\n",
    "        return count\n",
    "\n",
    "ll = LinkedList()\n",
    "ll.insert_at_begining(5)\n",
    "ll.insert_at_begining(6)\n",
    "ll.insert_at_end(9)\n",
    "ll.insert_at_end(15)\n",
    "ll.insert_values([\"Soumen\",\"Shouvik\"])\n",
    "ll.print_elements()\n",
    "print(f\"Linked List length: {ll.get_length()}\")\n",
    "ll.remove_at(2)\n",
    "ll.print_elements()\n",
    "print(f\"Linked List length: {ll.get_length()}\")\n",
    "ll.remove_data(\"Shouvik\")\n",
    "ll.print_elements()\n",
    "print(f\"Linked List length: {ll.get_length()}\")\n",
    "ll.insert_at(2, \"Shouvik\")\n",
    "ll.print_elements()\n",
    "print(f\"Linked List length: {ll.get_length()}\")\n",
    "ll.insert_at(0, 100)\n",
    "ll.print_elements()\n",
    "print(f\"Linked List length: {ll.get_length()}\")"
   ]
  },
  {
   "cell_type": "markdown",
   "metadata": {},
   "source": [
    "## Doubly Linked List"
   ]
  },
  {
   "cell_type": "code",
   "execution_count": 46,
   "metadata": {},
   "outputs": [
    {
     "name": "stdout",
     "output_type": "stream",
     "text": [
      "Head <--> Mango <--> 100 <--> Shouvik <--> 3 <--> 2 <--> 1 <--> Null\n",
      "Null <--> 1 <--> 2 <--> 3 <--> Shouvik <--> 100 <--> Mango <--> Head\n"
     ]
    }
   ],
   "source": [
    "class Node:\n",
    "    def __init__(self,data=None,prev=None,next=None):\n",
    "        self.data = data\n",
    "        self.prev = prev\n",
    "        self.next = next\n",
    "\n",
    "class LinkedList:\n",
    "    def __init__(self):\n",
    "        self.head = Node(None,None,None)\n",
    "        \n",
    "    def insert_at_begining(self, data):\n",
    "        node = Node(data, self.head, self.head.next)\n",
    "        if self.head.next != None:\n",
    "            next_node = self.head.next\n",
    "            next_node.prev = node\n",
    "        self.head.next = node\n",
    "    \n",
    "    def insert_values(self, datas):\n",
    "        for data in datas:\n",
    "            self.insert_at_begining(data)\n",
    "    \n",
    "    def print_forward(self):\n",
    "        if self.head.next == None:\n",
    "            print(\"Linked List is empty.\")\n",
    "            return\n",
    "        itr = self.head.next\n",
    "        llstr = \"Head <--> \"\n",
    "        while itr:\n",
    "            llstr += str(itr.data) + \" <--> \"\n",
    "            itr = itr.next\n",
    "        llstr += \"Null\"\n",
    "        print(llstr)\n",
    "    \n",
    "    def print_backward(self):\n",
    "        if self.head.next == None:\n",
    "            print(\"Linked List is empty.\")\n",
    "            return\n",
    "        itr = self.head.next\n",
    "        llstr = \"Null <--> \"\n",
    "        while itr.next:\n",
    "            itr = itr.next\n",
    "        while itr.prev:\n",
    "            llstr += str(itr.data) + \" <--> \"\n",
    "            itr = itr.prev\n",
    "        llstr += \"Head\"\n",
    "        print(llstr)\n",
    "\n",
    "ll = LinkedList()\n",
    "ll.insert_values([1,2,3,\"Shouvik\",100,\"Mango\"])\n",
    "ll.print_forward()\n",
    "ll.print_backward()"
   ]
  },
  {
   "cell_type": "markdown",
   "metadata": {},
   "source": [
    "## Hash Table"
   ]
  },
  {
   "cell_type": "code",
   "execution_count": 65,
   "metadata": {},
   "outputs": [
    {
     "name": "stdout",
     "output_type": "stream",
     "text": [
      "March 8: 100\n",
      "March 6: 130\n",
      "December 22: 300\n",
      "December 20: 208\n",
      "105\n",
      "None\n"
     ]
    }
   ],
   "source": [
    "class HashTable:\n",
    "    def __init__(self):\n",
    "        self.MAX = 100\n",
    "        self.arr = [set() for i in range(self.MAX)]\n",
    "    \n",
    "    def get_hash(self, key):\n",
    "        h = 0\n",
    "        for char in key:\n",
    "            h += ord(char)\n",
    "        return h%self.MAX\n",
    "    \n",
    "    def add(self,key,val):\n",
    "        h = self.get_hash(key)\n",
    "        self.arr[h] = val\n",
    "    \n",
    "    def get(self,key):\n",
    "        return self.arr[self.get_hash(key)]\n",
    "    \n",
    "    def __setitem__(self,key,val):\n",
    "        h = self.get_hash(key)\n",
    "        self.arr[h] = val\n",
    "    \n",
    "    def __getitem__(self,key):\n",
    "        return self.arr[self.get_hash(key)]\n",
    "    \n",
    "    def __delitem__(self,key):\n",
    "        self.arr[self.get_hash(key)] = None\n",
    "\n",
    "ht = HashTable()\n",
    "ht.add(\"march 6\",130)\n",
    "ht.add(\"march 8\",100)\n",
    "print(f\"March 8: {ht.get('march 8')}\")\n",
    "print(f\"March 6: {ht.get('march 6')}\")\n",
    "\n",
    "ht[\"december 20\"] = 208\n",
    "ht[\"december 22\"] = 300\n",
    "print(f\"December 22: {ht['december 22']}\")\n",
    "print(f\"December 20: {ht['december 20']}\")\n",
    "\n",
    "ht[\"january 02\"] = 105\n",
    "print(ht[\"january 02\"])\n",
    "del ht[\"january 02\"]\n",
    "print(ht[\"january 02\"])"
   ]
  },
  {
   "cell_type": "code",
   "execution_count": 118,
   "metadata": {},
   "outputs": [],
   "source": [
    "# handling collisions\n",
    "\n",
    "class HashTable2:\n",
    "    def __init__(self):\n",
    "        self.MAX = 100\n",
    "        self.arr = [[] for i in range(self.MAX)]\n",
    "    \n",
    "    def get_hash(self, key):\n",
    "        h = 0\n",
    "        for char in key:\n",
    "            h += ord(char)\n",
    "        return h%self.MAX\n",
    "    \n",
    "    def __setitem__(self,key,val):\n",
    "        h = self.get_hash(key)\n",
    "        found = False\n",
    "        for index,element in enumerate(self.arr[h]):\n",
    "            if len(element)==2 and element[0]==key:\n",
    "                self.arr[h][index] = (key,val)\n",
    "                found = True\n",
    "                break\n",
    "        if not found:\n",
    "            self.arr[h].append((key,val))\n",
    "    \n",
    "    def __getitem__(self,key):\n",
    "        h = self.get_hash(key)\n",
    "        for element in self.arr[h]:\n",
    "            if element[0]==key:\n",
    "                return element[1]\n",
    "    \n",
    "    def __delitem__(self,key):\n",
    "        h = self.get_hash(key)\n",
    "        for index, element in enumerate(self.arr[h]):\n",
    "            if element[0] == key:\n",
    "                del self.arr[h][index]"
   ]
  },
  {
   "cell_type": "code",
   "execution_count": 119,
   "metadata": {},
   "outputs": [],
   "source": [
    "ht2 = HashTable2()"
   ]
  },
  {
   "cell_type": "code",
   "execution_count": 114,
   "metadata": {},
   "outputs": [
    {
     "data": {
      "text/plain": [
       "54"
      ]
     },
     "execution_count": 114,
     "metadata": {},
     "output_type": "execute_result"
    }
   ],
   "source": [
    "ht2.get_hash(\"march 12\")"
   ]
  },
  {
   "cell_type": "code",
   "execution_count": 113,
   "metadata": {},
   "outputs": [
    {
     "data": {
      "text/plain": [
       "54"
      ]
     },
     "execution_count": 113,
     "metadata": {},
     "output_type": "execute_result"
    }
   ],
   "source": [
    "ht2.get_hash(\"march 21\")"
   ]
  },
  {
   "cell_type": "code",
   "execution_count": 120,
   "metadata": {},
   "outputs": [],
   "source": [
    "ht2[\"march 12\"] = 100\n",
    "ht2[\"march 21\"] = 150"
   ]
  },
  {
   "cell_type": "code",
   "execution_count": 110,
   "metadata": {},
   "outputs": [
    {
     "data": {
      "text/plain": [
       "100"
      ]
     },
     "execution_count": 110,
     "metadata": {},
     "output_type": "execute_result"
    }
   ],
   "source": [
    "ht2[\"march 12\"]"
   ]
  },
  {
   "cell_type": "code",
   "execution_count": 111,
   "metadata": {},
   "outputs": [
    {
     "data": {
      "text/plain": [
       "150"
      ]
     },
     "execution_count": 111,
     "metadata": {},
     "output_type": "execute_result"
    }
   ],
   "source": [
    "ht2[\"march 21\"]"
   ]
  },
  {
   "cell_type": "code",
   "execution_count": 128,
   "metadata": {},
   "outputs": [],
   "source": [
    "del ht2[\"march 21\"]"
   ]
  },
  {
   "cell_type": "markdown",
   "metadata": {},
   "source": [
    "## Tree (General Tree)"
   ]
  },
  {
   "cell_type": "code",
   "execution_count": null,
   "metadata": {},
   "outputs": [],
   "source": []
  },
  {
   "cell_type": "code",
   "execution_count": null,
   "metadata": {},
   "outputs": [],
   "source": []
  },
  {
   "cell_type": "code",
   "execution_count": null,
   "metadata": {},
   "outputs": [],
   "source": []
  },
  {
   "cell_type": "code",
   "execution_count": null,
   "metadata": {},
   "outputs": [],
   "source": []
  },
  {
   "cell_type": "code",
   "execution_count": null,
   "metadata": {},
   "outputs": [],
   "source": []
  },
  {
   "cell_type": "code",
   "execution_count": null,
   "metadata": {},
   "outputs": [],
   "source": []
  },
  {
   "cell_type": "code",
   "execution_count": null,
   "metadata": {},
   "outputs": [],
   "source": []
  }
 ],
 "metadata": {
  "kernelspec": {
   "display_name": "Python 3",
   "language": "python",
   "name": "python3"
  },
  "language_info": {
   "codemirror_mode": {
    "name": "ipython",
    "version": 3
   },
   "file_extension": ".py",
   "mimetype": "text/x-python",
   "name": "python",
   "nbconvert_exporter": "python",
   "pygments_lexer": "ipython3",
   "version": "3.7.4"
  }
 },
 "nbformat": 4,
 "nbformat_minor": 2
}
