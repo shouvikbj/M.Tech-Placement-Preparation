{
 "cells": [
  {
   "cell_type": "markdown",
   "metadata": {},
   "source": [
    "# Dynamic Programming Practice"
   ]
  },
  {
   "cell_type": "code",
   "execution_count": 1,
   "metadata": {},
   "outputs": [],
   "source": [
    "import time"
   ]
  },
  {
   "cell_type": "markdown",
   "metadata": {},
   "source": [
    "## Fibonacci Series (Memoization)"
   ]
  },
  {
   "cell_type": "markdown",
   "metadata": {},
   "source": [
    "### Without Dynamic Programming"
   ]
  },
  {
   "cell_type": "code",
   "execution_count": 2,
   "metadata": {},
   "outputs": [
    {
     "name": "stdout",
     "output_type": "stream",
     "text": [
      "9227465\n",
      "102334155\n",
      "Time taken: 17.822462797164917\n"
     ]
    }
   ],
   "source": [
    "def fib(n):\n",
    "    if n<=2:\n",
    "        return 1\n",
    "    else:\n",
    "        return fib(n-1)+fib(n-2)\n",
    "\n",
    "t1 = time.time()\n",
    "print(fib(35))\n",
    "print(fib(40))\n",
    "t2 = time.time()\n",
    "print(f\"Time taken: {t2-t1}\")"
   ]
  },
  {
   "cell_type": "markdown",
   "metadata": {},
   "source": [
    "### With Dynamic Programming"
   ]
  },
  {
   "cell_type": "code",
   "execution_count": 19,
   "metadata": {},
   "outputs": [
    {
     "name": "stdout",
     "output_type": "stream",
     "text": [
      "9227465\n",
      "102334155\n",
      "Time taken: 0.00036334991455078125\n"
     ]
    }
   ],
   "source": [
    "memo={}\n",
    "\n",
    "def fib(n):\n",
    "    if n<=2:\n",
    "        return 1\n",
    "    else:\n",
    "        if n in memo.keys():\n",
    "            return memo[n]\n",
    "        else:\n",
    "            memo.update({n: fib(n-1)+fib(n-2)})\n",
    "            return memo[n]\n",
    "\n",
    "t1 = time.time()\n",
    "print(fib(35))\n",
    "memo={}\n",
    "print(fib(40))\n",
    "t2 = time.time()\n",
    "print(f\"Time taken: {t2-t1}\")"
   ]
  },
  {
   "cell_type": "code",
   "execution_count": 7,
   "metadata": {},
   "outputs": [],
   "source": [
    "###############################################################################################################"
   ]
  },
  {
   "cell_type": "markdown",
   "metadata": {},
   "source": [
    "## Grid Traveller (Memoization)"
   ]
  },
  {
   "cell_type": "code",
   "execution_count": 6,
   "metadata": {},
   "outputs": [],
   "source": [
    "# Say that you are a traveller on a 2D grid.\n",
    "# You begin in the top-left corner and your goal is to travel to the bottom-right corner.\n",
    "# You may only move down or right.\n",
    "# In how many ways can you travel to the goal on a grid with dimensions (m*n)?"
   ]
  },
  {
   "cell_type": "markdown",
   "metadata": {},
   "source": [
    "### Without Dynamic Programming"
   ]
  },
  {
   "cell_type": "code",
   "execution_count": 4,
   "metadata": {},
   "outputs": [
    {
     "name": "stdout",
     "output_type": "stream",
     "text": [
      "1\n",
      "3\n",
      "3\n",
      "6\n",
      "40116600\n",
      "Time taken: 27.59752917289734\n"
     ]
    }
   ],
   "source": [
    "def grid_traveller(m,n):\n",
    "    if m==1 and n==1:\n",
    "        return 1\n",
    "    if m==0 or n==0:\n",
    "        return 0\n",
    "    return grid_traveller(m-1,n)+grid_traveller(m,n-1)\n",
    "\n",
    "t1 = time.time()\n",
    "print(grid_traveller(1, 1))  # 1\n",
    "print(grid_traveller(2, 3))  # 3\n",
    "print(grid_traveller(3, 2))  # 3\n",
    "print(grid_traveller(3, 3))  # 6\n",
    "print(grid_traveller(15, 15))  # 40116600\n",
    "#print(grid_traveller(18, 18))  # 2333606220\n",
    "t2 = time.time()\n",
    "print(f\"Time taken: {t2-t1}\")"
   ]
  },
  {
   "cell_type": "markdown",
   "metadata": {},
   "source": [
    "### With Dynamic Programming"
   ]
  },
  {
   "cell_type": "code",
   "execution_count": 17,
   "metadata": {},
   "outputs": [
    {
     "name": "stdout",
     "output_type": "stream",
     "text": [
      "1\n",
      "3\n",
      "3\n",
      "6\n",
      "40116600\n",
      "2333606220\n",
      "Time taken: 0.0026810169219970703\n"
     ]
    }
   ],
   "source": [
    "memo={}\n",
    "\n",
    "def grid_traveller(m,n):\n",
    "    if m==1 and n==1:\n",
    "        return 1\n",
    "    if m==0 or n==0:\n",
    "        return 0\n",
    "    # grid_traveller(m-1, n) -> moving down && grid_traveller(m, n-1) -> moving right\n",
    "    if f\"{m},{n}\" in memo.keys() or f\"{n},{m}\" in memo.keys():\n",
    "        return memo[f\"{m},{n}\"]\n",
    "    else:\n",
    "        memo.update({f\"{m},{n}\": grid_traveller(m-1,n)+grid_traveller(m,n-1),f\"{n},{m}\": grid_traveller(m-1,n)+grid_traveller(m,n-1)})\n",
    "        return memo[f\"{m},{n}\"]\n",
    "\n",
    "t1 = time.time()\n",
    "print(grid_traveller(1, 1))  # 1\n",
    "memo={}\n",
    "print(grid_traveller(2, 3))  # 3\n",
    "memo={}\n",
    "print(grid_traveller(3, 2))  # 3\n",
    "memo={}\n",
    "print(grid_traveller(3, 3))  # 6\n",
    "memo={}\n",
    "print(grid_traveller(15, 15))  # 40116600\n",
    "memo={}\n",
    "print(grid_traveller(18, 18))  # 2333606220\n",
    "t2 = time.time()\n",
    "print(f\"Time taken: {t2-t1}\")"
   ]
  },
  {
   "cell_type": "code",
   "execution_count": 7,
   "metadata": {},
   "outputs": [],
   "source": [
    "###############################################################################################################"
   ]
  },
  {
   "cell_type": "markdown",
   "metadata": {},
   "source": [
    "## Can Sum (Memoization) (Decision Problem)"
   ]
  },
  {
   "cell_type": "code",
   "execution_count": 23,
   "metadata": {},
   "outputs": [],
   "source": [
    "# Write a function 'canSum(targetSum, numbers)' that takes in a targetSum and an array of numbers as arguments\n",
    "# The function should return a boolean indicating whether or not it is possible to generate the targetSum using numbers from the array.\n",
    "# You may use an element of the array as many times as needed.\n",
    "# You may assume that all input numbers are non-negative."
   ]
  },
  {
   "cell_type": "markdown",
   "metadata": {},
   "source": [
    "### Without Dynamic Programming"
   ]
  },
  {
   "cell_type": "code",
   "execution_count": 6,
   "metadata": {},
   "outputs": [
    {
     "name": "stdout",
     "output_type": "stream",
     "text": [
      "True\n",
      "True\n",
      "False\n",
      "True\n",
      "False\n",
      "Time taken: 10.757178544998169\n"
     ]
    }
   ],
   "source": [
    "def canSum(targetSum, numbers):\n",
    "    if targetSum == 0:\n",
    "        return True\n",
    "    if targetSum<0:\n",
    "        return False\n",
    "    for num in numbers:\n",
    "        remainder = targetSum - num\n",
    "        if canSum(remainder, numbers) == True:\n",
    "            return True\n",
    "    return False\n",
    "\n",
    "t1 = time.time()\n",
    "print(canSum(7, [2,3])) # true\n",
    "print(canSum(7, [5,3,4,7])) # true\n",
    "print(canSum(7, [2,4])) # false\n",
    "print(canSum(8, [2,3,5])) # true\n",
    "print(canSum(250, [7,14])) # false\n",
    "t2 = time.time()\n",
    "print(f\"Time taken: {t2-t1}\")"
   ]
  },
  {
   "cell_type": "markdown",
   "metadata": {},
   "source": [
    "### With Dynamic Programming"
   ]
  },
  {
   "cell_type": "code",
   "execution_count": 16,
   "metadata": {},
   "outputs": [
    {
     "name": "stdout",
     "output_type": "stream",
     "text": [
      "True\n",
      "True\n",
      "False\n",
      "True\n",
      "False\n",
      "Time taken: 0.0007028579711914062\n"
     ]
    }
   ],
   "source": [
    "memo = {}\n",
    "\n",
    "def canSum(targetSum, numbers):\n",
    "    if targetSum == 0:\n",
    "        return True\n",
    "    if targetSum<0:\n",
    "        return False\n",
    "    if targetSum in memo.keys():\n",
    "        return memo[targetSum]\n",
    "    \n",
    "    for num in numbers:\n",
    "        remainder = targetSum - num\n",
    "        if canSum(remainder, numbers) == True:\n",
    "            memo.update({targetSum: True})\n",
    "            return True\n",
    "            \n",
    "    memo.update({targetSum: False})\n",
    "    return False\n",
    "\n",
    "t1 = time.time()\n",
    "print(canSum(7, [2,3])) # true\n",
    "memo = {}\n",
    "print(canSum(7, [5,3,4,7])) # true\n",
    "memo = {}\n",
    "print(canSum(7, [2,4])) # false\n",
    "memo = {}\n",
    "print(canSum(8, [2,3,5])) # true\n",
    "memo = {}\n",
    "print(canSum(250, [7,14])) # false\n",
    "t2 = time.time()\n",
    "print(f\"Time taken: {t2-t1}\")"
   ]
  },
  {
   "cell_type": "code",
   "execution_count": 7,
   "metadata": {},
   "outputs": [],
   "source": [
    "###############################################################################################################"
   ]
  },
  {
   "cell_type": "markdown",
   "metadata": {},
   "source": [
    "## How Sum (Memoization) (Combinatoric Problem)"
   ]
  },
  {
   "cell_type": "code",
   "execution_count": 3,
   "metadata": {},
   "outputs": [],
   "source": [
    "# Write a function 'howSum(targetSum, numbers)' that takes in a targetSum and an array of numbers as arguments.\n",
    "# The function should return an array containing any combination of elements that add upto exactly the targetSum. If there is no combination that adds upto the targetSum, then return null.\n",
    "# If there are multiple combinations possible, you may return any single one."
   ]
  },
  {
   "cell_type": "markdown",
   "metadata": {},
   "source": [
    "### Without Dynamic Prgramming"
   ]
  },
  {
   "cell_type": "code",
   "execution_count": 26,
   "metadata": {},
   "outputs": [
    {
     "name": "stdout",
     "output_type": "stream",
     "text": [
      "[3, 2, 2]\n",
      "[4, 3]\n",
      "None\n",
      "[2, 2, 2, 2]\n",
      "None\n",
      "Time taken: 11.348965167999268\n"
     ]
    }
   ],
   "source": [
    "def howSum(targetSum, numbers):\n",
    "    if targetSum == 0:\n",
    "        return []\n",
    "    if targetSum < 0:\n",
    "        return None\n",
    "    \n",
    "    for num in numbers:\n",
    "        remainder = targetSum - num\n",
    "        remainderResult = howSum(remainder, numbers)\n",
    "        if remainderResult != None:\n",
    "            remainderResult += [num]\n",
    "            return remainderResult\n",
    "    return None\n",
    "            \n",
    "\n",
    "t1 = time.time()\n",
    "print(howSum(7, [2,3])) # [3,2,2]\n",
    "print(howSum(7, [5,3,4,7])) # [4,3]\n",
    "print(howSum(7, [2,4])) # None\n",
    "print(howSum(8, [2,3,5])) # [2,2,2,2]\n",
    "print(howSum(250, [7,14])) # None\n",
    "t2 = time.time()\n",
    "print(f\"Time taken: {t2-t1}\")"
   ]
  },
  {
   "cell_type": "markdown",
   "metadata": {},
   "source": [
    "### With Dynamic Programming"
   ]
  },
  {
   "cell_type": "code",
   "execution_count": 25,
   "metadata": {},
   "outputs": [
    {
     "name": "stdout",
     "output_type": "stream",
     "text": [
      "[3, 2, 2]\n",
      "[4, 3]\n",
      "None\n",
      "[2, 2, 2, 2]\n",
      "None\n",
      "None\n",
      "Time taken: 0.0009450912475585938\n"
     ]
    }
   ],
   "source": [
    "memo = {}\n",
    "\n",
    "def howSum(targetSum, numbers):\n",
    "    if targetSum == 0:\n",
    "        return []\n",
    "    if targetSum < 0:\n",
    "        return None\n",
    "    if targetSum in memo.keys():\n",
    "        return memo[targetSum]\n",
    "    \n",
    "    for num in numbers:\n",
    "        remainder = targetSum - num\n",
    "        remainderResult = howSum(remainder, numbers)\n",
    "        if remainderResult != None:\n",
    "            remainderResult += [num]\n",
    "            memo.update({targetSum: remainderResult})\n",
    "            return memo[targetSum]\n",
    "    memo.update({targetSum: None})\n",
    "    return None\n",
    "            \n",
    "\n",
    "t1 = time.time()\n",
    "print(howSum(7, [2,3])) # [3,2,2]\n",
    "memo = {}\n",
    "print(howSum(7, [5,3,4,7])) # [4,3]\n",
    "memo = {}\n",
    "print(howSum(7, [2,4])) # None\n",
    "memo = {}\n",
    "print(howSum(8, [2,3,5])) # [2,2,2,2]\n",
    "memo = {}\n",
    "print(howSum(250, [7,14])) # None\n",
    "memo = {}\n",
    "print(howSum(300, [7,14])) # None\n",
    "t2 = time.time()\n",
    "print(f\"Time taken: {t2-t1}\")"
   ]
  },
  {
   "cell_type": "code",
   "execution_count": 7,
   "metadata": {},
   "outputs": [],
   "source": [
    "###############################################################################################################"
   ]
  },
  {
   "cell_type": "markdown",
   "metadata": {},
   "source": [
    "## Best Sum (Memoization) (Optimization Problem)"
   ]
  },
  {
   "cell_type": "code",
   "execution_count": 24,
   "metadata": {},
   "outputs": [],
   "source": [
    "# Write a function 'bestSum(targetSum, numbers)' that takes in a targetSum and an array of numbers as arguments.\n",
    "# The function should return an array containing the shortest combination of numbers that add upto exactly the targetSum.\n",
    "# If there is a tie for the shortest combination, you may return any one of the shortest."
   ]
  },
  {
   "cell_type": "markdown",
   "metadata": {},
   "source": [
    "### Without Dynamic Programming"
   ]
  },
  {
   "cell_type": "code",
   "execution_count": 3,
   "metadata": {
    "scrolled": false
   },
   "outputs": [
    {
     "name": "stdout",
     "output_type": "stream",
     "text": [
      "[7]\n",
      "[5, 3]\n",
      "[4, 4]\n",
      "Time taken: 0.0003714561462402344\n"
     ]
    }
   ],
   "source": [
    "def bestSum(targetSum, numbers):\n",
    "    if targetSum == 0:\n",
    "        return []\n",
    "    if targetSum < 0:\n",
    "        return None\n",
    "    \n",
    "    shortestCombination = None\n",
    "    \n",
    "    for num in numbers:\n",
    "        remainder = targetSum - num\n",
    "        remainderCombination = bestSum(remainder, numbers)\n",
    "        if remainderCombination != None:\n",
    "            combination = remainderCombination + [num]\n",
    "            if shortestCombination == None or len(combination) < len(shortestCombination):\n",
    "                shortestCombination = combination\n",
    "    \n",
    "    return shortestCombination\n",
    "\n",
    "t1 = time.time()\n",
    "print(bestSum(7, [5,3,4,7])) # [7]\n",
    "print(bestSum(8, [2,3,5])) # [3,5]\n",
    "print(bestSum(8, [1,4,5])) # [4,4]\n",
    "print(bestSum(100, [1,2,5,25])) # [25,25,25,25] -> wasn't computed in a feasible time\n",
    "t2 = time.time()\n",
    "print(f\"Time taken: {t2-t1}\")"
   ]
  },
  {
   "cell_type": "markdown",
   "metadata": {},
   "source": [
    "### With Dynamic Programming"
   ]
  },
  {
   "cell_type": "code",
   "execution_count": 2,
   "metadata": {},
   "outputs": [
    {
     "name": "stdout",
     "output_type": "stream",
     "text": [
      "[7]\n",
      "[5, 3]\n",
      "[4, 4]\n",
      "[25, 25, 25, 25]\n",
      "Time taken: 0.0009708404541015625\n"
     ]
    }
   ],
   "source": [
    "memo = {}\n",
    "\n",
    "def bestSum(targetSum, numbers):\n",
    "    if targetSum == 0:\n",
    "        return []\n",
    "    if targetSum < 0:\n",
    "        return None\n",
    "    if targetSum in memo.keys():\n",
    "        return memo[targetSum]\n",
    "    \n",
    "    shortestCombination = None\n",
    "    \n",
    "    for num in numbers:\n",
    "        remainder = targetSum - num\n",
    "        remainderCombination = bestSum(remainder, numbers)\n",
    "        if remainderCombination != None:\n",
    "            combination = remainderCombination + [num]\n",
    "            if shortestCombination == None or len(combination) < len(shortestCombination):\n",
    "                shortestCombination = combination\n",
    "    \n",
    "    memo.update({targetSum: shortestCombination})\n",
    "    return shortestCombination\n",
    "\n",
    "t1 = time.time()\n",
    "print(bestSum(7, [5,3,4,7])) # [7]\n",
    "memo = {}\n",
    "print(bestSum(8, [2,3,5])) # [3,5]\n",
    "memo = {}\n",
    "print(bestSum(8, [1,4,5])) # [4,4]\n",
    "memo = {}\n",
    "print(bestSum(100, [1,2,5,25])) # [25,25,25,25]\n",
    "t2 = time.time()\n",
    "print(f\"Time taken: {t2-t1}\")"
   ]
  },
  {
   "cell_type": "code",
   "execution_count": 7,
   "metadata": {},
   "outputs": [],
   "source": [
    "###############################################################################################################"
   ]
  },
  {
   "cell_type": "markdown",
   "metadata": {},
   "source": [
    "## Can Construct (Memoization)"
   ]
  },
  {
   "cell_type": "code",
   "execution_count": 35,
   "metadata": {},
   "outputs": [],
   "source": [
    "# Write a function 'canConstruct(target, wordBank)' that accepts a target string and an array of strings.\n",
    "# The function should return a boolean indicating whether or not the 'target' can be constructed by concatinating elements of the 'wordBank' array.\n",
    "# You may reuse elements of 'wordBank' as many times as needed."
   ]
  },
  {
   "cell_type": "markdown",
   "metadata": {},
   "source": [
    "### Without Dynamic Programming"
   ]
  },
  {
   "cell_type": "code",
   "execution_count": 42,
   "metadata": {},
   "outputs": [
    {
     "name": "stdout",
     "output_type": "stream",
     "text": [
      "True\n",
      "False\n",
      "True\n",
      "False\n",
      "Time taken: 16.36432957649231\n"
     ]
    }
   ],
   "source": [
    "def canConstruct(target, wordBank):\n",
    "    if target == \"\":\n",
    "        return True\n",
    "    \n",
    "    for word in wordBank:\n",
    "        if target.startswith(word):\n",
    "            i = target.index(word)\n",
    "            suffix = target[i+len(word):]\n",
    "            if canConstruct(suffix, wordBank) == True:\n",
    "                return True\n",
    "    return False\n",
    "\n",
    "t1 = time.time()\n",
    "print(canConstruct(\"abcdef\", [\"ab\",\"abc\",\"cd\",\"def\",\"abcd\"])) # True\n",
    "print(canConstruct(\"skateboard\", [\"bo\",\"rd\",\"ate\",\"t\",\"ska\",\"sk\",\"boar\"])) # False\n",
    "print(canConstruct(\"enterapotentpot\", [\"a\",\"p\",\"ent\",\"enter\",\"ot\",\"o\",\"t\"])) # True\n",
    "print(canConstruct(\"eeeeeeeeeeeeeeeeeeeeeeeef\", [\"e\",\"ee\",\"eee\",\"eeee\",\"eeeee\",\"eeeeee\",\"eeeeeee\"])) # False\n",
    "t2 = time.time()\n",
    "print(f\"Time taken: {t2-t1}\")"
   ]
  },
  {
   "cell_type": "markdown",
   "metadata": {},
   "source": [
    "### With Dynamic Programming"
   ]
  },
  {
   "cell_type": "code",
   "execution_count": 41,
   "metadata": {},
   "outputs": [
    {
     "name": "stdout",
     "output_type": "stream",
     "text": [
      "True\n",
      "False\n",
      "True\n",
      "False\n",
      "Time taken: 0.0008127689361572266\n"
     ]
    }
   ],
   "source": [
    "memo = {}\n",
    "\n",
    "def canConstruct(target, wordBank):\n",
    "    if target == \"\":\n",
    "        return True\n",
    "    if target in memo.keys():\n",
    "        return memo[target]\n",
    "    \n",
    "    for word in wordBank:\n",
    "        if target.startswith(word):\n",
    "            i = target.index(word)\n",
    "            suffix = target[i+len(word):]\n",
    "            if canConstruct(suffix, wordBank) == True:\n",
    "                memo.update({target: True})\n",
    "                return True\n",
    "    memo.update({target: False})\n",
    "    return False\n",
    "\n",
    "t1 = time.time()\n",
    "print(canConstruct(\"abcdef\", [\"ab\",\"abc\",\"cd\",\"def\",\"abcd\"])) # True\n",
    "memo = {}\n",
    "print(canConstruct(\"skateboard\", [\"bo\",\"rd\",\"ate\",\"t\",\"ska\",\"sk\",\"boar\"])) # False\n",
    "memo = {}\n",
    "print(canConstruct(\"enterapotentpot\", [\"a\",\"p\",\"ent\",\"enter\",\"ot\",\"o\",\"t\"])) # True\n",
    "memo = {}\n",
    "print(canConstruct(\"eeeeeeeeeeeeeeeeeeeeeeeef\", [\"e\",\"ee\",\"eee\",\"eeee\",\"eeeee\",\"eeeeee\",\"eeeeeee\"])) # False\n",
    "t2 = time.time()\n",
    "print(f\"Time taken: {t2-t1}\")"
   ]
  },
  {
   "cell_type": "code",
   "execution_count": 10,
   "metadata": {},
   "outputs": [],
   "source": [
    "###############################################################################################################"
   ]
  },
  {
   "cell_type": "markdown",
   "metadata": {},
   "source": [
    "## Count Construct (Memoization)"
   ]
  },
  {
   "cell_type": "code",
   "execution_count": 21,
   "metadata": {},
   "outputs": [],
   "source": [
    "# Write a function 'countConstruct(target, wordBank)' that accepts a target string and an array of strings.\n",
    "# The function should return the number fo ways that the 'target' can be cnstructed by concatenating elements of the 'wordBank' array.\n",
    "# We may reuse elemenst of 'wordBank' as many times as needed."
   ]
  },
  {
   "cell_type": "markdown",
   "metadata": {},
   "source": [
    "### Without Dynamic Programming"
   ]
  },
  {
   "cell_type": "code",
   "execution_count": 40,
   "metadata": {},
   "outputs": [
    {
     "name": "stdout",
     "output_type": "stream",
     "text": [
      "2\n",
      "1\n",
      "0\n",
      "4\n",
      "0\n",
      "Time taken: 15.841115713119507\n"
     ]
    }
   ],
   "source": [
    "def countConstruct(target, wordBank):\n",
    "    if target == \"\":\n",
    "        return 1\n",
    "    \n",
    "    totalCount = 0\n",
    "    \n",
    "    for word in wordBank:\n",
    "        if target.startswith(word):\n",
    "            i = target.index(word)\n",
    "            suffix = target[i+len(word):]\n",
    "            numWaysForRest = countConstruct(suffix, wordBank)\n",
    "            totalCount += numWaysForRest\n",
    "    return totalCount\n",
    "\n",
    "t1 = time.time()\n",
    "print(countConstruct(\"purple\", [\"purp\",\"p\",\"ur\",\"le\",\"purpl\"])) # 2\n",
    "print(countConstruct(\"abcdef\", [\"ab\",\"abc\",\"cd\",\"def\",\"abcd\"])) # 1\n",
    "print(countConstruct(\"skateboard\", [\"bo\",\"rd\",\"ate\",\"t\",\"ska\",\"sk\",\"boar\"])) # 0\n",
    "print(countConstruct(\"enterapotentpot\", [\"a\",\"p\",\"ent\",\"enter\",\"ot\",\"o\",\"t\"])) # 4\n",
    "print(countConstruct(\"eeeeeeeeeeeeeeeeeeeeeeeef\", [\"e\",\"ee\",\"eee\",\"eeee\",\"eeeee\",\"eeeeee\",\"eeeeeee\"])) # 0\n",
    "t2 = time.time()\n",
    "print(f\"Time taken: {t2-t1}\")"
   ]
  },
  {
   "cell_type": "markdown",
   "metadata": {},
   "source": [
    "### With Dynamic Programming"
   ]
  },
  {
   "cell_type": "code",
   "execution_count": 39,
   "metadata": {},
   "outputs": [
    {
     "name": "stdout",
     "output_type": "stream",
     "text": [
      "2\n",
      "1\n",
      "0\n",
      "4\n",
      "0\n",
      "Time taken: 0.0013782978057861328\n"
     ]
    }
   ],
   "source": [
    "memo = {}\n",
    "\n",
    "def countConstruct(target, wordBank):\n",
    "    if target == \"\":\n",
    "        return 1\n",
    "    \n",
    "    if target in memo.keys():\n",
    "        return memo[target]\n",
    "    \n",
    "    totalCount = 0\n",
    "    \n",
    "    for word in wordBank:\n",
    "        if target.startswith(word):\n",
    "            i = target.index(word)\n",
    "            suffix = target[i+len(word):]\n",
    "            numWaysForRest = countConstruct(suffix, wordBank)\n",
    "            totalCount += numWaysForRest\n",
    "    memo.update({target: totalCount})\n",
    "    return totalCount\n",
    "\n",
    "t1 = time.time()\n",
    "print(countConstruct(\"purple\", [\"purp\",\"p\",\"ur\",\"le\",\"purpl\"])) # 2\n",
    "memo = {}\n",
    "print(countConstruct(\"abcdef\", [\"ab\",\"abc\",\"cd\",\"def\",\"abcd\"])) # 1\n",
    "memo = {}\n",
    "print(countConstruct(\"skateboard\", [\"bo\",\"rd\",\"ate\",\"t\",\"ska\",\"sk\",\"boar\"])) # 0\n",
    "memo = {}\n",
    "print(countConstruct(\"enterapotentpot\", [\"a\",\"p\",\"ent\",\"enter\",\"ot\",\"o\",\"t\"])) # 4\n",
    "memo = {}\n",
    "print(countConstruct(\"eeeeeeeeeeeeeeeeeeeeeeeef\", [\"e\",\"ee\",\"eee\",\"eeee\",\"eeeee\",\"eeeeee\",\"eeeeeee\"])) # 0\n",
    "t2 = time.time()\n",
    "print(f\"Time taken: {t2-t1}\")"
   ]
  },
  {
   "cell_type": "code",
   "execution_count": 10,
   "metadata": {},
   "outputs": [],
   "source": [
    "###############################################################################################################"
   ]
  },
  {
   "cell_type": "markdown",
   "metadata": {},
   "source": [
    "## All Construct (Memoization)"
   ]
  },
  {
   "cell_type": "code",
   "execution_count": null,
   "metadata": {},
   "outputs": [],
   "source": [
    "# Write a function 'allConstruct(target, wordBank)' that accepts a target string and an array of strings.\n",
    "# The function should return a 2D array containing all of the ways that the 'target' can be constructed by concatenating elements of the 'wordBank' array.\n",
    "# Each element of the array should represent one combination that constructs the 'target'.\n",
    "# You may reuse elements of 'wordBank' as many times as needed."
   ]
  },
  {
   "cell_type": "markdown",
   "metadata": {},
   "source": [
    "### Without Dynamic Programming"
   ]
  },
  {
   "cell_type": "code",
   "execution_count": 82,
   "metadata": {},
   "outputs": [
    {
     "name": "stdout",
     "output_type": "stream",
     "text": [
      "[['purp', 'le'], ['p', 'ur', 'p', 'le']]\n",
      "[['ab', 'cd', 'ef'], ['ab', 'c', 'def'], ['abc', 'def'], ['abcd', 'ef']]\n",
      "[]\n",
      "[]\n",
      "Time taken: 19.215911149978638\n"
     ]
    }
   ],
   "source": [
    "def allConstruct(target, wordBank):\n",
    "    if target==\"\":\n",
    "        return [[]]\n",
    "    result = []\n",
    "    for word in wordBank:\n",
    "        if target.startswith(word):\n",
    "            i = target.index(word)\n",
    "            suffix = target[i+len(word):]\n",
    "            suffixWays = allConstruct(suffix,wordBank)\n",
    "            for way in suffixWays:\n",
    "                way.insert(0,word)\n",
    "            result += [i for i in suffixWays]\n",
    "    return result\n",
    "\n",
    "t1 = time.time()\n",
    "print(allConstruct(\"purple\", [\"purp\",\"p\",\"ur\",\"le\",\"purpl\"]))\n",
    "# [\n",
    "#     [\"purp\",\"le\"],\n",
    "#     [\"p\",\"ur\",\"p\",\"le\"]\n",
    "# ]\n",
    "print(allConstruct(\"abcdef\", [\"ab\",\"abc\",\"cd\",\"def\",\"abcd\",\"ef\",\"c\"]))\n",
    "# [\n",
    "#     [\"ab\",\"cd\",\"ef\"],\n",
    "#     [\"ab\",\"c\",\"def\"],\n",
    "#     [\"abc\",\"def\"],\n",
    "#     [\"abcd\",\"ef\"]\n",
    "# ]\n",
    "print(allConstruct(\"skateboard\", [\"bo\",\"rd\",\"ate\",\"t\",\"ska\",\"sk\",\"boar\"]))\n",
    "# []\n",
    "print(allConstruct(\"eeeeeeeeeeeeeeeeeeeeeeeef\", [\"e\",\"ee\",\"eee\",\"eeee\",\"eeeee\",\"eeeeee\",\"eeeeeee\"]))\n",
    "# []\n",
    "t2 = time.time()\n",
    "print(f\"Time taken: {t2-t1}\")"
   ]
  },
  {
   "cell_type": "markdown",
   "metadata": {},
   "source": [
    "### With Dynamic Programming"
   ]
  },
  {
   "cell_type": "code",
   "execution_count": 83,
   "metadata": {},
   "outputs": [
    {
     "name": "stdout",
     "output_type": "stream",
     "text": [
      "[['p', 'ur', 'p', 'purp', 'le'], ['p', 'ur', 'p', 'purp', 'le']]\n",
      "[['abcd', 'ab', 'cd', 'ef'], ['abc', 'ab', 'c', 'def'], ['abc', 'ab', 'c', 'def'], ['abcd', 'ab', 'cd', 'ef']]\n",
      "[]\n",
      "[]\n",
      "Time taken: 0.001451730728149414\n"
     ]
    }
   ],
   "source": [
    "memo = {}\n",
    "\n",
    "def allConstruct(target, wordBank):\n",
    "    if target in memo.keys():\n",
    "        return memo[target]\n",
    "    if target==\"\":\n",
    "        return [[]]\n",
    "    result = []\n",
    "    for word in wordBank:\n",
    "        if target.startswith(word):\n",
    "            i = target.index(word)\n",
    "            suffix = target[i+len(word):]\n",
    "            suffixWays = allConstruct(suffix,wordBank)\n",
    "            for way in suffixWays:\n",
    "                way.insert(0,word)\n",
    "            result += [i for i in suffixWays]\n",
    "    memo.update({target: result})\n",
    "    return result\n",
    "\n",
    "t1 = time.time()\n",
    "print(allConstruct(\"purple\", [\"purp\",\"p\",\"ur\",\"le\",\"purpl\"]))\n",
    "# [\n",
    "#     [\"purp\",\"le\"],\n",
    "#     [\"p\",\"ur\",\"p\",\"le\"]\n",
    "# ]\n",
    "\n",
    "memo = {}\n",
    "print(allConstruct(\"abcdef\", [\"ab\",\"abc\",\"cd\",\"def\",\"abcd\",\"ef\",\"c\"]))\n",
    "# [\n",
    "#     [\"ab\",\"cd\",\"ef\"],\n",
    "#     [\"ab\",\"c\",\"def\"],\n",
    "#     [\"abc\",\"def\"],\n",
    "#     [\"abcd\",\"ef\"]\n",
    "# ]\n",
    "\n",
    "memo = {}\n",
    "print(allConstruct(\"skateboard\", [\"bo\",\"rd\",\"ate\",\"t\",\"ska\",\"sk\",\"boar\"]))\n",
    "# []\n",
    "\n",
    "memo = {}\n",
    "print(allConstruct(\"eeeeeeeeeeeeeeeeeeeeeeeef\", [\"e\",\"ee\",\"eee\",\"eeee\",\"eeeee\",\"eeeeee\",\"eeeeeee\"]))\n",
    "# []\n",
    "t2 = time.time()\n",
    "print(f\"Time taken: {t2-t1}\")"
   ]
  },
  {
   "cell_type": "code",
   "execution_count": 90,
   "metadata": {},
   "outputs": [],
   "source": [
    "#################################################################################################################"
   ]
  },
  {
   "cell_type": "markdown",
   "metadata": {},
   "source": [
    "## Fibonacci Series (Tabulation)"
   ]
  },
  {
   "cell_type": "code",
   "execution_count": 106,
   "metadata": {},
   "outputs": [
    {
     "name": "stdout",
     "output_type": "stream",
     "text": [
      "8\n",
      "13\n",
      "21\n",
      "12586269025\n",
      "Time taken: 0.0004832744598388672\n"
     ]
    }
   ],
   "source": [
    "def fib(n):\n",
    "    table = [0]*(n+1)\n",
    "    table[1] = 1\n",
    "    for i in range(n+1):\n",
    "        if i<=n-1:\n",
    "            table[i+1] += table[i]\n",
    "        if i<=n-2:\n",
    "            table[i+2] += table[i]\n",
    "    return table[n]\n",
    "\n",
    "t1 = time.time()\n",
    "print(fib(6)) # 8\n",
    "print(fib(7)) # 13\n",
    "print(fib(8)) # 21\n",
    "print(fib(50)) # 12586269025\n",
    "t2 = time.time()\n",
    "print(f\"Time taken: {t2-t1}\")"
   ]
  },
  {
   "cell_type": "markdown",
   "metadata": {},
   "source": [
    "## Grid Traveller (Tabulation)"
   ]
  },
  {
   "cell_type": "code",
   "execution_count": 3,
   "metadata": {},
   "outputs": [
    {
     "name": "stdout",
     "output_type": "stream",
     "text": [
      "1\n",
      "3\n",
      "3\n",
      "6\n",
      "40116600\n",
      "2333606220\n",
      "Time taken: 0.0005543231964111328\n"
     ]
    }
   ],
   "source": [
    "def grid_traveller(m,n):\n",
    "    table = [[0]*(n+1) for _ in range(m+1)]\n",
    "    table[1][1] = 1\n",
    "    for i in range(m+1):\n",
    "        for j in range(n+1):\n",
    "            # table[i][j] is the value of the current position\n",
    "            if j+1<=n:\n",
    "                table[i][j+1] += table[i][j]\n",
    "            if i+1<=m:\n",
    "                table[i+1][j] += table[i][j]\n",
    "    return table[m][n]\n",
    "\n",
    "t1 = time.time()\n",
    "print(grid_traveller(1, 1))  # 1\n",
    "print(grid_traveller(2, 3))  # 3\n",
    "print(grid_traveller(3, 2))  # 3\n",
    "print(grid_traveller(3, 3))  # 6\n",
    "print(grid_traveller(15, 15))  # 40116600\n",
    "print(grid_traveller(18, 18))  # 2333606220\n",
    "t2 = time.time()\n",
    "print(f\"Time taken: {t2-t1}\")"
   ]
  },
  {
   "cell_type": "markdown",
   "metadata": {},
   "source": [
    "                             # Tabulation Recipe\n",
    "\n",
    "                   ## visualize the problem as a table\n",
    "                   ## size the table based on input\n",
    "                   ## initialize the table with default values\n",
    "                   ## seed the trivial answer into the table\n",
    "                   ## iterate through the table\n",
    "                   ## fill further positions based on the current position"
   ]
  },
  {
   "cell_type": "markdown",
   "metadata": {},
   "source": [
    "## Can Sum (Tabulation)"
   ]
  },
  {
   "cell_type": "code",
   "execution_count": 9,
   "metadata": {},
   "outputs": [
    {
     "name": "stdout",
     "output_type": "stream",
     "text": [
      "True\n",
      "True\n",
      "False\n",
      "True\n",
      "False\n",
      "Time taken: 0.00041556358337402344\n"
     ]
    }
   ],
   "source": [
    "def canSum(targetSum, numbers):\n",
    "    table=[False]*(targetSum+1)\n",
    "    table[0]=True\n",
    "    for i in range(targetSum):\n",
    "        if table[i]==True:\n",
    "            for num in numbers:\n",
    "                if i+num<=targetSum:\n",
    "                    table[i+num]=True\n",
    "    return table[targetSum]\n",
    "\n",
    "t1 = time.time()\n",
    "print(canSum(7, [2,3])) # true\n",
    "print(canSum(7, [5,3,4,7])) # true\n",
    "print(canSum(7, [2,4])) # false\n",
    "print(canSum(8, [2,3,5])) # true\n",
    "print(canSum(250, [7,14])) # false\n",
    "t2 = time.time()\n",
    "print(f\"Time taken: {t2-t1}\")"
   ]
  },
  {
   "cell_type": "markdown",
   "metadata": {},
   "source": [
    "## How Sum (Tabulation)"
   ]
  },
  {
   "cell_type": "code",
   "execution_count": 16,
   "metadata": {},
   "outputs": [
    {
     "name": "stdout",
     "output_type": "stream",
     "text": [
      "[3, 2, 2]\n",
      "[4, 3]\n",
      "None\n",
      "[2, 2, 2, 2]\n",
      "None\n",
      "Time taken: 0.00033783912658691406\n"
     ]
    }
   ],
   "source": [
    "def howSum(targetSum, numbers):\n",
    "    table=[None]*(targetSum+1)\n",
    "    table[0]=[]\n",
    "    for i in range(targetSum):\n",
    "        if table[i]!=None:\n",
    "            for num in numbers:\n",
    "                if i+num<=targetSum:\n",
    "                    table[i+num]=table[i]+[num]\n",
    "    return table[targetSum]\n",
    "\n",
    "t1 = time.time()\n",
    "print(howSum(7, [2,3])) # [3,2,2]\n",
    "print(howSum(7, [5,3,4,7])) # [4,3]\n",
    "print(howSum(7, [2,4])) # None\n",
    "print(howSum(8, [2,3,5])) # [2,2,2,2]\n",
    "print(howSum(250, [7,14])) # None\n",
    "t2 = time.time()\n",
    "print(f\"Time taken: {t2-t1}\")"
   ]
  },
  {
   "cell_type": "markdown",
   "metadata": {},
   "source": [
    "## Best Sum (Tabulation)"
   ]
  },
  {
   "cell_type": "code",
   "execution_count": 25,
   "metadata": {},
   "outputs": [
    {
     "name": "stdout",
     "output_type": "stream",
     "text": [
      "[7]\n",
      "[3, 5]\n",
      "[4, 4]\n",
      "[25, 25, 25, 25]\n",
      "Time taken: 0.0008995532989501953\n"
     ]
    }
   ],
   "source": [
    "def bestSum(targetSum, numbers):\n",
    "    table=[None]*(targetSum+1)\n",
    "    table[0]=[]\n",
    "    for i in range(targetSum):\n",
    "        if table[i]!=None:\n",
    "            for num in numbers:\n",
    "                if i+num<=targetSum:\n",
    "                    if table[i+num]!=None:\n",
    "                        if len(table[i]+[num])<len(table[i+num]):\n",
    "                            table[i+num]=table[i]+[num]\n",
    "                    else:\n",
    "                        table[i+num]=table[i]+[num]\n",
    "    return table[targetSum]\n",
    "\n",
    "t1 = time.time()\n",
    "print(bestSum(7, [5,3,4,7])) # [7]\n",
    "print(bestSum(8, [2,3,5])) # [3,5]\n",
    "print(bestSum(8, [1,4,5])) # [4,4]\n",
    "print(bestSum(100, [1,2,5,25])) # [25,25,25,25]\n",
    "t2 = time.time()\n",
    "print(f\"Time taken: {t2-t1}\")"
   ]
  },
  {
   "cell_type": "markdown",
   "metadata": {},
   "source": [
    "## Can Construct (Tabulation)"
   ]
  },
  {
   "cell_type": "code",
   "execution_count": 40,
   "metadata": {},
   "outputs": [
    {
     "name": "stdout",
     "output_type": "stream",
     "text": [
      "True\n",
      "False\n",
      "True\n",
      "False\n",
      "Time taken: 0.0004887580871582031\n"
     ]
    }
   ],
   "source": [
    "def canConstruct(target, wordBank):\n",
    "    table=[False]*(len(target)+1)\n",
    "    table[0]=True\n",
    "    for i in range(len(target)+1):\n",
    "        if table[i]==True:\n",
    "            for word in wordBank:\n",
    "                # checking if the word matches the characters starting at position i\n",
    "                if target[i:i+len(word)]==word:\n",
    "                    table[i+len(word)]=True\n",
    "    return table[len(target)]\n",
    "\n",
    "t1 = time.time()\n",
    "print(canConstruct(\"abcdef\", [\"ab\",\"abc\",\"cd\",\"def\",\"abcd\"])) # True\n",
    "print(canConstruct(\"skateboard\", [\"bo\",\"rd\",\"ate\",\"t\",\"ska\",\"sk\",\"boar\"])) # False\n",
    "print(canConstruct(\"enterapotentpot\", [\"a\",\"p\",\"ent\",\"enter\",\"ot\",\"o\",\"t\"])) # True\n",
    "print(canConstruct(\"eeeeeeeeeeeeeeeeeeeeeeeef\", [\"e\",\"ee\",\"eee\",\"eeee\",\"eeeee\",\"eeeeee\",\"eeeeeee\"])) # False\n",
    "t2 = time.time()\n",
    "print(f\"Time taken: {t2-t1}\")"
   ]
  },
  {
   "cell_type": "markdown",
   "metadata": {},
   "source": [
    "## Count Construct (Tabulation)"
   ]
  },
  {
   "cell_type": "code",
   "execution_count": 44,
   "metadata": {},
   "outputs": [
    {
     "name": "stdout",
     "output_type": "stream",
     "text": [
      "2\n",
      "1\n",
      "0\n",
      "4\n",
      "0\n",
      "Time taken: 0.0006742477416992188\n"
     ]
    }
   ],
   "source": [
    "def countConstruct(target, wordBank):\n",
    "    table=[0]*(len(target)+1)\n",
    "    table[0]=1\n",
    "    for i in range(len(target)+1):\n",
    "        for word in wordBank:\n",
    "            if target[i:i+len(word)]==word:\n",
    "                table[i+len(word)] += table[i]\n",
    "    return table[len(target)]\n",
    "\n",
    "t1 = time.time()\n",
    "print(countConstruct(\"purple\", [\"purp\",\"p\",\"ur\",\"le\",\"purpl\"])) # 2\n",
    "print(countConstruct(\"abcdef\", [\"ab\",\"abc\",\"cd\",\"def\",\"abcd\"])) # 1\n",
    "print(countConstruct(\"skateboard\", [\"bo\",\"rd\",\"ate\",\"t\",\"ska\",\"sk\",\"boar\"])) # 0\n",
    "print(countConstruct(\"enterapotentpot\", [\"a\",\"p\",\"ent\",\"enter\",\"ot\",\"o\",\"t\"])) # 4\n",
    "print(countConstruct(\"eeeeeeeeeeeeeeeeeeeeeeeef\", [\"e\",\"ee\",\"eee\",\"eeee\",\"eeeee\",\"eeeeee\",\"eeeeeee\"])) # 0\n",
    "t2 = time.time()\n",
    "print(f\"Time taken: {t2-t1}\")"
   ]
  },
  {
   "cell_type": "markdown",
   "metadata": {},
   "source": [
    "## All Construct (Tabulation)"
   ]
  },
  {
   "cell_type": "code",
   "execution_count": null,
   "metadata": {},
   "outputs": [],
   "source": [
    "def allConstruct(target, wordBank):\n",
    "    table=[[]]*(len(target)+1)\n",
    "    table[0]=[[]]\n",
    "    for i in range(len(target)+1):\n",
    "        for word in wordBank:\n",
    "            if target[i:i+len(word)]==word:\n",
    "                for comb in table[i]:\n",
    "                    comb.append(word)\n",
    "                table[i+len(word)]+=[comb for comb in table[i]]\n",
    "    return table[len(target)]\n",
    "\n",
    "t1 = time.time()\n",
    "print(allConstruct(\"purple\", [\"purp\",\"p\",\"ur\",\"le\",\"purpl\"]))\n",
    "# [\n",
    "#     [\"purp\",\"le\"],\n",
    "#     [\"p\",\"ur\",\"p\",\"le\"]\n",
    "# ]\n",
    "print(allConstruct(\"abcdef\", [\"ab\",\"abc\",\"cd\",\"def\",\"abcd\",\"ef\",\"c\"]))\n",
    "# [\n",
    "#     [\"ab\",\"cd\",\"ef\"],\n",
    "#     [\"ab\",\"c\",\"def\"],\n",
    "#     [\"abc\",\"def\"],\n",
    "#     [\"abcd\",\"ef\"]\n",
    "# ]\n",
    "print(allConstruct(\"skateboard\", [\"bo\",\"rd\",\"ate\",\"t\",\"ska\",\"sk\",\"boar\"]))\n",
    "# []\n",
    "print(allConstruct(\"eeeeeeeeeeeeeeeeeeeeeeeef\", [\"e\",\"ee\",\"eee\",\"eeee\",\"eeeee\",\"eeeeee\",\"eeeeeee\"]))\n",
    "# []\n",
    "t2 = time.time()\n",
    "print(f\"Time taken: {t2-t1}\")"
   ]
  },
  {
   "cell_type": "markdown",
   "metadata": {},
   "source": [
    "                                            # Dynamic Programming\n",
    "                                \n",
    "                                ## notice any overlapping subproblems\n",
    "                                ## decide what is trivially smallest input\n",
    "                                ## think recursively to use Memoization\n",
    "                                ## think iteratively to use Tabulation\n",
    "                                ## draw a strategy first!!!!"
   ]
  }
 ],
 "metadata": {
  "kernelspec": {
   "display_name": "Python 3.10.4 64-bit",
   "language": "python",
   "name": "python3"
  },
  "language_info": {
   "codemirror_mode": {
    "name": "ipython",
    "version": 3
   },
   "file_extension": ".py",
   "mimetype": "text/x-python",
   "name": "python",
   "nbconvert_exporter": "python",
   "pygments_lexer": "ipython3",
   "version": "3.10.4"
  },
  "vscode": {
   "interpreter": {
    "hash": "916dbcbb3f70747c44a77c7bcd40155683ae19c65e1c03b4aa3499c5328201f1"
   }
  }
 },
 "nbformat": 4,
 "nbformat_minor": 2
}
