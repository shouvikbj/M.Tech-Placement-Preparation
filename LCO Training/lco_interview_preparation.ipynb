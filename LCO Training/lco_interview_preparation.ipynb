{
 "cells": [
  {
   "cell_type": "markdown",
   "metadata": {},
   "source": [
    "# LCO Interview Preparation"
   ]
  },
  {
   "cell_type": "markdown",
   "metadata": {},
   "source": [
    "## Array Problems"
   ]
  },
  {
   "cell_type": "markdown",
   "metadata": {},
   "source": [
    "### Binary Search"
   ]
  },
  {
   "cell_type": "code",
   "execution_count": 1,
   "metadata": {},
   "outputs": [
    {
     "name": "stdout",
     "output_type": "stream",
     "text": [
      "1\n",
      "6\n",
      "1\n",
      "6\n"
     ]
    }
   ],
   "source": [
    "# Given a sorted array and a value, find it's index\n",
    "\n",
    "arr = [10, 15, 20, 25, 30, 35, 40, 45, 50]\n",
    "val1 = 15  # index 1\n",
    "val2 = 40  # index 6\n",
    "\n",
    "\n",
    "# recursive approach\n",
    "\n",
    "\n",
    "def binary_search_helper(arr, val, low, high):\n",
    "    if low > high:  # corner case handling\n",
    "        return \"NO MATCH\"\n",
    "\n",
    "    mid = low + ((high - low) // 2)\n",
    "\n",
    "    if arr[mid] == val:\n",
    "        return mid\n",
    "    elif val < arr[mid]:\n",
    "        return binary_search_helper(arr, val, low, mid - 1)\n",
    "    else:\n",
    "        return binary_search_helper(arr, val, mid + 1, high)\n",
    "\n",
    "\n",
    "def binary_search_recursive(arr, val):\n",
    "    return binary_search_helper(arr, val, 0, len(arr) - 1)\n",
    "\n",
    "\n",
    "print(binary_search_recursive(arr, val1))\n",
    "print(binary_search_recursive(arr, val2))\n",
    "\n",
    "\n",
    "# iterative approach\n",
    "\n",
    "\n",
    "def binary_search_iterative(arr, val):\n",
    "    low = 0\n",
    "    high = len(arr) - 1\n",
    "\n",
    "    while low <= high:\n",
    "        mid = low + ((high - low) // 2)\n",
    "\n",
    "        if arr[mid] == val:\n",
    "            return mid\n",
    "        elif val < arr[mid]:\n",
    "            high = mid - 1\n",
    "        else:\n",
    "            low = mid + 1\n",
    "\n",
    "    return \"NO MATCH\"\n",
    "\n",
    "\n",
    "print(binary_search_iterative(arr, val1))\n",
    "print(binary_search_iterative(arr, val2))"
   ]
  },
  {
   "cell_type": "markdown",
   "metadata": {},
   "source": [
    "### Rotation of Array"
   ]
  },
  {
   "cell_type": "code",
   "execution_count": 2,
   "metadata": {},
   "outputs": [
    {
     "name": "stdout",
     "output_type": "stream",
     "text": [
      "Pivot :  4\n",
      "Pivot :  3\n"
     ]
    }
   ],
   "source": [
    "# Find the number of rotations the array has gone through\n",
    "# Find the 'Pivot' element to determine the number of rotations the given array has gone through\n",
    "# Rotation is done on sorted arrays\n",
    "\n",
    "## Solution can be done using the logic of binary search\n",
    "## Let the sorted array be => [3,5,8,10,12,16,18,24]\n",
    "## Let the rotated array be => [12,16,18,24,3,5,8,10]\n",
    "\n",
    "\n",
    "def find_rotation(arr, low, high):\n",
    "    if high < low:\n",
    "        return \"NO MATCH\"\n",
    "\n",
    "    # mid = low + ((high - low) // 2)\n",
    "    mid = int(low + ((high - low) / 2))\n",
    "\n",
    "    if mid < high and arr[mid + 1] < arr[mid]:\n",
    "        return mid + 1\n",
    "\n",
    "    if mid > low and arr[mid] < arr[mid - 1]:\n",
    "        return mid\n",
    "\n",
    "    if arr[high] > arr[mid]:\n",
    "        return find_rotation(arr, low, mid - 1)\n",
    "    return find_rotation(arr, mid + 1, high)\n",
    "\n",
    "\n",
    "arr = [12, 16, 18, 24, 3, 5, 8, 10]\n",
    "low = 0\n",
    "high = len(arr) - 1\n",
    "\n",
    "print(\"Pivot : \", find_rotation(arr, low, high))\n",
    "\n",
    "arr = [4, 5, 6, 1, 2, 3]\n",
    "low = 0\n",
    "high = len(arr) - 1\n",
    "\n",
    "print(\"Pivot : \", find_rotation(arr, low, high))"
   ]
  },
  {
   "cell_type": "markdown",
   "metadata": {},
   "source": [
    "### Search in Rotated Array"
   ]
  },
  {
   "cell_type": "code",
   "execution_count": 3,
   "metadata": {},
   "outputs": [
    {
     "name": "stdout",
     "output_type": "stream",
     "text": [
      "Index: 6\n",
      "Index: NO MATCH\n",
      "Index: 0\n"
     ]
    }
   ],
   "source": [
    "def rotated_search_helper(arr, low, high, key):\n",
    "    if low > high:\n",
    "        return \"NO MATCH\"\n",
    "\n",
    "    mid = int(low + ((high - low) / 2))\n",
    "\n",
    "    if arr[mid] == key:\n",
    "        return mid\n",
    "\n",
    "    if arr[low] <= arr[mid] and key <= arr[mid] and key >= arr[low]:\n",
    "        return rotated_search_helper(arr, low, mid - 1, key)\n",
    "\n",
    "    elif arr[mid] <= arr[high] and key >= arr[mid] and key <= arr[high]:\n",
    "        return rotated_search_helper(arr, mid + 1, high, key)\n",
    "\n",
    "    elif arr[high] <= arr[mid]:\n",
    "        return rotated_search_helper(arr, mid + 1, high, key)\n",
    "\n",
    "    elif arr[low] >= arr[mid]:\n",
    "        return rotated_search_helper(arr, low, mid - 1, key)\n",
    "\n",
    "    return \"NO MATCH\"\n",
    "\n",
    "\n",
    "def rotated_search(arr, key):\n",
    "    print(f\"Index: {rotated_search_helper(arr, 0, len(arr)-1, key)}\")\n",
    "\n",
    "\n",
    "arr = [12, 16, 18, 24, 3, 5, 8, 10]\n",
    "key1 = 8\n",
    "key2 = 33\n",
    "key3 = 12\n",
    "\n",
    "rotated_search(arr, key1)\n",
    "rotated_search(arr, key2)\n",
    "rotated_search(arr, key3)"
   ]
  },
  {
   "cell_type": "markdown",
   "metadata": {},
   "source": [
    "### Find by Comparision"
   ]
  },
  {
   "cell_type": "code",
   "execution_count": null,
   "metadata": {},
   "outputs": [],
   "source": []
  }
 ],
 "metadata": {
  "kernelspec": {
   "display_name": "Python 3.10.6 64-bit",
   "language": "python",
   "name": "python3"
  },
  "language_info": {
   "codemirror_mode": {
    "name": "ipython",
    "version": 3
   },
   "file_extension": ".py",
   "mimetype": "text/x-python",
   "name": "python",
   "nbconvert_exporter": "python",
   "pygments_lexer": "ipython3",
   "version": "3.10.6"
  },
  "orig_nbformat": 4,
  "vscode": {
   "interpreter": {
    "hash": "4556f183c99580fce92e5f19c1596d73bd53bfb42d30e0673ab4213b55085b75"
   }
  }
 },
 "nbformat": 4,
 "nbformat_minor": 2
}
