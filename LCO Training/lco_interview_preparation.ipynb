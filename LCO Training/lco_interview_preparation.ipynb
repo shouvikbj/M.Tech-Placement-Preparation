{
 "cells": [
  {
   "cell_type": "markdown",
   "metadata": {},
   "source": [
    "# LCO Interview Preparation"
   ]
  },
  {
   "cell_type": "markdown",
   "metadata": {},
   "source": [
    "## Array Problems"
   ]
  },
  {
   "cell_type": "markdown",
   "metadata": {},
   "source": [
    "### Binary Search"
   ]
  },
  {
   "cell_type": "code",
   "execution_count": 1,
   "metadata": {},
   "outputs": [
    {
     "name": "stdout",
     "output_type": "stream",
     "text": [
      "1\n",
      "6\n",
      "1\n",
      "6\n"
     ]
    }
   ],
   "source": [
    "# Given a sorted array and a value, find it's index\n",
    "\n",
    "arr = [10, 15, 20, 25, 30, 35, 40, 45, 50]\n",
    "val1 = 15  # index 1\n",
    "val2 = 40  # index 6\n",
    "\n",
    "\n",
    "# recursive approach\n",
    "\n",
    "\n",
    "def binary_search_helper(arr, val, low, high):\n",
    "    if low > high:  # corner case handling\n",
    "        return \"NO MATCH\"\n",
    "\n",
    "    mid = low + ((high - low) // 2)\n",
    "\n",
    "    if arr[mid] == val:\n",
    "        return mid\n",
    "    elif val < arr[mid]:\n",
    "        return binary_search_helper(arr, val, low, mid - 1)\n",
    "    else:\n",
    "        return binary_search_helper(arr, val, mid + 1, high)\n",
    "\n",
    "\n",
    "def binary_search_recursive(arr, val):\n",
    "    return binary_search_helper(arr, val, 0, len(arr) - 1)\n",
    "\n",
    "\n",
    "print(binary_search_recursive(arr, val1))\n",
    "print(binary_search_recursive(arr, val2))\n",
    "\n",
    "\n",
    "# iterative approach\n",
    "\n",
    "\n",
    "def binary_search_iterative(arr, val):\n",
    "    low = 0\n",
    "    high = len(arr) - 1\n",
    "\n",
    "    while low <= high:\n",
    "        mid = low + ((high - low) // 2)\n",
    "\n",
    "        if arr[mid] == val:\n",
    "            return mid\n",
    "        elif val < arr[mid]:\n",
    "            high = mid - 1\n",
    "        else:\n",
    "            low = mid + 1\n",
    "\n",
    "    return \"NO MATCH\"\n",
    "\n",
    "\n",
    "print(binary_search_iterative(arr, val1))\n",
    "print(binary_search_iterative(arr, val2))"
   ]
  },
  {
   "cell_type": "markdown",
   "metadata": {},
   "source": [
    "### Rotation of Array"
   ]
  },
  {
   "cell_type": "code",
   "execution_count": 2,
   "metadata": {},
   "outputs": [
    {
     "name": "stdout",
     "output_type": "stream",
     "text": [
      "Pivot :  4\n",
      "Pivot :  3\n"
     ]
    }
   ],
   "source": [
    "# Find the number of rotations the array has gone through\n",
    "# Find the 'Pivot' element to determine the number of rotations the given array has gone through\n",
    "# Rotation is done on sorted arrays\n",
    "\n",
    "## Solution can be done using the logic of binary search\n",
    "## Let the sorted array be => [3,5,8,10,12,16,18,24]\n",
    "## Let the rotated array be => [12,16,18,24,3,5,8,10]\n",
    "\n",
    "\n",
    "def find_rotation(arr, low, high):\n",
    "    if high < low:\n",
    "        return \"NO MATCH\"\n",
    "\n",
    "    # mid = low + ((high - low) // 2)\n",
    "    mid = int(low + ((high - low) / 2))\n",
    "\n",
    "    if mid < high and arr[mid + 1] < arr[mid]:\n",
    "        return mid + 1\n",
    "\n",
    "    if mid > low and arr[mid] < arr[mid - 1]:\n",
    "        return mid\n",
    "\n",
    "    if arr[high] > arr[mid]:\n",
    "        return find_rotation(arr, low, mid - 1)\n",
    "    return find_rotation(arr, mid + 1, high)\n",
    "\n",
    "\n",
    "arr = [12, 16, 18, 24, 3, 5, 8, 10]\n",
    "low = 0\n",
    "high = len(arr) - 1\n",
    "\n",
    "print(\"Pivot : \", find_rotation(arr, low, high))\n",
    "\n",
    "arr = [4, 5, 6, 1, 2, 3]\n",
    "low = 0\n",
    "high = len(arr) - 1\n",
    "\n",
    "print(\"Pivot : \", find_rotation(arr, low, high))"
   ]
  },
  {
   "cell_type": "markdown",
   "metadata": {},
   "source": [
    "### Search in Rotated Array"
   ]
  },
  {
   "cell_type": "code",
   "execution_count": 3,
   "metadata": {},
   "outputs": [
    {
     "name": "stdout",
     "output_type": "stream",
     "text": [
      "Index: 6\n",
      "Index: NO MATCH\n",
      "Index: 0\n"
     ]
    }
   ],
   "source": [
    "def rotated_search_helper(arr, low, high, key):\n",
    "    if low > high:\n",
    "        return \"NO MATCH\"\n",
    "\n",
    "    mid = int(low + ((high - low) / 2))\n",
    "\n",
    "    if arr[mid] == key:\n",
    "        return mid\n",
    "\n",
    "    if arr[low] <= arr[mid] and key <= arr[mid] and key >= arr[low]:\n",
    "        return rotated_search_helper(arr, low, mid - 1, key)\n",
    "\n",
    "    elif arr[mid] <= arr[high] and key >= arr[mid] and key <= arr[high]:\n",
    "        return rotated_search_helper(arr, mid + 1, high, key)\n",
    "\n",
    "    elif arr[high] <= arr[mid]:\n",
    "        return rotated_search_helper(arr, mid + 1, high, key)\n",
    "\n",
    "    elif arr[low] >= arr[mid]:\n",
    "        return rotated_search_helper(arr, low, mid - 1, key)\n",
    "\n",
    "    return \"NO MATCH\"\n",
    "\n",
    "\n",
    "def rotated_search(arr, key):\n",
    "    print(f\"Index: {rotated_search_helper(arr, 0, len(arr)-1, key)}\")\n",
    "\n",
    "\n",
    "arr = [12, 16, 18, 24, 3, 5, 8, 10]\n",
    "key1 = 8\n",
    "key2 = 33\n",
    "key3 = 12\n",
    "\n",
    "rotated_search(arr, key1)\n",
    "rotated_search(arr, key2)\n",
    "rotated_search(arr, key3)"
   ]
  },
  {
   "cell_type": "markdown",
   "metadata": {},
   "source": [
    "### Find by Comparision"
   ]
  },
  {
   "cell_type": "code",
   "execution_count": 12,
   "metadata": {},
   "outputs": [
    {
     "name": "stdout",
     "output_type": "stream",
     "text": [
      "6\n"
     ]
    }
   ],
   "source": [
    "def find_smallest(arr1,arr2,arr3):\n",
    "    p1=0\n",
    "    p2=0\n",
    "    p3=0\n",
    "    while(p1<len(arr1) and p2<len(arr2) and p3<len(arr3)):\n",
    "        if arr1[p1]==arr2[p2]==arr3[p3]:\n",
    "            return arr1[p1]\n",
    "        if arr1[p1]<=arr2[p2] and arr1[p1]<=arr3[p3]:\n",
    "            p1=p1+1\n",
    "        elif arr2[p2]<=arr1[p1] and arr2[p2]<=arr3[p3]:\n",
    "            p2=p2+1\n",
    "        elif arr3[p3]<=arr1[p1] and arr3[p3]<=arr2[p2]:\n",
    "            p3=p3+1\n",
    "    return \"NO MATCH\"\n",
    "\n",
    "arr1=[5,6,7,20,30,54]\n",
    "arr2=[0,1,2,6,7,23,60,104]\n",
    "arr3=[3,4,6,20,25]\n",
    "\n",
    "print(f\"Smallest common element: {find_smallest(arr1,arr2,arr3)}\")"
   ]
  },
  {
   "cell_type": "markdown",
   "metadata": {},
   "source": [
    "### Target Triplet"
   ]
  },
  {
   "cell_type": "code",
   "execution_count": 24,
   "metadata": {},
   "outputs": [
    {
     "name": "stdout",
     "output_type": "stream",
     "text": [
      "Result: [[-4, -1, 2], [-4, 0, 1]]\n",
      "Result: [[0, 1, 1]]\n",
      "Result: []\n"
     ]
    }
   ],
   "source": [
    "def target_triplet(arr,target):\n",
    "    # assuming that the given array is sorted\n",
    "    # else we have to sort the array in ASC order by doing 'arr.sort()'\n",
    "    arr.sort()\n",
    "    res=[]\n",
    "    for i in range(len(arr)-2):\n",
    "        left=i+1\n",
    "        right=len(arr)-1\n",
    "        while left<right:\n",
    "            if arr[i]+arr[left]+arr[right]==target:\n",
    "                # if [arr[i],arr[left],arr[right]] not in res:\n",
    "                #     res.append([arr[i],arr[left],arr[right]])\n",
    "                res.append([arr[i],arr[left],arr[right]])\n",
    "                left=left+1\n",
    "                right=right-1\n",
    "            elif arr[i]+arr[left]+arr[right]<target:\n",
    "                left=left+1\n",
    "            elif arr[i]+arr[left]+arr[right]>target:\n",
    "                right=right-1\n",
    "    return res\n",
    "\n",
    "tests=[\n",
    "    [[-1,0,1,2,-1,-4],-3],\n",
    "    [[0,1,1],2],\n",
    "    [[0,0,0],1]\n",
    "]\n",
    "for test in tests:\n",
    "    print(f\"Result: {target_triplet(test[0],test[1])}\")"
   ]
  },
  {
   "cell_type": "markdown",
   "metadata": {},
   "source": [
    "### Move to 1 side"
   ]
  },
  {
   "cell_type": "code",
   "execution_count": 37,
   "metadata": {},
   "outputs": [
    {
     "name": "stdout",
     "output_type": "stream",
     "text": [
      "Result: [0, 0, 0, 5, 6, 10, 60, 61, 90]\n",
      "Result: [4, 4, 4, 4, 4, 1, 6, 8, 2, 5, 8, 10, 20, 25]\n",
      "Result: []\n",
      "Result: [8]\n",
      "Result: Target element to move, is not present in the array!\n",
      "Result: [0, 0, 0, 0, 0, 0, 0, 0, 1]\n",
      "Result: [1, 0, 0, 0, 0, 0, 0, 0, 0]\n"
     ]
    }
   ],
   "source": [
    "def move_to_one_side(arr,target):\n",
    "    length=len(arr)\n",
    "    if length<=1:\n",
    "        return arr\n",
    "    if target not in arr:\n",
    "        return \"Target element to move, is not present in the array!\"\n",
    "    r=length-1\n",
    "    w=length-1\n",
    "    while r>=0:\n",
    "        if arr[r]!=target:\n",
    "            arr[w]=arr[r]\n",
    "            w-=1\n",
    "        r-=1\n",
    "    for i in range(w,r,-1):\n",
    "        arr[i]=target\n",
    "    return arr\n",
    "\n",
    "tests=[\n",
    "    [[5,6,10,0,60,61,0,90,0],0],\n",
    "    [[4,1,6,8,4,2,5,4,4,8,10,20,25,4],4],\n",
    "    [[],1],\n",
    "    [[8],8],\n",
    "    [[5,6,10,0,60,61,0,90,0],50],\n",
    "    [[1,0,0,0,0,0,0,0,0],0],\n",
    "    [[0,0,0,0,0,0,0,0,1],1]\n",
    "]\n",
    "for test in tests:\n",
    "    print(f\"Result: {move_to_one_side(test[0],test[1])}\")"
   ]
  },
  {
   "cell_type": "markdown",
   "metadata": {},
   "source": [
    "### Sell at max profit"
   ]
  },
  {
   "cell_type": "code",
   "execution_count": 58,
   "metadata": {},
   "outputs": [
    {
     "name": "stdout",
     "output_type": "stream",
     "text": [
      "Max Profit: 7\n",
      "Max Profit: 96\n",
      "Max Profit: 101\n",
      "Max Profit: 0\n",
      "Max Profit: 0\n"
     ]
    }
   ],
   "source": [
    "# you cannot make a sale before making a buy first\n",
    "# if you buy and sell on the same day, it will give you a profit of 0\n",
    "\n",
    "import math\n",
    "\n",
    "def sell_at_max_profit(arr):\n",
    "    if len(arr)==0:\n",
    "        return 0\n",
    "    global_small=math.inf\n",
    "    global_profit=-math.inf\n",
    "    for value in arr:\n",
    "        # if value<global_small:\n",
    "        #     global_small=value\n",
    "        # if (value-global_small)>global_profit:\n",
    "        #     global_profit=value-global_small\n",
    "        ###################################################\n",
    "        global_small=min(global_small,value)\n",
    "        current_profit=value-global_small\n",
    "        global_profit=max(global_profit,current_profit)\n",
    "    return global_profit\n",
    "\n",
    "tests=[\n",
    "    [8,9,5,6,12,10,11],\n",
    "    [4,9,100,1,5,8],\n",
    "    [4,9,100,1,5,8,102],\n",
    "    [],\n",
    "    [5]\n",
    "]\n",
    "for test in tests:\n",
    "    print(f\"Max Profit: {sell_at_max_profit(test)}\")"
   ]
  },
  {
   "cell_type": "markdown",
   "metadata": {},
   "source": [
    "## String Problems"
   ]
  },
  {
   "cell_type": "markdown",
   "metadata": {},
   "source": [
    "### Reverse a sentence"
   ]
  },
  {
   "cell_type": "code",
   "execution_count": 62,
   "metadata": {},
   "outputs": [
    {
     "name": "stdout",
     "output_type": "stream",
     "text": [
      "Result: programmer a am i\n",
      "Result: world hello\n",
      "Result: word\n",
      "Result: Empty sentence provided!\n"
     ]
    }
   ],
   "source": [
    "def reverse_a_sentence(sentence):\n",
    "    if len(sentence)==0:\n",
    "        return \"Empty sentence provided!\"\n",
    "    words=sentence.split()\n",
    "    words=words[::-1]\n",
    "    return \" \".join(words)\n",
    "\n",
    "tests=[\n",
    "    \"i am a programmer\",\n",
    "    \"hello world\",\n",
    "    \"word\",\n",
    "    \"\"\n",
    "]\n",
    "for test in tests:\n",
    "    print(f\"Result: {reverse_a_sentence(test)}\")"
   ]
  },
  {
   "cell_type": "markdown",
   "metadata": {},
   "source": [
    "### Inplace duplicates"
   ]
  },
  {
   "cell_type": "code",
   "execution_count": 1,
   "metadata": {},
   "outputs": [
    {
     "name": "stdout",
     "output_type": "stream",
     "text": [
      "Result: DAB\u0000\n",
      "Result: ABCF\u0000\n",
      "Result: A\u0000\n",
      "Result: B\n",
      "Result: Empty string provided!\n"
     ]
    }
   ],
   "source": [
    "def inplace_duplicates(s):\n",
    "    length=len(s)\n",
    "    if length==0:\n",
    "        return \"Empty string provided!\"\n",
    "    if length==1:\n",
    "        return s\n",
    "    my_set=set()\n",
    "    read_stream=0\n",
    "    write_stream=0\n",
    "    s=list(s)\n",
    "    while read_stream<length:\n",
    "        if s[read_stream] not in my_set:\n",
    "            my_set.add(s[read_stream])\n",
    "            s[write_stream]=s[read_stream]\n",
    "            write_stream+=1\n",
    "        read_stream+=1\n",
    "    s[write_stream:]=\"\\0\"\n",
    "    # s=\"\".join([str(element) for _,element in enumerate(s)])\n",
    "    s=\"\".join(map(str,s))\n",
    "    return s\n",
    "\n",
    "tests=[\n",
    "    \"DABBADAB\",\n",
    "    \"ABAABACFAA\",\n",
    "    \"AA\",\n",
    "    \"B\",\n",
    "    \"\"\n",
    "]\n",
    "for test in tests:\n",
    "    print(f\"Result: {inplace_duplicates(test)}\")"
   ]
  },
  {
   "cell_type": "markdown",
   "metadata": {},
   "source": [
    "### Longest substring (no duplicates)"
   ]
  },
  {
   "cell_type": "code",
   "execution_count": 21,
   "metadata": {},
   "outputs": [
    {
     "name": "stdout",
     "output_type": "stream",
     "text": [
      "Result: (6, 'DABCEF')\n",
      "Result: (5, 'BDRAC')\n",
      "Result: (1, 'A')\n",
      "Result: (1, 'A')\n",
      "Result: (0, '')\n"
     ]
    }
   ],
   "source": [
    "import math\n",
    "\n",
    "def longest_substring(string):\n",
    "    length=len(string)\n",
    "    if length==0 or length==1:\n",
    "        return length,string\n",
    "    global_max=-math.inf\n",
    "    start=0\n",
    "    end=0\n",
    "    track={}\n",
    "    substrings={}\n",
    "    for i in range(length):\n",
    "        if string[i] in track:\n",
    "            start=max(start,track[string[i]]+1)\n",
    "        track[string[i]]=i\n",
    "        global_max=max(global_max, (end-start)+1)\n",
    "        end+=1\n",
    "        substrings.update({global_max:string[start:end]})\n",
    "    # print(substrings)\n",
    "    return global_max,substrings[global_max]\n",
    "\n",
    "tests=[\n",
    "    \"ABCDABCEF\",\n",
    "    \"ABDRAC\",\n",
    "    \"AA\",\n",
    "    \"A\",\n",
    "    \"\"\n",
    "]\n",
    "for test in tests:\n",
    "    print(f\"Result: {longest_substring(test)}\")"
   ]
  },
  {
   "cell_type": "markdown",
   "metadata": {},
   "source": [
    "### Palindrome"
   ]
  },
  {
   "cell_type": "code",
   "execution_count": 23,
   "metadata": {},
   "outputs": [
    {
     "name": "stdout",
     "output_type": "stream",
     "text": [
      "Result: True\n",
      "Result: False\n",
      "Result: True\n",
      "Result: True\n",
      "Result: True\n",
      "Result: False\n"
     ]
    }
   ],
   "source": [
    "def check_palindrome(string):\n",
    "    length=len(string)\n",
    "    if length==0 or length==1:\n",
    "        return True\n",
    "    start=0\n",
    "    end=length-1\n",
    "    while start<=end:\n",
    "        if string[start]==string[end]:\n",
    "            start+=1\n",
    "            end-=1\n",
    "        else:\n",
    "            return False\n",
    "    return True\n",
    "\n",
    "tests=[\n",
    "    \"abcba\",\n",
    "    \"abcdca\",\n",
    "    \"\",\n",
    "    \"a\",\n",
    "    \"racecar\",\n",
    "    \"shouvik\"\n",
    "]\n",
    "for test in tests:\n",
    "    print(f\"Result: {check_palindrome(test)}\")"
   ]
  },
  {
   "cell_type": "markdown",
   "metadata": {},
   "source": [
    "## Recursion Problems"
   ]
  },
  {
   "cell_type": "markdown",
   "metadata": {},
   "source": [
    "### Fibonacci problem (with diary)"
   ]
  },
  {
   "cell_type": "code",
   "execution_count": 27,
   "metadata": {},
   "outputs": [
    {
     "name": "stdout",
     "output_type": "stream",
     "text": [
      "Fib(1): 1\n",
      "Fib(2): 1\n",
      "Fib(3): 2\n",
      "Fib(4): 3\n",
      "Fib(5): 5\n",
      "Fib(6): 8\n",
      "Fib(7): 13\n",
      "Fib(8): 21\n",
      "Fib(9): 34\n",
      "Fib(10): 55\n",
      "Fib(20): 6765\n",
      "Fib(40): 102334155\n",
      "Fib(60): 1548008755920\n",
      "Fib(80): 23416728348467685\n",
      "Fib(100): 354224848179261915075\n"
     ]
    }
   ],
   "source": [
    "def fibonacci(num,diary={}):\n",
    "    if num==1 or num==2:\n",
    "        return 1\n",
    "    if num in diary:\n",
    "        return diary[num]\n",
    "    else:\n",
    "        diary[num]=fibonacci(num-1,diary)+fibonacci(num-2,diary)\n",
    "        return diary[num]\n",
    "\n",
    "tests=[1,2,3,4,5,6,7,8,9,10,20,40,60,80,100]\n",
    "for test in tests:\n",
    "    print(f\"Fib({test}): {fibonacci(test)}\")"
   ]
  }
 ],
 "metadata": {
  "kernelspec": {
   "display_name": "Python 3.10.6 64-bit",
   "language": "python",
   "name": "python3"
  },
  "language_info": {
   "codemirror_mode": {
    "name": "ipython",
    "version": 3
   },
   "file_extension": ".py",
   "mimetype": "text/x-python",
   "name": "python",
   "nbconvert_exporter": "python",
   "pygments_lexer": "ipython3",
   "version": "3.10.6"
  },
  "orig_nbformat": 4,
  "vscode": {
   "interpreter": {
    "hash": "4556f183c99580fce92e5f19c1596d73bd53bfb42d30e0673ab4213b55085b75"
   }
  }
 },
 "nbformat": 4,
 "nbformat_minor": 2
}
