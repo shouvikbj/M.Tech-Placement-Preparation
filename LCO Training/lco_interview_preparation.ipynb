{
 "cells": [
  {
   "cell_type": "markdown",
   "metadata": {},
   "source": [
    "# LCO Interview Preparation"
   ]
  },
  {
   "cell_type": "markdown",
   "metadata": {},
   "source": [
    "## Array Problems"
   ]
  },
  {
   "cell_type": "markdown",
   "metadata": {},
   "source": [
    "### Binary Search"
   ]
  },
  {
   "cell_type": "code",
   "execution_count": null,
   "metadata": {},
   "outputs": [],
   "source": [
    "# Given a sorted array and a value, find it's index\n",
    "\n",
    "arr = [10, 15, 20, 25, 30, 35, 40, 45, 50]\n",
    "val1 = 15  # index 1\n",
    "val2 = 40  # index 6\n",
    "\n",
    "\n",
    "# recursive approach\n",
    "\n",
    "\n",
    "def binary_search_helper(arr, val, low, high):\n",
    "    if low > high:  # corner case handling\n",
    "        return \"NO MATCH\"\n",
    "\n",
    "    mid = low + ((high - low) // 2)\n",
    "\n",
    "    if arr[mid] == val:\n",
    "        return mid\n",
    "    elif val < arr[mid]:\n",
    "        return binary_search_helper(arr, val, low, mid - 1)\n",
    "    else:\n",
    "        return binary_search_helper(arr, val, mid + 1, high)\n",
    "\n",
    "\n",
    "def binary_search_recursive(arr, val):\n",
    "    return binary_search_helper(arr, val, 0, len(arr) - 1)\n",
    "\n",
    "\n",
    "print(binary_search_recursive(arr, val1))\n",
    "print(binary_search_recursive(arr, val2))\n",
    "\n",
    "\n",
    "# iterative approach\n",
    "\n",
    "\n",
    "def binary_search_iterative(arr, val):\n",
    "    low = 0\n",
    "    high = len(arr) - 1\n",
    "\n",
    "    while low <= high:\n",
    "        mid = low + ((high - low) // 2)\n",
    "\n",
    "        if arr[mid] == val:\n",
    "            return mid\n",
    "        elif val < arr[mid]:\n",
    "            high = mid - 1\n",
    "        else:\n",
    "            low = mid + 1\n",
    "\n",
    "    return \"NO MATCH\"\n",
    "\n",
    "\n",
    "print(binary_search_iterative(arr, val1))\n",
    "print(binary_search_iterative(arr, val2))"
   ]
  },
  {
   "cell_type": "markdown",
   "metadata": {},
   "source": [
    "### Rotation of Array"
   ]
  },
  {
   "cell_type": "code",
   "execution_count": null,
   "metadata": {},
   "outputs": [],
   "source": [
    "# Find the number of rotations the array has gone through\n",
    "# Find the 'Pivot' element to determine the number of rotations the given array has gone through\n",
    "# Rotation is done on sorted arrays\n",
    "\n",
    "## Solution can be done using the logic of binary search\n",
    "## Let the sorted array be => [3,5,8,10,12,16,18,24]\n",
    "## Let the rotated array be => [12,16,18,24,3,5,8,10]\n",
    "\n",
    "\n",
    "def find_rotation(arr, low, high):\n",
    "    if high < low:\n",
    "        return \"NO MATCH\"\n",
    "\n",
    "    # mid = low + ((high - low) // 2)\n",
    "    mid = int(low + ((high - low) / 2))\n",
    "\n",
    "    if mid < high and arr[mid + 1] < arr[mid]:\n",
    "        return mid + 1\n",
    "\n",
    "    if mid > low and arr[mid] < arr[mid - 1]:\n",
    "        return mid\n",
    "\n",
    "    if arr[high] > arr[mid]:\n",
    "        return find_rotation(arr, low, mid - 1)\n",
    "    return find_rotation(arr, mid + 1, high)\n",
    "\n",
    "\n",
    "arr = [12, 16, 18, 24, 3, 5, 8, 10]\n",
    "low = 0\n",
    "high = len(arr) - 1\n",
    "\n",
    "print(\"Pivot : \", find_rotation(arr, low, high))\n",
    "\n",
    "arr = [4, 5, 6, 1, 2, 3]\n",
    "low = 0\n",
    "high = len(arr) - 1\n",
    "\n",
    "print(\"Pivot : \", find_rotation(arr, low, high))"
   ]
  },
  {
   "cell_type": "markdown",
   "metadata": {},
   "source": [
    "### Search in Rotated Array"
   ]
  },
  {
   "cell_type": "code",
   "execution_count": null,
   "metadata": {},
   "outputs": [],
   "source": [
    "def rotated_search_helper(arr, low, high, key):\n",
    "    if low > high:\n",
    "        return \"NO MATCH\"\n",
    "\n",
    "    mid = int(low + ((high - low) / 2))\n",
    "\n",
    "    if arr[mid] == key:\n",
    "        return mid\n",
    "\n",
    "    if arr[low] <= arr[mid] and key <= arr[mid] and key >= arr[low]:\n",
    "        return rotated_search_helper(arr, low, mid - 1, key)\n",
    "\n",
    "    elif arr[mid] <= arr[high] and key >= arr[mid] and key <= arr[high]:\n",
    "        return rotated_search_helper(arr, mid + 1, high, key)\n",
    "\n",
    "    elif arr[high] <= arr[mid]:\n",
    "        return rotated_search_helper(arr, mid + 1, high, key)\n",
    "\n",
    "    elif arr[low] >= arr[mid]:\n",
    "        return rotated_search_helper(arr, low, mid - 1, key)\n",
    "\n",
    "    return \"NO MATCH\"\n",
    "\n",
    "\n",
    "def rotated_search(arr, key):\n",
    "    print(f\"Index: {rotated_search_helper(arr, 0, len(arr)-1, key)}\")\n",
    "\n",
    "\n",
    "arr = [12, 16, 18, 24, 3, 5, 8, 10]\n",
    "key1 = 8\n",
    "key2 = 33\n",
    "key3 = 12\n",
    "\n",
    "rotated_search(arr, key1)\n",
    "rotated_search(arr, key2)\n",
    "rotated_search(arr, key3)"
   ]
  },
  {
   "cell_type": "markdown",
   "metadata": {},
   "source": [
    "### Find by Comparision"
   ]
  },
  {
   "cell_type": "code",
   "execution_count": null,
   "metadata": {},
   "outputs": [],
   "source": [
    "def find_smallest(arr1,arr2,arr3):\n",
    "    p1=0\n",
    "    p2=0\n",
    "    p3=0\n",
    "    while(p1<len(arr1) and p2<len(arr2) and p3<len(arr3)):\n",
    "        if arr1[p1]==arr2[p2]==arr3[p3]:\n",
    "            return arr1[p1]\n",
    "        if arr1[p1]<=arr2[p2] and arr1[p1]<=arr3[p3]:\n",
    "            p1=p1+1\n",
    "        elif arr2[p2]<=arr1[p1] and arr2[p2]<=arr3[p3]:\n",
    "            p2=p2+1\n",
    "        elif arr3[p3]<=arr1[p1] and arr3[p3]<=arr2[p2]:\n",
    "            p3=p3+1\n",
    "    return \"NO MATCH\"\n",
    "\n",
    "arr1=[5,6,7,20,30,54]\n",
    "arr2=[0,1,2,6,7,23,60,104]\n",
    "arr3=[3,4,6,20,25]\n",
    "\n",
    "print(f\"Smallest common element: {find_smallest(arr1,arr2,arr3)}\")"
   ]
  },
  {
   "cell_type": "markdown",
   "metadata": {},
   "source": [
    "### Target Triplet"
   ]
  },
  {
   "cell_type": "code",
   "execution_count": null,
   "metadata": {},
   "outputs": [],
   "source": [
    "def target_triplet(arr,target):\n",
    "    # assuming that the given array is sorted\n",
    "    # else we have to sort the array in ASC order by doing 'arr.sort()'\n",
    "    arr.sort()\n",
    "    res=[]\n",
    "    for i in range(len(arr)-2):\n",
    "        left=i+1\n",
    "        right=len(arr)-1\n",
    "        while left<right:\n",
    "            if arr[i]+arr[left]+arr[right]==target:\n",
    "                # if [arr[i],arr[left],arr[right]] not in res:\n",
    "                #     res.append([arr[i],arr[left],arr[right]])\n",
    "                res.append([arr[i],arr[left],arr[right]])\n",
    "                left=left+1\n",
    "                right=right-1\n",
    "            elif arr[i]+arr[left]+arr[right]<target:\n",
    "                left=left+1\n",
    "            elif arr[i]+arr[left]+arr[right]>target:\n",
    "                right=right-1\n",
    "    return res\n",
    "\n",
    "tests=[\n",
    "    [[-1,0,1,2,-1,-4],-3],\n",
    "    [[0,1,1],2],\n",
    "    [[0,0,0],1]\n",
    "]\n",
    "for test in tests:\n",
    "    print(f\"Result: {target_triplet(test[0],test[1])}\")"
   ]
  },
  {
   "cell_type": "markdown",
   "metadata": {},
   "source": [
    "### Move to 1 side"
   ]
  },
  {
   "cell_type": "code",
   "execution_count": null,
   "metadata": {},
   "outputs": [],
   "source": [
    "def move_to_one_side(arr,target):\n",
    "    length=len(arr)\n",
    "    if length<=1:\n",
    "        return arr\n",
    "    if target not in arr:\n",
    "        return \"Target element to move, is not present in the array!\"\n",
    "    r=length-1\n",
    "    w=length-1\n",
    "    while r>=0:\n",
    "        if arr[r]!=target:\n",
    "            arr[w]=arr[r]\n",
    "            w-=1\n",
    "        r-=1\n",
    "    for i in range(w,r,-1):\n",
    "        arr[i]=target\n",
    "    return arr\n",
    "\n",
    "tests=[\n",
    "    [[5,6,10,0,60,61,0,90,0],0],\n",
    "    [[4,1,6,8,4,2,5,4,4,8,10,20,25,4],4],\n",
    "    [[],1],\n",
    "    [[8],8],\n",
    "    [[5,6,10,0,60,61,0,90,0],50],\n",
    "    [[1,0,0,0,0,0,0,0,0],0],\n",
    "    [[0,0,0,0,0,0,0,0,1],1]\n",
    "]\n",
    "for test in tests:\n",
    "    print(f\"Result: {move_to_one_side(test[0],test[1])}\")"
   ]
  },
  {
   "cell_type": "markdown",
   "metadata": {},
   "source": [
    "### Sell at max profit"
   ]
  },
  {
   "cell_type": "code",
   "execution_count": null,
   "metadata": {},
   "outputs": [],
   "source": [
    "# you cannot make a sale before making a buy first\n",
    "# if you buy and sell on the same day, it will give you a profit of 0\n",
    "\n",
    "import math\n",
    "\n",
    "def sell_at_max_profit(arr):\n",
    "    if len(arr)==0:\n",
    "        return 0\n",
    "    global_small=math.inf\n",
    "    global_profit=-math.inf\n",
    "    for value in arr:\n",
    "        # if value<global_small:\n",
    "        #     global_small=value\n",
    "        # if (value-global_small)>global_profit:\n",
    "        #     global_profit=value-global_small\n",
    "        ###################################################\n",
    "        global_small=min(global_small,value)\n",
    "        current_profit=value-global_small\n",
    "        global_profit=max(global_profit,current_profit)\n",
    "    return global_profit\n",
    "\n",
    "tests=[\n",
    "    [8,9,5,6,12,10,11],\n",
    "    [4,9,100,1,5,8],\n",
    "    [4,9,100,1,5,8,102],\n",
    "    [],\n",
    "    [5]\n",
    "]\n",
    "for test in tests:\n",
    "    print(f\"Max Profit: {sell_at_max_profit(test)}\")"
   ]
  },
  {
   "cell_type": "markdown",
   "metadata": {},
   "source": [
    "## String Problems"
   ]
  },
  {
   "cell_type": "markdown",
   "metadata": {},
   "source": [
    "### Reverse a sentence"
   ]
  },
  {
   "cell_type": "code",
   "execution_count": null,
   "metadata": {},
   "outputs": [],
   "source": [
    "def reverse_a_sentence(sentence):\n",
    "    if len(sentence)==0:\n",
    "        return \"Empty sentence provided!\"\n",
    "    words=sentence.split()\n",
    "    words=words[::-1]\n",
    "    return \" \".join(words)\n",
    "\n",
    "tests=[\n",
    "    \"i am a programmer\",\n",
    "    \"hello world\",\n",
    "    \"word\",\n",
    "    \"\"\n",
    "]\n",
    "for test in tests:\n",
    "    print(f\"Result: {reverse_a_sentence(test)}\")"
   ]
  },
  {
   "cell_type": "markdown",
   "metadata": {},
   "source": [
    "### Inplace duplicates"
   ]
  },
  {
   "cell_type": "code",
   "execution_count": null,
   "metadata": {},
   "outputs": [],
   "source": [
    "def inplace_duplicates(s):\n",
    "    length=len(s)\n",
    "    if length==0:\n",
    "        return \"Empty string provided!\"\n",
    "    if length==1:\n",
    "        return s\n",
    "    my_set=set()\n",
    "    read_stream=0\n",
    "    write_stream=0\n",
    "    s=list(s)\n",
    "    while read_stream<length:\n",
    "        if s[read_stream] not in my_set:\n",
    "            my_set.add(s[read_stream])\n",
    "            s[write_stream]=s[read_stream]\n",
    "            write_stream+=1\n",
    "        read_stream+=1\n",
    "    s[write_stream:]=\"\\0\"\n",
    "    # s=\"\".join([str(element) for _,element in enumerate(s)])\n",
    "    s=\"\".join(map(str,s))\n",
    "    return s\n",
    "\n",
    "tests=[\n",
    "    \"DABBADAB\",\n",
    "    \"ABAABACFAA\",\n",
    "    \"AA\",\n",
    "    \"B\",\n",
    "    \"\"\n",
    "]\n",
    "for test in tests:\n",
    "    print(f\"Result: {inplace_duplicates(test)}\")"
   ]
  },
  {
   "cell_type": "markdown",
   "metadata": {},
   "source": [
    "### Longest substring (no duplicates)"
   ]
  },
  {
   "cell_type": "code",
   "execution_count": null,
   "metadata": {},
   "outputs": [],
   "source": [
    "import math\n",
    "\n",
    "def longest_substring(string):\n",
    "    length=len(string)\n",
    "    if length==0 or length==1:\n",
    "        return length,string\n",
    "    global_max=-math.inf\n",
    "    start=0\n",
    "    end=0\n",
    "    track={}\n",
    "    substrings={}\n",
    "    for i in range(length):\n",
    "        if string[i] in track:\n",
    "            start=max(start,track[string[i]]+1)\n",
    "        track[string[i]]=i\n",
    "        global_max=max(global_max, (end-start)+1)\n",
    "        end+=1\n",
    "        substrings.update({global_max:string[start:end]})\n",
    "    # print(substrings)\n",
    "    return global_max,substrings[global_max]\n",
    "\n",
    "tests=[\n",
    "    \"ABCDABCEF\",\n",
    "    \"ABDRAC\",\n",
    "    \"AA\",\n",
    "    \"A\",\n",
    "    \"\"\n",
    "]\n",
    "for test in tests:\n",
    "    print(f\"Result: {longest_substring(test)}\")"
   ]
  },
  {
   "cell_type": "markdown",
   "metadata": {},
   "source": [
    "### Palindrome"
   ]
  },
  {
   "cell_type": "code",
   "execution_count": null,
   "metadata": {},
   "outputs": [],
   "source": [
    "def check_palindrome(string):\n",
    "    length=len(string)\n",
    "    if length==0 or length==1:\n",
    "        return True\n",
    "    start=0\n",
    "    end=length-1\n",
    "    while start<=end:\n",
    "        if string[start]==string[end]:\n",
    "            start+=1\n",
    "            end-=1\n",
    "        else:\n",
    "            return False\n",
    "    return True\n",
    "\n",
    "tests=[\n",
    "    \"abcba\",\n",
    "    \"abcdca\",\n",
    "    \"\",\n",
    "    \"a\",\n",
    "    \"racecar\",\n",
    "    \"shouvik\"\n",
    "]\n",
    "for test in tests:\n",
    "    print(f\"Result: {check_palindrome(test)}\")"
   ]
  },
  {
   "cell_type": "markdown",
   "metadata": {},
   "source": [
    "## Recursion Problems"
   ]
  },
  {
   "cell_type": "markdown",
   "metadata": {},
   "source": [
    "### Fibonacci problem (with diary)"
   ]
  },
  {
   "cell_type": "code",
   "execution_count": null,
   "metadata": {},
   "outputs": [],
   "source": [
    "def fibonacci(num,diary={}):\n",
    "    if num==1 or num==2:\n",
    "        return 1\n",
    "    if num in diary:\n",
    "        return diary[num]\n",
    "    else:\n",
    "        diary[num]=fibonacci(num-1,diary)+fibonacci(num-2,diary)\n",
    "        return diary[num]\n",
    "\n",
    "tests=[1,2,3,4,5,6,7,8,9,10,20,40,60,80,100]\n",
    "for test in tests:\n",
    "    print(f\"Fib({test}): {fibonacci(test)}\")"
   ]
  },
  {
   "cell_type": "markdown",
   "metadata": {},
   "source": [
    "### Popular subset problem (Power set)"
   ]
  },
  {
   "cell_type": "code",
   "execution_count": null,
   "metadata": {},
   "outputs": [],
   "source": [
    "def subset(s,index,holder,result):\n",
    "    if index==len(s):\n",
    "        result.append(holder)\n",
    "        return\n",
    "    subset(s,index+1,holder+s[index],result)\n",
    "    subset(s,index+1,holder,result)\n",
    "    return result\n",
    "\n",
    "tests=[\n",
    "    [\"ab\",0,\"\",[]],\n",
    "    [\"abc\",0,\"\",[]],\n",
    "    [\"abcd\",0,\"\",[]]\n",
    "]\n",
    "for test in tests:\n",
    "    print(f\"Result: {subset(test[0],test[1],test[2],test[3])}\")"
   ]
  },
  {
   "cell_type": "markdown",
   "metadata": {},
   "source": [
    "### Decimal to Binary for round 1"
   ]
  },
  {
   "cell_type": "code",
   "execution_count": null,
   "metadata": {},
   "outputs": [],
   "source": [
    "def decimal_to_binary(val):\n",
    "    if val<=1:\n",
    "        return str(val)\n",
    "    else:\n",
    "        return decimal_to_binary(val//2)+decimal_to_binary(val%2)\n",
    "\n",
    "tests=[2,4,8,0,105]\n",
    "for test in tests:\n",
    "    print(f\"Result: {test} -> {decimal_to_binary(test)}\")"
   ]
  },
  {
   "cell_type": "markdown",
   "metadata": {},
   "source": [
    "### Near By Duplicates"
   ]
  },
  {
   "cell_type": "code",
   "execution_count": null,
   "metadata": {},
   "outputs": [],
   "source": [
    "def near_by_duplicates(s):\n",
    "    if len(s)==1 or len(s)==0:\n",
    "        return s\n",
    "    elif s[0]==s[1]:\n",
    "        return near_by_duplicates(s[1:])\n",
    "    else:\n",
    "        return s[0]+near_by_duplicates(s[1:])\n",
    "\n",
    "tests=[\"myllccoo\",\"sshhoooooouuvikk\",\"wworrlldd\",\"a\",\"\",\"aabcbcdd\",\"aaaaa\"]\n",
    "for test in tests:\n",
    "    print(f\"Result: {near_by_duplicates(test)}\")"
   ]
  },
  {
   "cell_type": "markdown",
   "metadata": {},
   "source": [
    "### Pascal n-th Row"
   ]
  },
  {
   "cell_type": "code",
   "execution_count": null,
   "metadata": {},
   "outputs": [],
   "source": [
    "def pascal_print(line_number):\n",
    "    if line_number==0:\n",
    "        return [1]\n",
    "    else:\n",
    "        line=[1]\n",
    "        last_line=pascal_print(line_number-1)\n",
    "        for i in range(len(last_line)-1):\n",
    "            line.append(last_line[i]+last_line[i+1])\n",
    "        line+=[1]\n",
    "    return line\n",
    "\n",
    "tests=[0,1,2,3,4,5,6]\n",
    "for test in tests:\n",
    "    print(f\"Result: Line {test} ->{pascal_print(test)}\")"
   ]
  },
  {
   "cell_type": "markdown",
   "metadata": {},
   "source": [
    "## Linked List Interview Problems"
   ]
  },
  {
   "cell_type": "markdown",
   "metadata": {},
   "source": [
    "### Approach for Linked List and Head"
   ]
  },
  {
   "cell_type": "code",
   "execution_count": 1,
   "metadata": {},
   "outputs": [],
   "source": [
    "# Node of a doubly Linked List\n",
    "class Node:\n",
    "    def __init__(self,val=0):\n",
    "        self.prev=None\n",
    "        self.val=val\n",
    "        self.next=None"
   ]
  },
  {
   "cell_type": "code",
   "execution_count": 3,
   "metadata": {},
   "outputs": [],
   "source": [
    "# Doubly Linked List class\n",
    "class DoublyLinkedList:\n",
    "    def __init__(self):\n",
    "        self.head=None\n",
    "    \n",
    "    def insert_at_begining(self, new_val):\n",
    "        my_node=Node(new_val)\n",
    "        my_node.next=self.head\n",
    "        if self.head is not None:\n",
    "            self.head.prev=my_node\n",
    "        self.head=my_node\n",
    "    \n",
    "    def insert_at_position(self,prev_node,new_val):\n",
    "        # check if prev_node exists or not\n",
    "        my_node=Node(new_val)\n",
    "        my_node.next=prev_node.next\n",
    "        prev_node.next=my_node\n",
    "        my_node.prev=prev_node\n",
    "        if my_node.next is not None:\n",
    "            my_node.next.prev=my_node\n",
    "    \n",
    "    def insert_a_tail(self,new_val):\n",
    "        my_node=Node(new_val)\n",
    "        last=self.head\n",
    "        if self.head is None:\n",
    "            my_node.prev=self.head # this can also point to \"None\"\n",
    "            self.head=my_node\n",
    "            return\n",
    "        while last.next is not None:\n",
    "            last=last.next\n",
    "        last.next=my_node\n",
    "        my_node.prev=last\n",
    "\n",
    "    def delete(self,dv):\n",
    "        if self.head==dv:\n",
    "            self.head=dv.next\n",
    "        if dv.next is not None:\n",
    "            dv.next.prev=dv.prev\n",
    "        if dv.prev is not None:\n",
    "            dv.prev.next=dv.next\n",
    "    \n",
    "    def reverse(self):\n",
    "        temp=None\n",
    "        traveller=self.head\n",
    "        while traveller is not None:\n",
    "            temp=traveller.prev\n",
    "            traveller.prev=traveller.next\n",
    "            traveller.next=temp\n",
    "            traveller=traveller.prev # very important line\n",
    "        if temp is not None:\n",
    "            self.head=temp.prev"
   ]
  },
  {
   "cell_type": "code",
   "execution_count": 3,
   "metadata": {},
   "outputs": [],
   "source": [
    "def print_linked_list(head):\n",
    "    res=[]\n",
    "    p=head\n",
    "    while p:\n",
    "        res.append(p.val)\n",
    "        p=p.next\n",
    "    s=\"head <-> \"\n",
    "    for i in res:\n",
    "        s+=f\"{i} <-> \"\n",
    "    s+=\"None\"\n",
    "    return s"
   ]
  },
  {
   "cell_type": "code",
   "execution_count": 4,
   "metadata": {},
   "outputs": [
    {
     "name": "stdout",
     "output_type": "stream",
     "text": [
      "Created Linked List: head <-> 5 <-> 8 <-> 6 <-> 2 <-> 4 <-> 1 <-> None\n",
      "Created Linked List: head <-> 4 <-> 1 <-> None\n",
      "Created Linked List: head <-> None\n",
      "Created Linked List: head <-> Amrita <-> Shouvik <-> None\n"
     ]
    }
   ],
   "source": [
    "def insert_at_begining(head,data_list):\n",
    "    for data in data_list:\n",
    "        n=Node(data)\n",
    "        n.next=head\n",
    "        if n.next:\n",
    "            n.next.prev=n\n",
    "        head=n\n",
    "        n.prev=head\n",
    "    return head\n",
    "\n",
    "def main(data_list):\n",
    "    head=None\n",
    "    # data_list=[1,4,2,6,8,5]\n",
    "    head=insert_at_begining(head,data_list)\n",
    "    print(f\"Created Linked List: {print_linked_list(head)}\")\n",
    "\n",
    "tests=[\n",
    "    [1,4,2,6,8,5],\n",
    "    [1,4],\n",
    "    [],\n",
    "    [\"Shouvik\",\"Amrita\"]\n",
    "]\n",
    "for test in tests:\n",
    "    main(test)"
   ]
  },
  {
   "cell_type": "markdown",
   "metadata": {},
   "source": [
    "### Insert in Doubly Linked List (after a particular element)"
   ]
  },
  {
   "cell_type": "code",
   "execution_count": 5,
   "metadata": {},
   "outputs": [
    {
     "name": "stdout",
     "output_type": "stream",
     "text": [
      "Available DLL: head <-> 5 <-> 8 <-> 6 <-> 2 <-> 4 <-> 1 <-> None\n",
      "Updated DLL: head <-> 5 <-> 8 <-> 6 <-> 2 <-> 4 <-> 10 <-> 1 <-> None\n",
      "Available DLL: head <-> 5 <-> 8 <-> 6 <-> 2 <-> 4 <-> 10 <-> 1 <-> None\n",
      "Updated DLL: head <-> 5 <-> 8 <-> 22 <-> 6 <-> 2 <-> 4 <-> 10 <-> 1 <-> None\n",
      "Available DLL: head <-> 5 <-> 8 <-> 22 <-> 6 <-> 2 <-> 4 <-> 10 <-> 1 <-> None\n",
      "20 not found in the DLL!\n",
      "Updated DLL: head <-> 5 <-> 8 <-> 22 <-> 6 <-> 2 <-> 4 <-> 10 <-> 1 <-> None\n"
     ]
    }
   ],
   "source": [
    "def insert_after(head,after_val,val_to_insert):\n",
    "    p=head\n",
    "    while p:\n",
    "        if p.val==after_val:\n",
    "            n=Node(val_to_insert)\n",
    "            n.next=p.next\n",
    "            n.prev=p\n",
    "            p.next.prev=n\n",
    "            p.next=n\n",
    "            return head\n",
    "        p=p.next\n",
    "    print(f\"{after_val} not found in the DLL!\")\n",
    "    return head\n",
    "\n",
    "def main(head,after_val,val_to_insert):\n",
    "    print(f\"Available DLL: {print_linked_list(head)}\")\n",
    "    head=insert_after(head,after_val,val_to_insert)\n",
    "    print(f\"Updated DLL: {print_linked_list(head)}\")\n",
    "\n",
    "tests=[\n",
    "    [4,10],\n",
    "    [8,22],\n",
    "    [20,9]\n",
    "]\n",
    "head=insert_at_begining(head=None,data_list=[1,4,2,6,8,5])\n",
    "for test in tests:\n",
    "    main(head,test[0],test[1])"
   ]
  },
  {
   "cell_type": "markdown",
   "metadata": {},
   "source": [
    "### Tail Insertion in a Doubly Linked List"
   ]
  },
  {
   "cell_type": "code",
   "execution_count": 7,
   "metadata": {},
   "outputs": [
    {
     "name": "stdout",
     "output_type": "stream",
     "text": [
      "Available DLL: head <-> 5 <-> 8 <-> 6 <-> 2 <-> 4 <-> 1 <-> None\n",
      "Updated DLL: head <-> 5 <-> 8 <-> 6 <-> 2 <-> 4 <-> 1 <-> 10 <-> None\n",
      "Available DLL: head <-> 5 <-> 8 <-> 6 <-> 2 <-> 4 <-> 1 <-> 10 <-> None\n",
      "Updated DLL: head <-> 5 <-> 8 <-> 6 <-> 2 <-> 4 <-> 1 <-> 10 <-> 20 <-> None\n",
      "Available DLL: head <-> 5 <-> 8 <-> 6 <-> 2 <-> 4 <-> 1 <-> 10 <-> 20 <-> None\n",
      "Updated DLL: head <-> 5 <-> 8 <-> 6 <-> 2 <-> 4 <-> 1 <-> 10 <-> 20 <-> 30 <-> None\n",
      "Available DLL: head <-> 5 <-> 8 <-> 6 <-> 2 <-> 4 <-> 1 <-> 10 <-> 20 <-> 30 <-> None\n",
      "Updated DLL: head <-> 5 <-> 8 <-> 6 <-> 2 <-> 4 <-> 1 <-> 10 <-> 20 <-> 30 <-> 40 <-> None\n",
      "Available DLL: head <-> 5 <-> 8 <-> 6 <-> 2 <-> 4 <-> 1 <-> 10 <-> 20 <-> 30 <-> 40 <-> None\n",
      "Updated DLL: head <-> 5 <-> 8 <-> 6 <-> 2 <-> 4 <-> 1 <-> 10 <-> 20 <-> 30 <-> 40 <-> 50 <-> None\n",
      "Available DLL: head <-> None\n",
      "Updated DLL: head <-> 5 <-> None\n"
     ]
    }
   ],
   "source": [
    "def insert_tail(head,val_to_insert):\n",
    "    if head is None:\n",
    "        n=Node(val_to_insert)\n",
    "        head=n\n",
    "        n.prev=head\n",
    "        return head\n",
    "    p=head\n",
    "    while p.next:\n",
    "        p=p.next\n",
    "    n=Node(val_to_insert)\n",
    "    p.next=n\n",
    "    n.prev=p\n",
    "    return head\n",
    "\n",
    "def main(head,val_to_insert):\n",
    "    print(f\"Available DLL: {print_linked_list(head)}\")\n",
    "    head=insert_tail(head,val_to_insert)\n",
    "    print(f\"Updated DLL: {print_linked_list(head)}\")\n",
    "\n",
    "tests=[10,20,30,40,50]\n",
    "head=insert_at_begining(head=None,data_list=[1,4,2,6,8,5])\n",
    "for test in tests:\n",
    "    main(head,test)\n",
    "\n",
    "# when an empty DLL is provided\n",
    "main(head=None,val_to_insert=5)"
   ]
  },
  {
   "cell_type": "markdown",
   "metadata": {},
   "source": [
    "### Deleting a value from Doubly Linked LIst"
   ]
  },
  {
   "cell_type": "code",
   "execution_count": 8,
   "metadata": {},
   "outputs": [
    {
     "name": "stdout",
     "output_type": "stream",
     "text": [
      "Available DLL: head <-> 5 <-> 8 <-> 6 <-> 2 <-> 4 <-> 1 <-> None\n",
      "Deleting 4...\n",
      "Updated DLL: head <-> 5 <-> 8 <-> 6 <-> 2 <-> 1 <-> None\n",
      "Available DLL: head <-> 5 <-> 8 <-> 6 <-> 2 <-> 1 <-> None\n",
      "Deleting 1...\n",
      "Updated DLL: head <-> 5 <-> 8 <-> 6 <-> 2 <-> None\n",
      "Available DLL: head <-> 5 <-> 8 <-> 6 <-> 2 <-> None\n",
      "Deleting 22...\n",
      "22 not found in DLL!\n",
      "Updated DLL: head <-> 5 <-> 8 <-> 6 <-> 2 <-> None\n",
      "Available DLL: head <-> 5 <-> 8 <-> 6 <-> 2 <-> None\n",
      "Deleting 5...\n",
      "Updated DLL: head <-> 8 <-> 6 <-> 2 <-> None\n"
     ]
    }
   ],
   "source": [
    "def delete_a_val(head,val_to_delete):\n",
    "    if head is None:\n",
    "        print(\"Empty DLL\")\n",
    "        return head\n",
    "    p=head\n",
    "    while p:\n",
    "        if p.val==val_to_delete:\n",
    "            if p.val==head.val:\n",
    "                head=p.next\n",
    "                p.next.prev=head\n",
    "                p.prev=None\n",
    "                p.next=None\n",
    "                del(p)\n",
    "                return head\n",
    "            p.prev.next=p.next\n",
    "            if p.next is not None:\n",
    "                p.next.prev=p.prev\n",
    "            p.prev=None\n",
    "            p.next=None\n",
    "            del(p)\n",
    "            return head\n",
    "        p=p.next\n",
    "    print(f\"{val_to_delete} not found in DLL!\")\n",
    "    return head\n",
    "\n",
    "def main(head,val_to_delete):\n",
    "    print(f\"Available DLL: {print_linked_list(head)}\")\n",
    "    print(f\"Deleting {val_to_delete}...\")\n",
    "    head=delete_a_val(head,val_to_delete)\n",
    "    print(f\"Updated DLL: {print_linked_list(head)}\")\n",
    "\n",
    "tests=[4,1,22,5]\n",
    "head=insert_at_begining(head=None,data_list=[1,4,2,6,8,5])\n",
    "for test in tests:\n",
    "    main(head,test)"
   ]
  },
  {
   "cell_type": "markdown",
   "metadata": {},
   "source": [
    "### Reverse a Doubly Linked List with traveller"
   ]
  },
  {
   "cell_type": "code",
   "execution_count": 19,
   "metadata": {},
   "outputs": [
    {
     "name": "stdout",
     "output_type": "stream",
     "text": [
      "Available DLL: head <-> 5 <-> 8 <-> 6 <-> 2 <-> 4 <-> 1 <-> None\n",
      "Updated DLL: head <-> 1 <-> 4 <-> 2 <-> 6 <-> 8 <-> 5 <-> None\n"
     ]
    }
   ],
   "source": [
    "def reverse(head):\n",
    "    p=head\n",
    "    temp=None\n",
    "    while p:\n",
    "        temp=p.prev\n",
    "        p.prev=p.next\n",
    "        if p==head:\n",
    "            p.next=None\n",
    "        else:\n",
    "            p.next=temp\n",
    "        p=p.prev\n",
    "    if temp is not None:\n",
    "        head=temp.prev\n",
    "    return head\n",
    "\n",
    "def main(head):\n",
    "    print(f\"Available DLL: {print_linked_list(head)}\")\n",
    "    head=reverse(head)\n",
    "    print(f\"Updated DLL: {print_linked_list(head)}\")\n",
    "\n",
    "head=insert_at_begining(head=None,data_list=[1,4,2,6,8,5])\n",
    "main(head)"
   ]
  },
  {
   "cell_type": "markdown",
   "metadata": {},
   "source": [
    "### Floyd's Loop Detection"
   ]
  },
  {
   "cell_type": "code",
   "execution_count": 20,
   "metadata": {},
   "outputs": [],
   "source": [
    "## Some assumptions\n",
    "# assuming node class is defined\n",
    "# node.next for singly linked list\n",
    "# node.prev & node.next for doubly linked list\n",
    "\n",
    "# solution using diary\n",
    "def has_cycle_with_diary(head):\n",
    "    if not head:\n",
    "        return False\n",
    "    if head.next==None:\n",
    "        return False\n",
    "    if head.next.next==None:\n",
    "        return False\n",
    "    diary={}\n",
    "    while head:\n",
    "        if head in diary:\n",
    "            return True\n",
    "        else:\n",
    "            diary[head]=True\n",
    "        head=head.next\n",
    "    return False\n",
    "\n",
    "# solution using Floyd's Loop Detection algorithm\n",
    "def has_cycle(head):\n",
    "    if not head:\n",
    "        return False\n",
    "    if head.next==None:\n",
    "        return False\n",
    "    if head.next.next==None:\n",
    "        return False\n",
    "    fast=head\n",
    "    slow=head\n",
    "    while fast!=None and slow!=None and fast.next!=None:\n",
    "        slow=slow.next\n",
    "        fast=fast.next.next\n",
    "        if fast==slow:\n",
    "            return True\n",
    "    return False"
   ]
  },
  {
   "cell_type": "markdown",
   "metadata": {},
   "source": [
    "### Merge 2 Sorted Linked Lists"
   ]
  },
  {
   "cell_type": "code",
   "execution_count": 22,
   "metadata": {},
   "outputs": [],
   "source": [
    "## Some assumptions\n",
    "# assuming node class is defined\n",
    "# node.next for singly linked list\n",
    "# node.prev & node.next for doubly linked list\n",
    "\n",
    "def merge_sorted_linked_list(head1,head2):\n",
    "    # take care of the corner cases\n",
    "    if head1 is None:\n",
    "        return head2 # list1 is not there\n",
    "    if head2 is None:\n",
    "        return head1 # list2 is not there\n",
    "    ll3_head=None\n",
    "    if head1.val<=head2.val:\n",
    "        ll3_head=head1\n",
    "        head1=head1.next\n",
    "    else:\n",
    "        ll3_head=head2\n",
    "        head2=head2.next\n",
    "    ll3_tail=ll3_head\n",
    "    while head1 and head2:\n",
    "        temp=None\n",
    "        if head1.val<=head2.val:\n",
    "            temp=head1\n",
    "            head1=head1.next\n",
    "        else:\n",
    "            temp=head2\n",
    "            head2=head2.next\n",
    "        ll3_tail.next=temp\n",
    "        ll3_tail=temp\n",
    "    if head1:\n",
    "        ll3_tail.next=head1\n",
    "    elif head2:\n",
    "        ll3_tail.next=head2\n",
    "    return ll3_head"
   ]
  },
  {
   "cell_type": "markdown",
   "metadata": {},
   "source": [
    "## Math Interview Problems"
   ]
  },
  {
   "cell_type": "markdown",
   "metadata": {},
   "source": [
    "### Not Counted In"
   ]
  },
  {
   "cell_type": "code",
   "execution_count": 23,
   "metadata": {},
   "outputs": [],
   "source": [
    "# to be continued"
   ]
  }
 ],
 "metadata": {
  "kernelspec": {
   "display_name": "Python 3.8.10 64-bit",
   "language": "python",
   "name": "python3"
  },
  "language_info": {
   "codemirror_mode": {
    "name": "ipython",
    "version": 3
   },
   "file_extension": ".py",
   "mimetype": "text/x-python",
   "name": "python",
   "nbconvert_exporter": "python",
   "pygments_lexer": "ipython3",
   "version": "3.10.4"
  },
  "orig_nbformat": 4,
  "vscode": {
   "interpreter": {
    "hash": "31f2aee4e71d21fbe5cf8b01ff0e069b9275f58929596ceb00d14d90e3e16cd6"
   }
  }
 },
 "nbformat": 4,
 "nbformat_minor": 2
}
