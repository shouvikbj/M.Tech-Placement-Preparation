{
 "cells": [
  {
   "cell_type": "markdown",
   "metadata": {},
   "source": [
    "# Graph = nodes + edges"
   ]
  },
  {
   "cell_type": "markdown",
   "metadata": {},
   "source": [
    "## Depth First Traversal (uses a stack)"
   ]
  },
  {
   "cell_type": "code",
   "execution_count": 13,
   "metadata": {},
   "outputs": [
    {
     "name": "stdout",
     "output_type": "stream",
     "text": [
      "Depth first traversal (iterative):\n",
      "a\n",
      "c\n",
      "e\n",
      "b\n",
      "d\n",
      "f\n",
      "Depth first traversal (recursive):\n",
      "a\n",
      "b\n",
      "d\n",
      "f\n",
      "c\n",
      "e\n"
     ]
    }
   ],
   "source": [
    "def depthFirstPrint(graph, source):\n",
    "    stack = [source]\n",
    "    \n",
    "    while len(stack)>0:\n",
    "        current = stack.pop()\n",
    "        print(current)\n",
    "        for neighbour in graph[current]:\n",
    "            stack.append(neighbour)\n",
    "\n",
    "def depthFirstPrintRecursive(graph, source):\n",
    "    print(source)\n",
    "    for neighbour in graph[source]:\n",
    "        depthFirstPrintRecursive(graph, neighbour)\n",
    "\n",
    "graph = {\n",
    "    'a': ['b','c'],\n",
    "    'b': ['d'],\n",
    "    'c': ['e'],\n",
    "    'd': ['f'],\n",
    "    'e': [],\n",
    "    'f': []\n",
    "}\n",
    "\n",
    "print(\"Depth first traversal (iterative):\")\n",
    "depthFirstPrint(graph, 'a') # acebdf\n",
    "print(\"Depth first traversal (recursive):\")\n",
    "depthFirstPrintRecursive(graph, 'a') # abdfce"
   ]
  },
  {
   "cell_type": "markdown",
   "metadata": {},
   "source": [
    "## Breadth First Traversal (uses a queue)"
   ]
  },
  {
   "cell_type": "code",
   "execution_count": 14,
   "metadata": {},
   "outputs": [
    {
     "name": "stdout",
     "output_type": "stream",
     "text": [
      "Breadth first traversal:\n",
      "a\n",
      "b\n",
      "c\n",
      "d\n",
      "e\n",
      "f\n"
     ]
    }
   ],
   "source": [
    "def breadthFirstPrint(graph, source):\n",
    "    queue = [source]\n",
    "    \n",
    "    while len(queue)>0:\n",
    "        current = queue.pop()\n",
    "        print(current)\n",
    "        for neighbour in graph[current]:\n",
    "            queue.insert(0, neighbour)\n",
    "\n",
    "graph = {\n",
    "    'a': ['b','c'],\n",
    "    'b': ['d'],\n",
    "    'c': ['e'],\n",
    "    'd': ['f'],\n",
    "    'e': [],\n",
    "    'f': []\n",
    "}\n",
    "\n",
    "print(\"Breadth first traversal:\")\n",
    "breadthFirstPrint(graph, 'a') # abcdef"
   ]
  },
  {
   "cell_type": "markdown",
   "metadata": {},
   "source": [
    "## Has Path problem"
   ]
  },
  {
   "cell_type": "code",
   "execution_count": 22,
   "metadata": {},
   "outputs": [
    {
     "name": "stdout",
     "output_type": "stream",
     "text": [
      "Using recursive DFT\n",
      "True\n",
      "False\n",
      "Using BFT\n",
      "True\n",
      "False\n"
     ]
    }
   ],
   "source": [
    "# using recursive Depth First Traversal (DFT)\n",
    "def hasPathUsingDFT(graph, src, dst):\n",
    "    if src == dst:\n",
    "        return True\n",
    "    for neighbour in graph[src]:\n",
    "        if hasPath(graph, neighbour, dst) == True:\n",
    "            return True\n",
    "    return False\n",
    "\n",
    "# using Breadth First Traversal (BFT)\n",
    "def hasPathUsingBFT(graph, src, dst):\n",
    "    queue = [src]\n",
    "    while len(queue)>0:\n",
    "        current = queue.pop()\n",
    "        if current == dst:\n",
    "            return True\n",
    "        for neighbour in graph[current]:\n",
    "            queue.insert(0, neighbour)\n",
    "    return False\n",
    "\n",
    "graph = {\n",
    "    'f': ['g','i'],\n",
    "    'g': ['h'],\n",
    "    'h': [],\n",
    "    'i': ['g','k'],\n",
    "    'j': ['i'],\n",
    "    'k': []\n",
    "}\n",
    "\n",
    "print(\"Using recursive DFT\")\n",
    "print(hasPathUsingDFT(graph, 'f', 'k'))\n",
    "print(hasPathUsingDFT(graph, 'j', 'f'))\n",
    "print(\"Using BFT\")\n",
    "print(hasPathUsingBFT(graph, 'f', 'k'))\n",
    "print(hasPathUsingBFT(graph, 'j', 'f'))"
   ]
  },
  {
   "cell_type": "markdown",
   "metadata": {},
   "source": [
    "## Undirected Path"
   ]
  },
  {
   "cell_type": "code",
   "execution_count": 25,
   "metadata": {},
   "outputs": [],
   "source": [
    "# if a 'edge list representation' of a graph is given,\n",
    "# convert that to adjacency list representation for better operations\n",
    "# here as the edges are undirected, there can be cycles,\n",
    "# to avoid falling in infinite cycle, we mark nodes, that we have already seen, as visited node.\n",
    "# i->l; k->o"
   ]
  },
  {
   "cell_type": "code",
   "execution_count": 3,
   "metadata": {},
   "outputs": [
    {
     "name": "stdout",
     "output_type": "stream",
     "text": [
      "True\n",
      "False\n"
     ]
    }
   ],
   "source": [
    "def buildGraph(edges):\n",
    "    graph = {}\n",
    "    for edge in edges:\n",
    "        a,b = edge[0], edge[1]\n",
    "        if a not in graph.keys():\n",
    "            graph.update({a: []})\n",
    "        if b not in graph.keys():\n",
    "            graph.update({b: []})\n",
    "        graph[a].append(b)\n",
    "        graph[b].append(a)\n",
    "    return graph\n",
    "\n",
    "def hasPath(graph, src, dst, visited):\n",
    "    if src == dst:\n",
    "        return True\n",
    "    if src in visited:\n",
    "        return False\n",
    "    visited.add(src)\n",
    "    for neighbour in graph[src]:\n",
    "        if hasPath(graph, neighbour, dst, visited) == True:\n",
    "            return True\n",
    "    return False\n",
    "\n",
    "def undirectedPath(edges, nodeA, nodeB):\n",
    "    graph = buildGraph(edges)\n",
    "    return hasPath(graph, nodeA, nodeB, visited=set())\n",
    "\n",
    "edges = [\n",
    "    ['i','j'],\n",
    "    ['k','i'],\n",
    "    ['m','k'],\n",
    "    ['k','l'],\n",
    "    ['o','n']\n",
    "]\n",
    "print(undirectedPath(edges,'j','m')) # True\n",
    "\n",
    "edges = [\n",
    "    ['i','j'],\n",
    "    ['k','i'],\n",
    "    ['m','k'],\n",
    "    ['k','l'],\n",
    "    ['o','n']\n",
    "]\n",
    "print(undirectedPath(edges,'k','o')) # False"
   ]
  },
  {
   "cell_type": "markdown",
   "metadata": {},
   "source": [
    "## Connected Components Count"
   ]
  },
  {
   "cell_type": "code",
   "execution_count": 4,
   "metadata": {},
   "outputs": [
    {
     "name": "stdout",
     "output_type": "stream",
     "text": [
      "2\n",
      "1\n",
      "3\n",
      "0\n"
     ]
    }
   ],
   "source": [
    "def explore(graph, current, visited):\n",
    "    if current in visited:\n",
    "        return False\n",
    "    visited.add(current)\n",
    "    for neighbour in graph[current]:\n",
    "        explore(graph, neighbour, visited)\n",
    "    return True\n",
    "\n",
    "def connectedComponentsCount(graph):\n",
    "    visited = set()\n",
    "    count = 0\n",
    "    for node in graph.keys():\n",
    "        if explore(graph, node, visited)==True:\n",
    "            count += 1\n",
    "    return count\n",
    "\n",
    "graph = {\n",
    "    0: [8, 1, 5],\n",
    "    1: [0],\n",
    "    5: [0, 8],\n",
    "    8: [0, 5],\n",
    "    2: [3, 4],\n",
    "    3: [2, 4],\n",
    "    4: [3, 2]\n",
    "}\n",
    "print(connectedComponentsCount(graph)) # -> 2\n",
    "\n",
    "graph = {\n",
    "    1: [2],\n",
    "    2: [1,8],\n",
    "    6: [7],\n",
    "    9: [8],\n",
    "    7: [6, 8],\n",
    "    8: [9, 7, 2]\n",
    "}\n",
    "print(connectedComponentsCount(graph)) # -> 1\n",
    "\n",
    "graph = {\n",
    "    3: [],\n",
    "    4: [6],\n",
    "    6: [4, 5, 7, 8],\n",
    "    8: [6],\n",
    "    7: [6],\n",
    "    5: [6],\n",
    "    1: [2],\n",
    "    2: [1]\n",
    "}\n",
    "print(connectedComponentsCount(graph)) # -> 3\n",
    "\n",
    "graph = {}\n",
    "print(connectedComponentsCount(graph)) # -> 0"
   ]
  },
  {
   "cell_type": "markdown",
   "metadata": {},
   "source": [
    "## Largest Component"
   ]
  },
  {
   "cell_type": "code",
   "execution_count": 14,
   "metadata": {},
   "outputs": [
    {
     "name": "stdout",
     "output_type": "stream",
     "text": [
      "4\n",
      "6\n",
      "5\n"
     ]
    }
   ],
   "source": [
    "def exploreSize(graph, current, visited):\n",
    "    if current in visited:\n",
    "        return 0\n",
    "    visited.add(current)\n",
    "    size = 1\n",
    "    for neighbour in graph[current]:\n",
    "        size += exploreSize(graph, neighbour, visited)\n",
    "    return size\n",
    "\n",
    "def largestComponent(graph):\n",
    "    visited = set()\n",
    "    longest = 0\n",
    "    for node in graph.keys():\n",
    "        size = exploreSize(graph, node, visited)\n",
    "        if size>longest:\n",
    "            longest = size\n",
    "    return longest\n",
    "\n",
    "graph = {\n",
    "    0: [8, 1, 5],\n",
    "    1: [0],\n",
    "    5: [0, 8],\n",
    "    8: [0, 5],\n",
    "    2: [3, 4],\n",
    "    3: [2, 4],\n",
    "    4: [3, 2]\n",
    "}\n",
    "print(largestComponent(graph)) # -> 4\n",
    "\n",
    "graph = {\n",
    "    1: [2],\n",
    "    2: [1,8],\n",
    "    6: [7],\n",
    "    9: [8],\n",
    "    7: [6, 8],\n",
    "    8: [9, 7, 2]\n",
    "}\n",
    "print(largestComponent(graph)) # -> 6\n",
    "\n",
    "graph = {\n",
    "    3: [],\n",
    "    4: [6],\n",
    "    6: [4, 5, 7, 8],\n",
    "    8: [6],\n",
    "    7: [6],\n",
    "    5: [6],\n",
    "    1: [2],\n",
    "    2: [1]\n",
    "}\n",
    "print(largestComponent(graph)) # -> 5"
   ]
  },
  {
   "cell_type": "markdown",
   "metadata": {},
   "source": [
    "## Shortest Path"
   ]
  },
  {
   "cell_type": "code",
   "execution_count": 16,
   "metadata": {},
   "outputs": [
    {
     "name": "stdout",
     "output_type": "stream",
     "text": [
      "2\n",
      "1\n",
      "3\n",
      "-1\n"
     ]
    }
   ],
   "source": [
    "def shortestPath(edges, nodeA, nodeB):\n",
    "    graph = buildGraph(edges)\n",
    "    visited = set([nodeA])\n",
    "    queue = [[nodeA,0]]\n",
    "    while len(queue)>0:\n",
    "        el = queue.pop()\n",
    "        node, distance = el[0], el[1]\n",
    "        if node == nodeB:\n",
    "            return distance\n",
    "        for neighbour in graph[node]:\n",
    "            if neighbour not in visited:\n",
    "                visited.add(neighbour)\n",
    "                queue.insert(0, [neighbour, (distance+1)])\n",
    "    return -1\n",
    "        \n",
    "\n",
    "def buildGraph(edges):\n",
    "    graph = {}\n",
    "    for edge in edges:\n",
    "        a,b = edge[0],edge[1]\n",
    "        if a not in graph.keys():\n",
    "            graph.update({a: []})\n",
    "        if b not in graph.keys():\n",
    "            graph.update({b: []})\n",
    "        graph[a].append(b)\n",
    "        graph[b].append(a)\n",
    "    return graph\n",
    "\n",
    "edges = [\n",
    "    ['w', 'x'],\n",
    "    ['x', 'y'],\n",
    "    ['z', 'y'],\n",
    "    ['z', 'v'],\n",
    "    ['w', 'v']\n",
    "]\n",
    "print(shortestPath(edges, 'w', 'z')) # -> 2\n",
    "\n",
    "edges = [\n",
    "    ['w', 'x'],\n",
    "    ['x', 'y'],\n",
    "    ['z', 'y'],\n",
    "    ['z', 'v'],\n",
    "    ['w', 'v']\n",
    "]\n",
    "print(shortestPath(edges, 'y', 'x')) # -> 1\n",
    "\n",
    "edges = [\n",
    "    ['a', 'c'],\n",
    "    ['a', 'b'],\n",
    "    ['c', 'b'],\n",
    "    ['c', 'd'],\n",
    "    ['b', 'd'],\n",
    "    ['e', 'd'],\n",
    "    ['g', 'f']\n",
    "]\n",
    "\n",
    "print(shortestPath(edges, 'a', 'e')) # -> 3\n",
    "\n",
    "edges = [\n",
    "    ['a', 'c'],\n",
    "    ['a', 'b'],\n",
    "    ['c', 'b'],\n",
    "    ['c', 'd'],\n",
    "    ['b', 'd'],\n",
    "    ['e', 'd'],\n",
    "    ['g', 'f']\n",
    "]\n",
    "\n",
    "print(shortestPath(edges, 'b', 'g')) # -> -1"
   ]
  },
  {
   "cell_type": "markdown",
   "metadata": {},
   "source": [
    "## Island Count"
   ]
  },
  {
   "cell_type": "code",
   "execution_count": 24,
   "metadata": {},
   "outputs": [
    {
     "name": "stdout",
     "output_type": "stream",
     "text": [
      "3\n",
      "4\n",
      "1\n",
      "0\n"
     ]
    }
   ],
   "source": [
    "def islandCount(grid):\n",
    "    visited = set()\n",
    "    count = 0\n",
    "    for r in range(len(grid)):\n",
    "        for c in range(len(grid[0])):\n",
    "            if explore(grid,r,c,visited) == True:\n",
    "                count += 1\n",
    "    return count\n",
    "\n",
    "def explore(grid,r,c,visited):\n",
    "    rowInbounds = 0<=r and r<len(grid)\n",
    "    colInbounds = 0<=c and c<len(grid[0])\n",
    "    if ((not rowInbounds) or (not colInbounds)):\n",
    "        return False\n",
    "    if grid[r][c] == 'W':\n",
    "        return False\n",
    "    pos = f\"{r},{c}\"\n",
    "    if pos in visited:\n",
    "        return False\n",
    "    visited.add(pos)\n",
    "    explore(grid,r-1,c,visited)\n",
    "    explore(grid,r+1,c,visited)\n",
    "    explore(grid,r,c-1,visited)\n",
    "    explore(grid,r,c+1,visited)\n",
    "    return True\n",
    "\n",
    "grid = [\n",
    "    ['W', 'L', 'W', 'W', 'W'],\n",
    "    ['W', 'L', 'W', 'W', 'W'],\n",
    "    ['W', 'W', 'W', 'L', 'W'],\n",
    "    ['W', 'W', 'L', 'L', 'W'],\n",
    "    ['L', 'W', 'W', 'L', 'L'],\n",
    "    ['L', 'L', 'W', 'W', 'W']\n",
    "]\n",
    "print(islandCount(grid)) # -> 3\n",
    "\n",
    "grid = [\n",
    "    ['L', 'W', 'W', 'L', 'W'],\n",
    "    ['L', 'W', 'W', 'L', 'L'],\n",
    "    ['W', 'L', 'W', 'L', 'W'],\n",
    "    ['W', 'W', 'W', 'W', 'W'],\n",
    "    ['W', 'W', 'L', 'L', 'L']\n",
    "]\n",
    "print(islandCount(grid)) # -> 4\n",
    "\n",
    "grid = [\n",
    "    ['L', 'L', 'L'],\n",
    "    ['L', 'L', 'L'],\n",
    "    ['L', 'L', 'L']\n",
    "]\n",
    "print(islandCount(grid)) # -> 1\n",
    "\n",
    "grid = [\n",
    "    ['W', 'W'],\n",
    "    ['W', 'W'],\n",
    "    ['W', 'W']\n",
    "]\n",
    "print(islandCount(grid)) # -> 0"
   ]
  },
  {
   "cell_type": "markdown",
   "metadata": {},
   "source": [
    "## Minimum Island"
   ]
  },
  {
   "cell_type": "code",
   "execution_count": 26,
   "metadata": {},
   "outputs": [
    {
     "name": "stdout",
     "output_type": "stream",
     "text": [
      "2\n",
      "1\n",
      "9\n",
      "1\n"
     ]
    }
   ],
   "source": [
    "import math\n",
    "\n",
    "def minimumIsland(grid):\n",
    "    visited = set()\n",
    "    minSize = math.inf\n",
    "    for r in range(len(grid)):\n",
    "        for c in range(len(grid[0])):\n",
    "            size = exploreSize(grid,r,c,visited)\n",
    "            if size>0 and size<minSize:\n",
    "                minSize = size\n",
    "    return minSize\n",
    "    \n",
    "def exploreSize(grid,r,c,visited):\n",
    "    rowInbounds = 0<=r and r<len(grid)\n",
    "    colInbounds = 0<=c and c<len(grid[0])\n",
    "    if ((not rowInbounds) or (not colInbounds)):\n",
    "        return 0\n",
    "    if grid[r][c]=='W':\n",
    "        return 0\n",
    "    pos = f\"{r},{c}\"\n",
    "    if pos in visited:\n",
    "        return 0\n",
    "    visited.add(pos)\n",
    "    size = 1\n",
    "    size += exploreSize(grid,r-1,c,visited)\n",
    "    size += exploreSize(grid,r+1,c,visited)\n",
    "    size += exploreSize(grid,r,c-1,visited)\n",
    "    size += exploreSize(grid,r,c+1,visited)\n",
    "    return size\n",
    "\n",
    "grid = [\n",
    "    ['W', 'L', 'W', 'W', 'W'],\n",
    "    ['W', 'L', 'W', 'W', 'W'],\n",
    "    ['W', 'W', 'W', 'L', 'W'],\n",
    "    ['W', 'W', 'L', 'L', 'W'],\n",
    "    ['L', 'W', 'W', 'L', 'L'],\n",
    "    ['L', 'L', 'W', 'W', 'W']\n",
    "]\n",
    "print(minimumIsland(grid)) # -> 2\n",
    "\n",
    "grid = [\n",
    "    ['L', 'W', 'W', 'L', 'W'],\n",
    "    ['L', 'W', 'W', 'L', 'L'],\n",
    "    ['W', 'L', 'W', 'L', 'W'],\n",
    "    ['W', 'W', 'W', 'W', 'W'],\n",
    "    ['W', 'W', 'L', 'L', 'L']\n",
    "]\n",
    "print(minimumIsland(grid)) # -> 1\n",
    "\n",
    "grid = [\n",
    "    ['L', 'L', 'L'],\n",
    "    ['L', 'L', 'L'],\n",
    "    ['L', 'L', 'L']\n",
    "]\n",
    "print(minimumIsland(grid)) # -> 9\n",
    "\n",
    "grid = [\n",
    "    ['W', 'W'],\n",
    "    ['L', 'L'],\n",
    "    ['W', 'W'],\n",
    "    ['W', 'L']\n",
    "]\n",
    "print(minimumIsland(grid)) # -> 1"
   ]
  },
  {
   "cell_type": "code",
   "execution_count": null,
   "metadata": {},
   "outputs": [],
   "source": []
  }
 ],
 "metadata": {
  "kernelspec": {
   "display_name": "Python 3",
   "language": "python",
   "name": "python3"
  },
  "language_info": {
   "codemirror_mode": {
    "name": "ipython",
    "version": 3
   },
   "file_extension": ".py",
   "mimetype": "text/x-python",
   "name": "python",
   "nbconvert_exporter": "python",
   "pygments_lexer": "ipython3",
   "version": "3.7.4"
  }
 },
 "nbformat": 4,
 "nbformat_minor": 2
}
