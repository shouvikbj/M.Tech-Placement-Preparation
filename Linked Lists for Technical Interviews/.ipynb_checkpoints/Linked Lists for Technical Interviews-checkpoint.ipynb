{
 "cells": [
  {
   "cell_type": "markdown",
   "metadata": {},
   "source": [
    "# Linked Lists"
   ]
  },
  {
   "cell_type": "code",
   "execution_count": 50,
   "metadata": {},
   "outputs": [],
   "source": [
    "class Node:\n",
    "    def __init__(self, val=None):\n",
    "        self.val = val\n",
    "        self.next = None\n",
    "\n",
    "def print_list(head):\n",
    "    l  = []\n",
    "    current = head\n",
    "    while current:\n",
    "        l.append(current.val)\n",
    "        current = current.next\n",
    "    return l"
   ]
  },
  {
   "cell_type": "markdown",
   "metadata": {},
   "source": [
    "## Linked List Traversal"
   ]
  },
  {
   "cell_type": "code",
   "execution_count": 17,
   "metadata": {},
   "outputs": [
    {
     "name": "stdout",
     "output_type": "stream",
     "text": [
      "A\n",
      "B\n",
      "C\n",
      "D\n",
      "6\n",
      "-------------\n",
      "A\n",
      "B\n",
      "C\n",
      "D\n",
      "6\n"
     ]
    }
   ],
   "source": [
    "a = Node(\"A\")\n",
    "b = Node(\"B\")\n",
    "c = Node(\"C\")\n",
    "d = Node(\"D\")\n",
    "e = Node(6)\n",
    "\n",
    "a.next = b\n",
    "b.next = c\n",
    "c.next = d\n",
    "d.next = e\n",
    "\n",
    "def print_linked_list(head):\n",
    "    current = head\n",
    "    while current:\n",
    "        print(current.val)\n",
    "        current = current.next\n",
    "\n",
    "print_linked_list(a)\n",
    "\n",
    "print(\"-------------\")\n",
    "\n",
    "def print_linked_list_recursive(head):\n",
    "    if head==None:\n",
    "        return\n",
    "    print(head.val)\n",
    "    print_linked_list_recursive(head.next)\n",
    "\n",
    "print_linked_list_recursive(a)"
   ]
  },
  {
   "cell_type": "markdown",
   "metadata": {},
   "source": [
    "## Linked List Values"
   ]
  },
  {
   "cell_type": "code",
   "execution_count": 32,
   "metadata": {},
   "outputs": [],
   "source": [
    "res = []\n",
    "\n",
    "# iterative\n",
    "def linked_list_values(head):\n",
    "    current = head\n",
    "    while current:\n",
    "        res.append(current.val)\n",
    "        current = current.next\n",
    "    return res\n",
    "\n",
    "# recursive\n",
    "def linked_list_values(head):\n",
    "    if head==None:\n",
    "        return []\n",
    "    res.append(head.val)\n",
    "    linked_list_values(head.next)\n",
    "    return res"
   ]
  },
  {
   "cell_type": "code",
   "execution_count": 28,
   "metadata": {},
   "outputs": [
    {
     "data": {
      "text/plain": [
       "['a', 'b', 'c', 'd']"
      ]
     },
     "execution_count": 28,
     "metadata": {},
     "output_type": "execute_result"
    }
   ],
   "source": [
    "# test_00\n",
    "\n",
    "res = []\n",
    "\n",
    "a = Node(\"a\")\n",
    "b = Node(\"b\")\n",
    "c = Node(\"c\")\n",
    "d = Node(\"d\")\n",
    "\n",
    "a.next = b\n",
    "b.next = c\n",
    "c.next = d\n",
    "\n",
    "# a -> b -> c -> d\n",
    "\n",
    "linked_list_values(a) # -> [ 'a', 'b', 'c', 'd' ]"
   ]
  },
  {
   "cell_type": "code",
   "execution_count": 29,
   "metadata": {},
   "outputs": [
    {
     "data": {
      "text/plain": [
       "['x', 'y']"
      ]
     },
     "execution_count": 29,
     "metadata": {},
     "output_type": "execute_result"
    }
   ],
   "source": [
    "# test_01\n",
    "\n",
    "res = []\n",
    "\n",
    "x = Node(\"x\")\n",
    "y = Node(\"y\")\n",
    "\n",
    "x.next = y\n",
    "\n",
    "# x -> y\n",
    "\n",
    "linked_list_values(x) # -> [ 'x', 'y' ]"
   ]
  },
  {
   "cell_type": "code",
   "execution_count": 30,
   "metadata": {},
   "outputs": [
    {
     "data": {
      "text/plain": [
       "['q']"
      ]
     },
     "execution_count": 30,
     "metadata": {},
     "output_type": "execute_result"
    }
   ],
   "source": [
    "# test_02\n",
    "\n",
    "res = []\n",
    "\n",
    "q = Node(\"q\")\n",
    "\n",
    "# q\n",
    "\n",
    "linked_list_values(q) # -> [ 'q' ]"
   ]
  },
  {
   "cell_type": "code",
   "execution_count": 31,
   "metadata": {},
   "outputs": [
    {
     "data": {
      "text/plain": [
       "[]"
      ]
     },
     "execution_count": 31,
     "metadata": {},
     "output_type": "execute_result"
    }
   ],
   "source": [
    "# test_03\n",
    "\n",
    "res = []\n",
    "\n",
    "linked_list_values(None) # -> [ ]"
   ]
  },
  {
   "cell_type": "markdown",
   "metadata": {},
   "source": [
    "## Sum List"
   ]
  },
  {
   "cell_type": "code",
   "execution_count": 47,
   "metadata": {},
   "outputs": [],
   "source": [
    "# iterative\n",
    "def sum_list(head):\n",
    "    sum = 0\n",
    "    current = head\n",
    "    while current:\n",
    "        sum += current.val\n",
    "        current = current.next\n",
    "    return sum\n",
    "\n",
    "# recursive\n",
    "def sum_list(head):\n",
    "    if head==None:\n",
    "        return 0\n",
    "    return head.val+sum_list(head.next)"
   ]
  },
  {
   "cell_type": "code",
   "execution_count": 48,
   "metadata": {},
   "outputs": [
    {
     "data": {
      "text/plain": [
       "19"
      ]
     },
     "execution_count": 48,
     "metadata": {},
     "output_type": "execute_result"
    }
   ],
   "source": [
    "# test_00\n",
    "\n",
    "a = Node(2)\n",
    "b = Node(8)\n",
    "c = Node(3)\n",
    "d = Node(-1)\n",
    "e = Node(7)\n",
    "\n",
    "a.next = b\n",
    "b.next = c\n",
    "c.next = d\n",
    "d.next = e\n",
    "\n",
    "# 2 -> 8 -> 3 -> -1 -> 7\n",
    "\n",
    "sum_list(a) # 19"
   ]
  },
  {
   "cell_type": "code",
   "execution_count": 49,
   "metadata": {},
   "outputs": [
    {
     "data": {
      "text/plain": [
       "42"
      ]
     },
     "execution_count": 49,
     "metadata": {},
     "output_type": "execute_result"
    }
   ],
   "source": [
    "# test_01\n",
    "\n",
    "x = Node(38)\n",
    "y = Node(4)\n",
    "\n",
    "x.next = y\n",
    "\n",
    "# 38 -> 4\n",
    "\n",
    "sum_list(x) # 42"
   ]
  },
  {
   "cell_type": "code",
   "execution_count": 50,
   "metadata": {},
   "outputs": [
    {
     "data": {
      "text/plain": [
       "100"
      ]
     },
     "execution_count": 50,
     "metadata": {},
     "output_type": "execute_result"
    }
   ],
   "source": [
    "# test_02\n",
    "\n",
    "z = Node(100)\n",
    "\n",
    "# 100\n",
    "\n",
    "sum_list(z) # 100"
   ]
  },
  {
   "cell_type": "code",
   "execution_count": 51,
   "metadata": {},
   "outputs": [
    {
     "data": {
      "text/plain": [
       "0"
      ]
     },
     "execution_count": 51,
     "metadata": {},
     "output_type": "execute_result"
    }
   ],
   "source": [
    "# test_03\n",
    "\n",
    "sum_list(None) # 0"
   ]
  },
  {
   "cell_type": "markdown",
   "metadata": {},
   "source": [
    "## Linked List Find"
   ]
  },
  {
   "cell_type": "code",
   "execution_count": 65,
   "metadata": {},
   "outputs": [],
   "source": [
    "# iterative\n",
    "def linked_list_find(head, target):\n",
    "    current = head\n",
    "    while current:\n",
    "        if current.val==target:\n",
    "            return True\n",
    "        current = current.next\n",
    "    return False\n",
    "\n",
    "# recursive\n",
    "def linked_list_find(head, target):\n",
    "    if head==None:\n",
    "        return False\n",
    "    if head.val==target:\n",
    "        return True\n",
    "    return linked_list_find(head.next, target)"
   ]
  },
  {
   "cell_type": "code",
   "execution_count": 66,
   "metadata": {},
   "outputs": [
    {
     "data": {
      "text/plain": [
       "True"
      ]
     },
     "execution_count": 66,
     "metadata": {},
     "output_type": "execute_result"
    }
   ],
   "source": [
    "# test_00\n",
    "\n",
    "a = Node(\"a\")\n",
    "b = Node(\"b\")\n",
    "c = Node(\"c\")\n",
    "d = Node(\"d\")\n",
    "\n",
    "a.next = b\n",
    "b.next = c\n",
    "c.next = d\n",
    "\n",
    "# a -> b -> c -> d\n",
    "\n",
    "linked_list_find(a, \"c\") # True"
   ]
  },
  {
   "cell_type": "code",
   "execution_count": 67,
   "metadata": {},
   "outputs": [
    {
     "data": {
      "text/plain": [
       "True"
      ]
     },
     "execution_count": 67,
     "metadata": {},
     "output_type": "execute_result"
    }
   ],
   "source": [
    "# test_01\n",
    "\n",
    "a = Node(\"a\")\n",
    "b = Node(\"b\")\n",
    "c = Node(\"c\")\n",
    "d = Node(\"d\")\n",
    "\n",
    "a.next = b\n",
    "b.next = c\n",
    "c.next = d\n",
    "\n",
    "# a -> b -> c -> d\n",
    "\n",
    "linked_list_find(a, \"d\") # True"
   ]
  },
  {
   "cell_type": "code",
   "execution_count": 68,
   "metadata": {},
   "outputs": [
    {
     "data": {
      "text/plain": [
       "False"
      ]
     },
     "execution_count": 68,
     "metadata": {},
     "output_type": "execute_result"
    }
   ],
   "source": [
    "# test_02\n",
    "\n",
    "a = Node(\"a\")\n",
    "b = Node(\"b\")\n",
    "c = Node(\"c\")\n",
    "d = Node(\"d\")\n",
    "\n",
    "a.next = b\n",
    "b.next = c\n",
    "c.next = d\n",
    "\n",
    "# a -> b -> c -> d\n",
    "\n",
    "linked_list_find(a, \"q\") # False"
   ]
  },
  {
   "cell_type": "code",
   "execution_count": 69,
   "metadata": {},
   "outputs": [
    {
     "data": {
      "text/plain": [
       "True"
      ]
     },
     "execution_count": 69,
     "metadata": {},
     "output_type": "execute_result"
    }
   ],
   "source": [
    "# test_03\n",
    "\n",
    "node1 = Node(\"jason\")\n",
    "node2 = Node(\"leneli\")\n",
    "\n",
    "node1.next = node2\n",
    "\n",
    "# jason -> leneli\n",
    "\n",
    "linked_list_find(node1, \"jason\") # True"
   ]
  },
  {
   "cell_type": "code",
   "execution_count": 70,
   "metadata": {},
   "outputs": [
    {
     "data": {
      "text/plain": [
       "True"
      ]
     },
     "execution_count": 70,
     "metadata": {},
     "output_type": "execute_result"
    }
   ],
   "source": [
    "# test_04\n",
    "\n",
    "node1 = Node(42)\n",
    "\n",
    "# 42\n",
    "\n",
    "linked_list_find(node1, 42) # True"
   ]
  },
  {
   "cell_type": "code",
   "execution_count": 71,
   "metadata": {},
   "outputs": [
    {
     "data": {
      "text/plain": [
       "False"
      ]
     },
     "execution_count": 71,
     "metadata": {},
     "output_type": "execute_result"
    }
   ],
   "source": [
    "# test_05\n",
    "\n",
    "node1 = Node(42)\n",
    "\n",
    "# 42\n",
    "\n",
    "linked_list_find(node1, 100) # False"
   ]
  },
  {
   "cell_type": "markdown",
   "metadata": {},
   "source": [
    "## Get Node Value"
   ]
  },
  {
   "cell_type": "code",
   "execution_count": 100,
   "metadata": {},
   "outputs": [],
   "source": [
    "# iterative\n",
    "def get_node_value(head, index):\n",
    "    if index<0 or index>=get_length(head):\n",
    "        return None\n",
    "    current = head\n",
    "    itc = 0\n",
    "    while current:\n",
    "        if itc==index:\n",
    "            return current.val\n",
    "        itc += 1\n",
    "        current = current.next\n",
    "    \n",
    "def get_length(head):\n",
    "    current = head\n",
    "    length = 0\n",
    "    while current:\n",
    "        length += 1\n",
    "        current = current.next\n",
    "    return length\n",
    "\n",
    "# recursive\n",
    "def get_node_value(head, index):\n",
    "    if head==None:\n",
    "        return None\n",
    "    if index==0:\n",
    "        return head.val\n",
    "    return get_node_value(head.next, index-1)"
   ]
  },
  {
   "cell_type": "code",
   "execution_count": 95,
   "metadata": {},
   "outputs": [
    {
     "data": {
      "text/plain": [
       "'c'"
      ]
     },
     "execution_count": 95,
     "metadata": {},
     "output_type": "execute_result"
    }
   ],
   "source": [
    "# test_00\n",
    "\n",
    "a = Node(\"a\")\n",
    "b = Node(\"b\")\n",
    "c = Node(\"c\")\n",
    "d = Node(\"d\")\n",
    "\n",
    "a.next = b\n",
    "b.next = c\n",
    "c.next = d\n",
    "\n",
    "# a -> b -> c -> d\n",
    "\n",
    "get_node_value(a, 2) # 'c'"
   ]
  },
  {
   "cell_type": "code",
   "execution_count": 96,
   "metadata": {},
   "outputs": [
    {
     "data": {
      "text/plain": [
       "'d'"
      ]
     },
     "execution_count": 96,
     "metadata": {},
     "output_type": "execute_result"
    }
   ],
   "source": [
    "# test_01\n",
    "\n",
    "a = Node(\"a\")\n",
    "b = Node(\"b\")\n",
    "c = Node(\"c\")\n",
    "d = Node(\"d\")\n",
    "\n",
    "a.next = b\n",
    "b.next = c\n",
    "c.next = d\n",
    "\n",
    "# a -> b -> c -> d\n",
    "\n",
    "get_node_value(a, 3) # 'd'"
   ]
  },
  {
   "cell_type": "code",
   "execution_count": 97,
   "metadata": {},
   "outputs": [],
   "source": [
    "# test_02\n",
    "\n",
    "a = Node(\"a\")\n",
    "b = Node(\"b\")\n",
    "c = Node(\"c\")\n",
    "d = Node(\"d\")\n",
    "\n",
    "a.next = b\n",
    "b.next = c\n",
    "c.next = d\n",
    "\n",
    "# a -> b -> c -> d\n",
    "\n",
    "get_node_value(a, 7) # None"
   ]
  },
  {
   "cell_type": "code",
   "execution_count": 98,
   "metadata": {},
   "outputs": [
    {
     "data": {
      "text/plain": [
       "'banana'"
      ]
     },
     "execution_count": 98,
     "metadata": {},
     "output_type": "execute_result"
    }
   ],
   "source": [
    "# test_03\n",
    "\n",
    "node1 = Node(\"banana\")\n",
    "node2 = Node(\"mango\")\n",
    "\n",
    "node1.next = node2\n",
    "\n",
    "# banana -> mango\n",
    "\n",
    "get_node_value(node1, 0) # 'banana'"
   ]
  },
  {
   "cell_type": "code",
   "execution_count": 99,
   "metadata": {},
   "outputs": [
    {
     "data": {
      "text/plain": [
       "'mango'"
      ]
     },
     "execution_count": 99,
     "metadata": {},
     "output_type": "execute_result"
    }
   ],
   "source": [
    "# test_04\n",
    "\n",
    "node1 = Node(\"banana\")\n",
    "node2 = Node(\"mango\")\n",
    "\n",
    "node1.next = node2\n",
    "\n",
    "# banana -> mango\n",
    "\n",
    "get_node_value(node1, 1) # 'mango'"
   ]
  },
  {
   "cell_type": "markdown",
   "metadata": {},
   "source": [
    "## Reverse List"
   ]
  },
  {
   "cell_type": "code",
   "execution_count": 55,
   "metadata": {},
   "outputs": [],
   "source": [
    "# iterative\n",
    "def reverse_list(head):\n",
    "    pp = None\n",
    "    current = head\n",
    "    np = current.next\n",
    "    while current:\n",
    "        current.next = pp\n",
    "        pp = current\n",
    "        current = np\n",
    "        if np:\n",
    "            np = np.next\n",
    "#     print_list(pp)\n",
    "#     return pp\n",
    "    return print_list(pp)\n",
    "\n",
    "# recursive\n",
    "def reverse_list(head,pp=None):\n",
    "    if head==None:\n",
    "        return pp\n",
    "    np = head.next\n",
    "    head.next = pp\n",
    "    return reverse_list(np, head)"
   ]
  },
  {
   "cell_type": "code",
   "execution_count": 56,
   "metadata": {},
   "outputs": [
    {
     "data": {
      "text/plain": [
       "['f', 'e', 'd', 'c', 'b', 'a']"
      ]
     },
     "execution_count": 56,
     "metadata": {},
     "output_type": "execute_result"
    }
   ],
   "source": [
    "# test_00\n",
    "\n",
    "a = Node(\"a\")\n",
    "b = Node(\"b\")\n",
    "c = Node(\"c\")\n",
    "d = Node(\"d\")\n",
    "e = Node(\"e\")\n",
    "f = Node(\"f\")\n",
    "\n",
    "a.next = b\n",
    "b.next = c\n",
    "c.next = d\n",
    "d.next = e\n",
    "e.next = f\n",
    "\n",
    "# a -> b -> c -> d -> e -> f\n",
    "\n",
    "reverse_list(a) # f -> e -> d -> c -> b -> a"
   ]
  },
  {
   "cell_type": "code",
   "execution_count": 53,
   "metadata": {},
   "outputs": [
    {
     "data": {
      "text/plain": [
       "['y', 'x']"
      ]
     },
     "execution_count": 53,
     "metadata": {},
     "output_type": "execute_result"
    }
   ],
   "source": [
    "# test_01\n",
    "\n",
    "x = Node(\"x\")\n",
    "y = Node(\"y\")\n",
    "\n",
    "x.next = y\n",
    "\n",
    "# x -> y\n",
    "\n",
    "reverse_list(x) # y -> x"
   ]
  },
  {
   "cell_type": "code",
   "execution_count": 54,
   "metadata": {},
   "outputs": [
    {
     "data": {
      "text/plain": [
       "['p']"
      ]
     },
     "execution_count": 54,
     "metadata": {},
     "output_type": "execute_result"
    }
   ],
   "source": [
    "# test_02\n",
    "\n",
    "p = Node(\"p\")\n",
    "\n",
    "# p\n",
    "\n",
    "reverse_list(p) # p"
   ]
  },
  {
   "cell_type": "markdown",
   "metadata": {},
   "source": [
    "## Zipper Lists"
   ]
  },
  {
   "cell_type": "code",
   "execution_count": 63,
   "metadata": {},
   "outputs": [],
   "source": [
    "def zipper_lists(head_1,head_2):\n",
    "    tail = head_1\n",
    "    current1 = head_1.next\n",
    "    current2 = head_2\n",
    "    count = 0\n",
    "    while current1!=None and current2!=None:\n",
    "        if count%2==0:\n",
    "            tail.next = current2\n",
    "            current2 = current2.next\n",
    "        else:\n",
    "            tail.next = current1\n",
    "            current1 = current1.next\n",
    "        tail = tail.next\n",
    "        count+=1\n",
    "    if current1!=None:\n",
    "        tail.next = current1\n",
    "    if current2!=None:\n",
    "        tail.next = current2\n",
    "    return print_list(head_1)"
   ]
  },
  {
   "cell_type": "code",
   "execution_count": 64,
   "metadata": {},
   "outputs": [
    {
     "data": {
      "text/plain": [
       "['a', 'x', 'b', 'y', 'c', 'z']"
      ]
     },
     "execution_count": 64,
     "metadata": {},
     "output_type": "execute_result"
    }
   ],
   "source": [
    "# test_00\n",
    "\n",
    "a = Node(\"a\")\n",
    "b = Node(\"b\")\n",
    "c = Node(\"c\")\n",
    "a.next = b\n",
    "b.next = c\n",
    "# a -> b -> c\n",
    "\n",
    "x = Node(\"x\")\n",
    "y = Node(\"y\")\n",
    "z = Node(\"z\")\n",
    "x.next = y\n",
    "y.next = z\n",
    "# x -> y -> z\n",
    "\n",
    "zipper_lists(a, x)\n",
    "# a -> x -> b -> y -> c -> z"
   ]
  },
  {
   "cell_type": "code",
   "execution_count": 65,
   "metadata": {},
   "outputs": [
    {
     "data": {
      "text/plain": [
       "['a', 'x', 'b', 'y', 'c', 'z', 'd', 'e', 'f']"
      ]
     },
     "execution_count": 65,
     "metadata": {},
     "output_type": "execute_result"
    }
   ],
   "source": [
    "# test_01\n",
    "\n",
    "a = Node(\"a\")\n",
    "b = Node(\"b\")\n",
    "c = Node(\"c\")\n",
    "d = Node(\"d\")\n",
    "e = Node(\"e\")\n",
    "f = Node(\"f\")\n",
    "a.next = b\n",
    "b.next = c\n",
    "c.next = d\n",
    "d.next = e\n",
    "e.next = f\n",
    "# a -> b -> c -> d -> e -> f\n",
    "\n",
    "x = Node(\"x\")\n",
    "y = Node(\"y\")\n",
    "z = Node(\"z\")\n",
    "x.next = y\n",
    "y.next = z\n",
    "# x -> y -> z\n",
    "\n",
    "zipper_lists(a, x)\n",
    "# a -> x -> b -> y -> c -> z -> d -> e -> f"
   ]
  },
  {
   "cell_type": "code",
   "execution_count": 66,
   "metadata": {},
   "outputs": [
    {
     "data": {
      "text/plain": [
       "['s', 1, 't', 2, 3, 4]"
      ]
     },
     "execution_count": 66,
     "metadata": {},
     "output_type": "execute_result"
    }
   ],
   "source": [
    "# test_02\n",
    "\n",
    "s = Node(\"s\")\n",
    "t = Node(\"t\")\n",
    "s.next = t\n",
    "# s -> t\n",
    "\n",
    "one = Node(1)\n",
    "two = Node(2)\n",
    "three = Node(3)\n",
    "four = Node(4)\n",
    "one.next = two\n",
    "two.next = three\n",
    "three.next = four\n",
    "# 1 -> 2 -> 3 -> 4\n",
    "\n",
    "zipper_lists(s, one)\n",
    "# s -> 1 -> t -> 2 -> 3 -> 4"
   ]
  },
  {
   "cell_type": "code",
   "execution_count": 67,
   "metadata": {},
   "outputs": [
    {
     "data": {
      "text/plain": [
       "['w', 1, 2, 3]"
      ]
     },
     "execution_count": 67,
     "metadata": {},
     "output_type": "execute_result"
    }
   ],
   "source": [
    "# test_03\n",
    "\n",
    "w = Node(\"w\")\n",
    "# w\n",
    "\n",
    "one = Node(1)\n",
    "two = Node(2)\n",
    "three = Node(3)\n",
    "one.next = two\n",
    "two.next = three\n",
    "# 1 -> 2 -> 3 \n",
    "\n",
    "zipper_lists(w, one)\n",
    "# w -> 1 -> 2 -> 3"
   ]
  },
  {
   "cell_type": "code",
   "execution_count": 68,
   "metadata": {},
   "outputs": [
    {
     "data": {
      "text/plain": [
       "[1, 'w', 2, 3]"
      ]
     },
     "execution_count": 68,
     "metadata": {},
     "output_type": "execute_result"
    }
   ],
   "source": [
    "# test_04\n",
    "\n",
    "one = Node(1)\n",
    "two = Node(2)\n",
    "three = Node(3)\n",
    "one.next = two\n",
    "two.next = three\n",
    "# 1 -> 2 -> 3 \n",
    "\n",
    "w = Node(\"w\")\n",
    "# w\n",
    "\n",
    "zipper_lists(one, w)\n",
    "# 1 -> w -> 2 -> 3"
   ]
  },
  {
   "cell_type": "code",
   "execution_count": null,
   "metadata": {},
   "outputs": [],
   "source": []
  },
  {
   "cell_type": "code",
   "execution_count": null,
   "metadata": {},
   "outputs": [],
   "source": []
  },
  {
   "cell_type": "code",
   "execution_count": null,
   "metadata": {},
   "outputs": [],
   "source": []
  },
  {
   "cell_type": "code",
   "execution_count": null,
   "metadata": {},
   "outputs": [],
   "source": []
  }
 ],
 "metadata": {
  "kernelspec": {
   "display_name": "Python 3",
   "language": "python",
   "name": "python3"
  },
  "language_info": {
   "codemirror_mode": {
    "name": "ipython",
    "version": 3
   },
   "file_extension": ".py",
   "mimetype": "text/x-python",
   "name": "python",
   "nbconvert_exporter": "python",
   "pygments_lexer": "ipython3",
   "version": "3.7.4"
  }
 },
 "nbformat": 4,
 "nbformat_minor": 2
}
