{
 "cells": [
  {
   "cell_type": "markdown",
   "metadata": {},
   "source": [
    "# Binary Tree Algorithms"
   ]
  },
  {
   "cell_type": "code",
   "execution_count": 2,
   "metadata": {},
   "outputs": [],
   "source": [
    "## What is a binary tree? (Rules they have to follow)\n",
    "    # at most 2 children per node\n",
    "    # exactly 1 root\n",
    "    # exactly 1 path b/w root and any node"
   ]
  },
  {
   "cell_type": "markdown",
   "metadata": {},
   "source": [
    "## Binary Tree Representation"
   ]
  },
  {
   "cell_type": "code",
   "execution_count": 3,
   "metadata": {},
   "outputs": [],
   "source": [
    "class Node:\n",
    "    def __init__(self, val):\n",
    "        self.val = val\n",
    "        self.left = None\n",
    "        self.right = None\n",
    "\n",
    "a = Node('a')\n",
    "b = Node('b')\n",
    "c = Node('c')\n",
    "d = Node('d')\n",
    "e = Node('e')\n",
    "f = Node('f')\n",
    "\n",
    "a.left = b\n",
    "a.right = c\n",
    "b.left = d\n",
    "b.right = e\n",
    "c.right = f\n",
    "\n",
    "\n",
    "# the above code will create a tree structure like below logically\n",
    "\n",
    "#          a\n",
    "#         / \\\n",
    "#        b   c\n",
    "#       / \\   \\\n",
    "#      d   e   f"
   ]
  },
  {
   "cell_type": "code",
   "execution_count": 3,
   "metadata": {},
   "outputs": [],
   "source": [
    "# Node Class\n",
    "\n",
    "class Node:\n",
    "    def __init__(self, val):\n",
    "        self.val = val\n",
    "        self.left = None\n",
    "        self.right = None"
   ]
  },
  {
   "cell_type": "markdown",
   "metadata": {},
   "source": [
    "## Depth First Values"
   ]
  },
  {
   "cell_type": "code",
   "execution_count": 30,
   "metadata": {},
   "outputs": [],
   "source": [
    "# iterative\n",
    "def depth_first_values(root):\n",
    "    if not root:\n",
    "        return []\n",
    "    result = []\n",
    "    stack = [root]\n",
    "    while len(stack)>0:\n",
    "        current = stack.pop()\n",
    "        result.append(current.val)\n",
    "        if current.right:\n",
    "            stack.append(current.right)\n",
    "        if current.left:\n",
    "            stack.append(current.left)\n",
    "    return result\n",
    "\n",
    "# recursive\n",
    "def depth_first_values_recursive(root):\n",
    "    if not root:\n",
    "        return []\n",
    "    leftValues = depth_first_values_recursive(root.left)\n",
    "    rightValues = depth_first_values_recursive(root.right)\n",
    "    result = [root.val]\n",
    "    result.extend(leftValues)\n",
    "    result.extend(rightValues)\n",
    "    return result"
   ]
  },
  {
   "cell_type": "code",
   "execution_count": 31,
   "metadata": {},
   "outputs": [
    {
     "name": "stdout",
     "output_type": "stream",
     "text": [
      "['a', 'b', 'd', 'e', 'c', 'f']\n",
      "['a', 'b', 'd', 'e', 'c', 'f']\n"
     ]
    }
   ],
   "source": [
    "# test_00\n",
    "\n",
    "a = Node('a')\n",
    "b = Node('b')\n",
    "c = Node('c')\n",
    "d = Node('d')\n",
    "e = Node('e')\n",
    "f = Node('f')        \n",
    "a.left = b\n",
    "a.right = c\n",
    "b.left = d\n",
    "b.right = e\n",
    "c.right = f\n",
    "\n",
    "#      a\n",
    "#    /   \\\n",
    "#   b     c\n",
    "#  / \\     \\\n",
    "# d   e     f\n",
    "\n",
    "print(depth_first_values(a))\n",
    "print(depth_first_values_recursive(a))\n",
    "#   -> ['a', 'b', 'd', 'e', 'c', 'f']"
   ]
  },
  {
   "cell_type": "code",
   "execution_count": 32,
   "metadata": {},
   "outputs": [
    {
     "name": "stdout",
     "output_type": "stream",
     "text": [
      "['a', 'b', 'd', 'e', 'g', 'c', 'f']\n",
      "['a', 'b', 'd', 'e', 'g', 'c', 'f']\n"
     ]
    }
   ],
   "source": [
    "# test_01\n",
    "\n",
    "a = Node('a')\n",
    "b = Node('b')\n",
    "c = Node('c')\n",
    "d = Node('d')\n",
    "e = Node('e')\n",
    "f = Node('f')\n",
    "g = Node('g')\n",
    "a.left = b\n",
    "a.right = c\n",
    "b.left = d\n",
    "b.right = e\n",
    "c.right = f\n",
    "e.left = g\n",
    "\n",
    "#      a\n",
    "#    /   \\\n",
    "#   b     c\n",
    "#  / \\     \\\n",
    "# d   e     f\n",
    "#    /\n",
    "#   g\n",
    "\n",
    "print(depth_first_values(a))\n",
    "print(depth_first_values_recursive(a))\n",
    "#   -> ['a', 'b', 'd', 'e', 'g', 'c', 'f']"
   ]
  },
  {
   "cell_type": "code",
   "execution_count": 33,
   "metadata": {},
   "outputs": [
    {
     "name": "stdout",
     "output_type": "stream",
     "text": [
      "['a']\n",
      "['a']\n"
     ]
    }
   ],
   "source": [
    "# test_02\n",
    "\n",
    "a = Node('a')\n",
    "#     a\n",
    "print(depth_first_values(a)) \n",
    "print(depth_first_values_recursive(a))\n",
    "#   -> ['a']"
   ]
  },
  {
   "cell_type": "code",
   "execution_count": 34,
   "metadata": {},
   "outputs": [
    {
     "name": "stdout",
     "output_type": "stream",
     "text": [
      "['a', 'b', 'c', 'd', 'e']\n",
      "['a', 'b', 'c', 'd', 'e']\n"
     ]
    }
   ],
   "source": [
    "# test_03\n",
    "\n",
    "a = Node('a')\n",
    "b = Node('b')\n",
    "c = Node('c')\n",
    "d = Node('d')\n",
    "e = Node('e')\n",
    "a.right = b;\n",
    "b.left = c;\n",
    "c.right = d;\n",
    "d.right = e;\n",
    "\n",
    "#      a\n",
    "#       \\\n",
    "#        b\n",
    "#       /\n",
    "#      c\n",
    "#       \\\n",
    "#        d\n",
    "#         \\\n",
    "#          e\n",
    "\n",
    "print(depth_first_values(a)) \n",
    "print(depth_first_values_recursive(a))\n",
    "#   -> ['a', 'b', 'c', 'd', 'e']"
   ]
  },
  {
   "cell_type": "code",
   "execution_count": 35,
   "metadata": {},
   "outputs": [
    {
     "name": "stdout",
     "output_type": "stream",
     "text": [
      "[]\n",
      "[]\n"
     ]
    }
   ],
   "source": [
    "# test_04\n",
    "\n",
    "print(depth_first_values(None)) \n",
    "print(depth_first_values_recursive(None))\n",
    "#   -> []"
   ]
  },
  {
   "cell_type": "markdown",
   "metadata": {},
   "source": [
    "## Breadth First Values"
   ]
  },
  {
   "cell_type": "code",
   "execution_count": 6,
   "metadata": {},
   "outputs": [],
   "source": [
    "# iterative\n",
    "def breadth_first_values(root):\n",
    "    if not root:\n",
    "        return []\n",
    "    result = []\n",
    "    queue = [root]\n",
    "    while len(queue)>0:\n",
    "        current = queue.pop()\n",
    "        result.append(current.val)\n",
    "        if current.left:\n",
    "            queue.insert(0, current.left)\n",
    "        if current.right:\n",
    "            queue.insert(0, current.right)\n",
    "    return result"
   ]
  },
  {
   "cell_type": "code",
   "execution_count": 7,
   "metadata": {},
   "outputs": [
    {
     "name": "stdout",
     "output_type": "stream",
     "text": [
      "['a', 'b', 'c', 'd', 'e', 'f']\n"
     ]
    }
   ],
   "source": [
    "# test_00\n",
    "\n",
    "a = Node('a')\n",
    "b = Node('b')\n",
    "c = Node('c')\n",
    "d = Node('d')\n",
    "e = Node('e')\n",
    "f = Node('f')\n",
    "\n",
    "a.left = b\n",
    "a.right = c\n",
    "b.left = d\n",
    "b.right = e\n",
    "c.right = f\n",
    "\n",
    "#      a\n",
    "#    /   \\\n",
    "#   b     c\n",
    "#  / \\     \\\n",
    "# d   e     f\n",
    "\n",
    "print(breadth_first_values(a)) \n",
    "#    -> ['a', 'b', 'c', 'd', 'e', 'f']"
   ]
  },
  {
   "cell_type": "code",
   "execution_count": 8,
   "metadata": {},
   "outputs": [
    {
     "name": "stdout",
     "output_type": "stream",
     "text": [
      "['a', 'b', 'c', 'd', 'e', 'f', 'g', 'h']\n"
     ]
    }
   ],
   "source": [
    "# test_01\n",
    "\n",
    "a = Node('a')\n",
    "b = Node('b')\n",
    "c = Node('c')\n",
    "d = Node('d')\n",
    "e = Node('e')\n",
    "f = Node('f')\n",
    "g = Node('g')\n",
    "h = Node('h')\n",
    "\n",
    "a.left = b\n",
    "a.right = c\n",
    "b.left = d\n",
    "b.right = e\n",
    "c.right = f\n",
    "e.left = g\n",
    "f.right = h\n",
    "\n",
    "#      a\n",
    "#    /   \\\n",
    "#   b     c\n",
    "#  / \\     \\\n",
    "# d   e     f\n",
    "#    /       \\\n",
    "#   g         h\n",
    "\n",
    "print(breadth_first_values(a))\n",
    "#   -> ['a', 'b', 'c', 'd', 'e', 'f', 'g', 'h']"
   ]
  },
  {
   "cell_type": "code",
   "execution_count": 9,
   "metadata": {},
   "outputs": [
    {
     "name": "stdout",
     "output_type": "stream",
     "text": [
      "['a']\n"
     ]
    }
   ],
   "source": [
    "# test_02\n",
    "\n",
    "a = Node('a')\n",
    "\n",
    "#      a\n",
    "\n",
    "print(breadth_first_values(a))\n",
    "#    -> ['a']"
   ]
  },
  {
   "cell_type": "code",
   "execution_count": 10,
   "metadata": {},
   "outputs": [
    {
     "name": "stdout",
     "output_type": "stream",
     "text": [
      "['a', 'b', 'c', 'x', 'd', 'e']\n"
     ]
    }
   ],
   "source": [
    "# test_03\n",
    "\n",
    "a = Node('a')\n",
    "b = Node('b')\n",
    "c = Node('c')\n",
    "d = Node('d')\n",
    "e = Node('e')\n",
    "x = Node('x')\n",
    "\n",
    "a.right = b\n",
    "b.left = c\n",
    "c.left = x\n",
    "c.right = d\n",
    "d.right = e\n",
    "\n",
    "#      a\n",
    "#       \\\n",
    "#        b\n",
    "#       /\n",
    "#      c\n",
    "#    /  \\\n",
    "#   x    d\n",
    "#         \\\n",
    "#          e\n",
    "\n",
    "print(breadth_first_values(a))\n",
    "#    -> ['a', 'b', 'c', 'x', 'd', 'e']"
   ]
  },
  {
   "cell_type": "code",
   "execution_count": 11,
   "metadata": {},
   "outputs": [
    {
     "name": "stdout",
     "output_type": "stream",
     "text": [
      "[]\n"
     ]
    }
   ],
   "source": [
    "# test_04\n",
    "\n",
    "print(breadth_first_values(None))\n",
    "#    -> []"
   ]
  },
  {
   "cell_type": "markdown",
   "metadata": {},
   "source": [
    "## Tree Includes"
   ]
  },
  {
   "cell_type": "code",
   "execution_count": 29,
   "metadata": {},
   "outputs": [],
   "source": [
    "# using recursive DFS\n",
    "def tree_includes_using_DFS(root,target):\n",
    "    if not root:\n",
    "        return False\n",
    "    if root.val==target:\n",
    "        return True\n",
    "    if tree_includes(root.left,target):\n",
    "        return True\n",
    "    if tree_includes(root.right,target):\n",
    "        return True\n",
    "    return False\n",
    "\n",
    "# using BFS\n",
    "def tree_includes_using_BFS(root,target):\n",
    "    if not root:\n",
    "        return False\n",
    "    queue = [root]\n",
    "    while len(queue)>0:\n",
    "        current = queue.pop()\n",
    "        if current.val==target:\n",
    "            return True\n",
    "        if current.left:\n",
    "            queue.insert(0,current.left)\n",
    "        if current.right:\n",
    "            queue.insert(0,current.right)\n",
    "    return False"
   ]
  },
  {
   "cell_type": "code",
   "execution_count": 30,
   "metadata": {},
   "outputs": [
    {
     "name": "stdout",
     "output_type": "stream",
     "text": [
      "True\n",
      "True\n"
     ]
    }
   ],
   "source": [
    "# test_00\n",
    "\n",
    "a = Node(\"a\")\n",
    "b = Node(\"b\")\n",
    "c = Node(\"c\")\n",
    "d = Node(\"d\")\n",
    "e = Node(\"e\")\n",
    "f = Node(\"f\")\n",
    "\n",
    "a.left = b\n",
    "a.right = c\n",
    "b.left = d\n",
    "b.right = e\n",
    "c.right = f\n",
    "\n",
    "#      a\n",
    "#    /   \\\n",
    "#   b     c\n",
    "#  / \\     \\\n",
    "# d   e     f\n",
    "\n",
    "print(tree_includes_using_DFS(a, \"e\")) # -> True\n",
    "print(tree_includes_using_BFS(a, \"e\")) # -> True"
   ]
  },
  {
   "cell_type": "code",
   "execution_count": 31,
   "metadata": {},
   "outputs": [
    {
     "name": "stdout",
     "output_type": "stream",
     "text": [
      "True\n",
      "True\n"
     ]
    }
   ],
   "source": [
    "# test_01\n",
    "\n",
    "a = Node(\"a\")\n",
    "b = Node(\"b\")\n",
    "c = Node(\"c\")\n",
    "d = Node(\"d\")\n",
    "e = Node(\"e\")\n",
    "f = Node(\"f\")\n",
    "\n",
    "a.left = b\n",
    "a.right = c\n",
    "b.left = d\n",
    "b.right = e\n",
    "c.right = f\n",
    "\n",
    "#      a\n",
    "#    /   \\\n",
    "#   b     c\n",
    "#  / \\     \\\n",
    "# d   e     f\n",
    "print(tree_includes_using_DFS(a, \"a\")) # -> True\n",
    "print(tree_includes_using_BFS(a, \"a\")) # -> True"
   ]
  },
  {
   "cell_type": "code",
   "execution_count": 32,
   "metadata": {},
   "outputs": [
    {
     "name": "stdout",
     "output_type": "stream",
     "text": [
      "False\n",
      "False\n"
     ]
    }
   ],
   "source": [
    "# test_02\n",
    "\n",
    "a = Node(\"a\")\n",
    "b = Node(\"b\")\n",
    "c = Node(\"c\")\n",
    "d = Node(\"d\")\n",
    "e = Node(\"e\")\n",
    "f = Node(\"f\")\n",
    "\n",
    "a.left = b\n",
    "a.right = c\n",
    "b.left = d\n",
    "b.right = e\n",
    "c.right = f\n",
    "\n",
    "#      a\n",
    "#    /   \\\n",
    "#   b     c\n",
    "#  / \\     \\\n",
    "# d   e     f\n",
    "\n",
    "print(tree_includes_using_DFS(a, \"n\")) # -> False\n",
    "print(tree_includes_using_BFS(a, \"n\")) # -> False"
   ]
  },
  {
   "cell_type": "code",
   "execution_count": 33,
   "metadata": {},
   "outputs": [
    {
     "name": "stdout",
     "output_type": "stream",
     "text": [
      "True\n",
      "True\n"
     ]
    }
   ],
   "source": [
    "# test_03\n",
    "\n",
    "a = Node(\"a\")\n",
    "b = Node(\"b\")\n",
    "c = Node(\"c\")\n",
    "d = Node(\"d\")\n",
    "e = Node(\"e\")\n",
    "f = Node(\"f\")\n",
    "g = Node(\"g\")\n",
    "h = Node(\"h\")\n",
    "\n",
    "a.left = b\n",
    "a.right = c\n",
    "b.left = d\n",
    "b.right = e\n",
    "c.right = f\n",
    "e.left = g\n",
    "f.right = h\n",
    "\n",
    "#      a\n",
    "#    /   \\\n",
    "#   b     c\n",
    "#  / \\     \\\n",
    "# d   e     f\n",
    "#    /       \\\n",
    "#   g         h\n",
    "\n",
    "print(tree_includes_using_DFS(a, \"f\")) # -> True\n",
    "print(tree_includes_using_BFS(a, \"f\")) # -> True"
   ]
  },
  {
   "cell_type": "code",
   "execution_count": 34,
   "metadata": {},
   "outputs": [
    {
     "name": "stdout",
     "output_type": "stream",
     "text": [
      "False\n",
      "False\n"
     ]
    }
   ],
   "source": [
    "# test_04\n",
    "\n",
    "a = Node(\"a\")\n",
    "b = Node(\"b\")\n",
    "c = Node(\"c\")\n",
    "d = Node(\"d\")\n",
    "e = Node(\"e\")\n",
    "f = Node(\"f\")\n",
    "g = Node(\"g\")\n",
    "h = Node(\"h\")\n",
    "\n",
    "a.left = b\n",
    "a.right = c\n",
    "b.left = d\n",
    "b.right = e\n",
    "c.right = f\n",
    "e.left = g\n",
    "f.right = h\n",
    "\n",
    "#      a\n",
    "#    /   \\\n",
    "#   b     c\n",
    "#  / \\     \\\n",
    "# d   e     f\n",
    "#    /       \\\n",
    "#   g         h\n",
    "\n",
    "print(tree_includes_using_DFS(a, \"p\")) # -> False\n",
    "print(tree_includes_using_BFS(a, \"p\")) # -> False"
   ]
  },
  {
   "cell_type": "code",
   "execution_count": 35,
   "metadata": {},
   "outputs": [
    {
     "name": "stdout",
     "output_type": "stream",
     "text": [
      "False\n",
      "False\n"
     ]
    }
   ],
   "source": [
    "# test_05\n",
    "\n",
    "print(tree_includes_using_DFS(None, \"b\")) # -> False\n",
    "print(tree_includes_using_BFS(None, \"b\")) # -> False"
   ]
  },
  {
   "cell_type": "markdown",
   "metadata": {},
   "source": [
    "## Tree Sum"
   ]
  },
  {
   "cell_type": "code",
   "execution_count": 56,
   "metadata": {},
   "outputs": [],
   "source": [
    "# def tree_sum(root):\n",
    "#     result = helper(root)\n",
    "#     return sum(result)\n",
    "\n",
    "# def helper(root):\n",
    "#     if not root:\n",
    "#         return []\n",
    "#     leftSubTree = helper(root.left)\n",
    "#     rightSubTree = helper(root.right)\n",
    "#     result = [root.val]\n",
    "#     result.extend(leftSubTree)\n",
    "#     result.extend(rightSubTree)\n",
    "#     return result\n",
    "\n",
    "# most elegent code\n",
    "def tree_sum(root):\n",
    "    if not root:\n",
    "        return 0\n",
    "    return root.val+tree_sum(root.left)+tree_sum(root.right)"
   ]
  },
  {
   "cell_type": "code",
   "execution_count": 57,
   "metadata": {},
   "outputs": [
    {
     "name": "stdout",
     "output_type": "stream",
     "text": [
      "21\n"
     ]
    }
   ],
   "source": [
    "# test_00\n",
    "\n",
    "a = Node(3)\n",
    "b = Node(11)\n",
    "c = Node(4)\n",
    "d = Node(4)\n",
    "e = Node(-2)\n",
    "f = Node(1)\n",
    "\n",
    "a.left = b\n",
    "a.right = c\n",
    "b.left = d\n",
    "b.right = e\n",
    "c.right = f\n",
    "\n",
    "#       3\n",
    "#    /    \\\n",
    "#   11     4\n",
    "#  / \\      \\\n",
    "# 4   -2     1\n",
    "\n",
    "print(tree_sum(a)) # -> 21"
   ]
  },
  {
   "cell_type": "code",
   "execution_count": 59,
   "metadata": {},
   "outputs": [
    {
     "name": "stdout",
     "output_type": "stream",
     "text": [
      "10\n"
     ]
    }
   ],
   "source": [
    "# test_01\n",
    "\n",
    "a = Node(1)\n",
    "b = Node(6)\n",
    "c = Node(0)\n",
    "d = Node(3)\n",
    "e = Node(-6)\n",
    "f = Node(2)\n",
    "g = Node(2)\n",
    "h = Node(2)\n",
    "\n",
    "a.left = b\n",
    "a.right = c\n",
    "b.left = d\n",
    "b.right = e\n",
    "c.right = f\n",
    "e.left = g\n",
    "f.right = h\n",
    "\n",
    "#      1\n",
    "#    /   \\\n",
    "#   6     0\n",
    "#  / \\     \\\n",
    "# 3   -6    2\n",
    "#    /       \\\n",
    "#   2         2\n",
    "\n",
    "print(tree_sum(a)) # -> 10"
   ]
  },
  {
   "cell_type": "code",
   "execution_count": 60,
   "metadata": {},
   "outputs": [
    {
     "name": "stdout",
     "output_type": "stream",
     "text": [
      "0\n"
     ]
    }
   ],
   "source": [
    "# test_02\n",
    "\n",
    "print(tree_sum(None)) # -> 0"
   ]
  },
  {
   "cell_type": "markdown",
   "metadata": {},
   "source": [
    "## Tree Min Value"
   ]
  },
  {
   "cell_type": "code",
   "execution_count": 61,
   "metadata": {},
   "outputs": [],
   "source": [
    "def tree_min_value(root):\n",
    "    result = helper(root)\n",
    "    return min(result)\n",
    "\n",
    "def helper(root):\n",
    "    if not root:\n",
    "        return []\n",
    "    leftSubTree = helper(root.left)\n",
    "    rightSubTree = helper(root.right)\n",
    "    result = [root.val]\n",
    "    result.extend(leftSubTree)\n",
    "    result.extend(rightSubTree)\n",
    "    return result"
   ]
  },
  {
   "cell_type": "code",
   "execution_count": 62,
   "metadata": {},
   "outputs": [
    {
     "data": {
      "text/plain": [
       "-2"
      ]
     },
     "execution_count": 62,
     "metadata": {},
     "output_type": "execute_result"
    }
   ],
   "source": [
    "# test_00\n",
    "\n",
    "a = Node(3)\n",
    "b = Node(11)\n",
    "c = Node(4)\n",
    "d = Node(4)\n",
    "e = Node(-2)\n",
    "f = Node(1)\n",
    "\n",
    "a.left = b\n",
    "a.right = c\n",
    "b.left = d\n",
    "b.right = e\n",
    "c.right = f\n",
    "\n",
    "#       3\n",
    "#    /    \\\n",
    "#   11     4\n",
    "#  / \\      \\\n",
    "# 4   -2     1\n",
    "tree_min_value(a) # -> -2"
   ]
  },
  {
   "cell_type": "code",
   "execution_count": 63,
   "metadata": {},
   "outputs": [
    {
     "data": {
      "text/plain": [
       "3"
      ]
     },
     "execution_count": 63,
     "metadata": {},
     "output_type": "execute_result"
    }
   ],
   "source": [
    "# test_01\n",
    "\n",
    "a = Node(5)\n",
    "b = Node(11)\n",
    "c = Node(3)\n",
    "d = Node(4)\n",
    "e = Node(14)\n",
    "f = Node(12)\n",
    "\n",
    "a.left = b\n",
    "a.right = c\n",
    "b.left = d\n",
    "b.right = e\n",
    "c.right = f\n",
    "\n",
    "#       5\n",
    "#    /    \\\n",
    "#   11     3\n",
    "#  / \\      \\\n",
    "# 4   14     12\n",
    "\n",
    "tree_min_value(a) # -> 3"
   ]
  },
  {
   "cell_type": "code",
   "execution_count": 64,
   "metadata": {},
   "outputs": [
    {
     "data": {
      "text/plain": [
       "-13"
      ]
     },
     "execution_count": 64,
     "metadata": {},
     "output_type": "execute_result"
    }
   ],
   "source": [
    "# test_02\n",
    "\n",
    "a = Node(-1)\n",
    "b = Node(-6)\n",
    "c = Node(-5)\n",
    "d = Node(-3)\n",
    "e = Node(-4)\n",
    "f = Node(-13)\n",
    "g = Node(-2)\n",
    "h = Node(-2)\n",
    "\n",
    "a.left = b\n",
    "a.right = c\n",
    "b.left = d\n",
    "b.right = e\n",
    "c.right = f\n",
    "e.left = g\n",
    "f.right = h\n",
    "\n",
    "#        -1\n",
    "#      /   \\\n",
    "#    -6    -5\n",
    "#   /  \\     \\\n",
    "# -3   -4   -13\n",
    "#     /       \\\n",
    "#    -2       -2\n",
    "\n",
    "tree_min_value(a) # -> -13"
   ]
  },
  {
   "cell_type": "code",
   "execution_count": 65,
   "metadata": {},
   "outputs": [
    {
     "data": {
      "text/plain": [
       "42"
      ]
     },
     "execution_count": 65,
     "metadata": {},
     "output_type": "execute_result"
    }
   ],
   "source": [
    "# test_03\n",
    "\n",
    "a = Node(42)\n",
    "\n",
    "#        42\n",
    "\n",
    "tree_min_value(a) # -> 42"
   ]
  },
  {
   "cell_type": "markdown",
   "metadata": {},
   "source": [
    "## Max Root to Leaf Path Sum"
   ]
  },
  {
   "cell_type": "code",
   "execution_count": 6,
   "metadata": {},
   "outputs": [],
   "source": [
    "import math\n",
    "\n",
    "def max_path_sum(root):\n",
    "    if not root:\n",
    "        return (-math.inf)\n",
    "    if root.left==None and root.right==None:\n",
    "        return root.val\n",
    "    maxChildPathSum = max(max_path_sum(root.left),max_path_sum(root.right))\n",
    "    return root.val+maxChildPathSum"
   ]
  },
  {
   "cell_type": "code",
   "execution_count": 7,
   "metadata": {},
   "outputs": [
    {
     "data": {
      "text/plain": [
       "18"
      ]
     },
     "execution_count": 7,
     "metadata": {},
     "output_type": "execute_result"
    }
   ],
   "source": [
    "# test_00\n",
    "\n",
    "a = Node(3)\n",
    "b = Node(11)\n",
    "c = Node(4)\n",
    "d = Node(4)\n",
    "e = Node(-2)\n",
    "f = Node(1)\n",
    "\n",
    "a.left = b\n",
    "a.right = c\n",
    "b.left = d\n",
    "b.right = e\n",
    "c.right = f\n",
    "\n",
    "#       3\n",
    "#    /    \\\n",
    "#   11     4\n",
    "#  / \\      \\\n",
    "# 4   -2     1\n",
    "\n",
    "max_path_sum(a) # -> 18"
   ]
  },
  {
   "cell_type": "code",
   "execution_count": 8,
   "metadata": {},
   "outputs": [
    {
     "data": {
      "text/plain": [
       "59"
      ]
     },
     "execution_count": 8,
     "metadata": {},
     "output_type": "execute_result"
    }
   ],
   "source": [
    "# test_01\n",
    "\n",
    "a = Node(5)\n",
    "b = Node(11)\n",
    "c = Node(54)\n",
    "d = Node(20)\n",
    "e = Node(15)\n",
    "f = Node(1)\n",
    "g = Node(3)\n",
    "\n",
    "a.left = b\n",
    "a.right = c\n",
    "b.left = d\n",
    "b.right = e\n",
    "e.left = f\n",
    "e.right = g\n",
    "\n",
    "#        5\n",
    "#     /    \\\n",
    "#    11    54\n",
    "#  /   \\      \n",
    "# 20   15\n",
    "#      / \\\n",
    "#     1  3\n",
    "\n",
    "max_path_sum(a) # -> 59"
   ]
  },
  {
   "cell_type": "code",
   "execution_count": 9,
   "metadata": {},
   "outputs": [
    {
     "data": {
      "text/plain": [
       "-8"
      ]
     },
     "execution_count": 9,
     "metadata": {},
     "output_type": "execute_result"
    }
   ],
   "source": [
    "# test_02\n",
    "\n",
    "a = Node(-1)\n",
    "b = Node(-6)\n",
    "c = Node(-5)\n",
    "d = Node(-3)\n",
    "e = Node(0)\n",
    "f = Node(-13)\n",
    "g = Node(-1)\n",
    "h = Node(-2)\n",
    "\n",
    "a.left = b\n",
    "a.right = c\n",
    "b.left = d\n",
    "b.right = e\n",
    "c.right = f\n",
    "e.left = g\n",
    "f.right = h\n",
    "\n",
    "#        -1\n",
    "#      /   \\\n",
    "#    -6    -5\n",
    "#   /  \\     \\\n",
    "# -3   0    -13\n",
    "#     /       \\\n",
    "#    -1       -2\n",
    "\n",
    "max_path_sum(a) # -> -8"
   ]
  },
  {
   "cell_type": "code",
   "execution_count": 10,
   "metadata": {},
   "outputs": [
    {
     "data": {
      "text/plain": [
       "42"
      ]
     },
     "execution_count": 10,
     "metadata": {},
     "output_type": "execute_result"
    }
   ],
   "source": [
    "# test_03\n",
    "\n",
    "a = Node(42)\n",
    "\n",
    "#        42\n",
    "\n",
    "max_path_sum(a) # -> 42"
   ]
  },
  {
   "cell_type": "code",
   "execution_count": null,
   "metadata": {},
   "outputs": [],
   "source": []
  },
  {
   "cell_type": "code",
   "execution_count": null,
   "metadata": {},
   "outputs": [],
   "source": []
  }
 ],
 "metadata": {
  "kernelspec": {
   "display_name": "Python 3",
   "language": "python",
   "name": "python3"
  },
  "language_info": {
   "codemirror_mode": {
    "name": "ipython",
    "version": 3
   },
   "file_extension": ".py",
   "mimetype": "text/x-python",
   "name": "python",
   "nbconvert_exporter": "python",
   "pygments_lexer": "ipython3",
   "version": "3.7.4"
  }
 },
 "nbformat": 4,
 "nbformat_minor": 2
}
