{
 "cells": [
  {
   "cell_type": "markdown",
   "metadata": {},
   "source": [
    "### Valid Anagram"
   ]
  },
  {
   "cell_type": "code",
   "execution_count": 1,
   "metadata": {},
   "outputs": [],
   "source": [
    "# Given two strings s1 and s2, check if they are anagrams.\n",
    "# Two strings are anagrams if they are made of the same characters with the same frequescies."
   ]
  },
  {
   "cell_type": "code",
   "execution_count": 11,
   "metadata": {},
   "outputs": [
    {
     "name": "stdout",
     "output_type": "stream",
     "text": [
      "{'d': 1, 'a': 1, 'n': 1, 'g': 1, 'e': 1, 'r': 1}\n",
      "{'g': 1, 'a': 1, 'r': 1, 'd': 1, 'e': 1, 'n': 1}\n",
      "True\n",
      "{'n': 1, 'a': 1, 'm': 1, 'e': 2, 'l': 1, 's': 2}\n",
      "{'s': 2, 'a': 1, 'l': 1, 'e': 2, 'm': 1, 'n': 1}\n",
      "True\n",
      "False\n",
      "-------------------------------------------------\n",
      "True\n",
      "True\n",
      "False\n",
      "-------------------------------------------------\n",
      "True\n",
      "True\n",
      "False\n"
     ]
    }
   ],
   "source": [
    "def check_anagram(s1,s2):\n",
    "    if len(s1)!=len(s2):\n",
    "        return False\n",
    "    fr1 = {}\n",
    "    fr2 = {}\n",
    "    for c in s1:\n",
    "        if c in fr1.keys():\n",
    "            fr1[c]+=1\n",
    "        else:\n",
    "            fr1.update({c: 1})\n",
    "    for c in s2:\n",
    "        if c in fr2.keys():\n",
    "            fr2[c]+=1\n",
    "        else:\n",
    "            fr2.update({c: 1})\n",
    "    print(fr1)\n",
    "    print(fr2)\n",
    "    if fr1==fr2:\n",
    "        return True\n",
    "    else:\n",
    "        return False\n",
    "\n",
    "def check_anagram_2(s1,s2):\n",
    "    if len(s1)!=len(s2):\n",
    "        return False\n",
    "    flag = True\n",
    "    letters = \"abcdefghijklmnopqrstuvwxyz\"\n",
    "    for letter in letters:\n",
    "        if s1.count(letter)!=s2.count(letter):\n",
    "            flag = False\n",
    "            break\n",
    "    return flag\n",
    "\n",
    "def check_anagram_3(s1,s2):\n",
    "    if len(s1)!=len(s2):\n",
    "        return False\n",
    "    return sorted(s1)==sorted(s2)\n",
    "\n",
    "print(check_anagram(\"danger\",\"garden\"))\n",
    "print(check_anagram(\"nameless\",\"salesmen\"))\n",
    "print(check_anagram(\"check\",\"test\"))\n",
    "print(\"-------------------------------------------------\")\n",
    "print(check_anagram_2(\"danger\",\"garden\"))\n",
    "print(check_anagram_2(\"nameless\",\"salesmen\"))\n",
    "print(check_anagram_2(\"check\",\"test\"))\n",
    "print(\"-------------------------------------------------\")\n",
    "print(check_anagram_3(\"danger\",\"garden\"))\n",
    "print(check_anagram_3(\"nameless\",\"salesmen\"))\n",
    "print(check_anagram_3(\"check\",\"test\"))"
   ]
  },
  {
   "cell_type": "markdown",
   "metadata": {},
   "source": [
    "### First and last index in a sorted array"
   ]
  },
  {
   "cell_type": "code",
   "execution_count": 12,
   "metadata": {},
   "outputs": [],
   "source": [
    "# Given a sorted array of integers arr[] and an integer target,\n",
    "# find the index of the first and last position of target in arr[].\n",
    "# if target can't be found in arr[], return [-1,-1]"
   ]
  },
  {
   "cell_type": "code",
   "execution_count": 34,
   "metadata": {},
   "outputs": [
    {
     "name": "stdout",
     "output_type": "stream",
     "text": [
      "[2, 6]\n",
      "[-1, -1]\n",
      "[7, 7]\n",
      "-------------\n",
      "[2, 6]\n",
      "[-1, -1]\n",
      "[7, 7]\n"
     ]
    }
   ],
   "source": [
    "def first_and_last_index(arr, target):\n",
    "    if target not in arr:\n",
    "        return [-1,-1]\n",
    "    first = arr.index(target)\n",
    "    last = first\n",
    "    for i in range(len(arr)-1,-1,-1):\n",
    "        if arr[i]==target:\n",
    "            last = i\n",
    "            break\n",
    "    return [first,last]\n",
    "\n",
    "def first_and_last_index_2(arr, target):\n",
    "    start = -1\n",
    "    end = -1\n",
    "    if len(arr)==0 or arr[0]>target or arr[-1]<target:\n",
    "        return [start,end]\n",
    "    if arr[0]==target:\n",
    "        start=0\n",
    "    else:\n",
    "        left = 0\n",
    "        right = len(arr)-1\n",
    "        while left<=right:\n",
    "            mid = (left+right)//2\n",
    "            if arr[mid]==target and arr[mid-1]<target:\n",
    "                start = mid\n",
    "                break\n",
    "            elif arr[mid]<target:\n",
    "                left = mid+1\n",
    "            else:\n",
    "                right = mid-1\n",
    "    \n",
    "    if arr[-1]==target:\n",
    "        end = len(arr)-1\n",
    "    else:\n",
    "        left = 0\n",
    "        right = len(arr)-1\n",
    "        while left<=right:\n",
    "            mid = (left+right)//2\n",
    "            if arr[mid]==target and arr[mid+1]>target:\n",
    "                end = mid\n",
    "                break\n",
    "            elif arr[mid]>target:\n",
    "                right = mid-1\n",
    "            else:\n",
    "                left = mid+1\n",
    "    \n",
    "    return [start,end]\n",
    "\n",
    "print(first_and_last_index([2,4,5,5,5,5,5,7,9,9], 5))\n",
    "print(first_and_last_index([1,2,3,4], 6))\n",
    "print(first_and_last_index([1,2,3,4,5,6,7,8,9,10], 8))\n",
    "print(\"-------------\")\n",
    "print(first_and_last_index_2([2,4,5,5,5,5,5,7,9,9], 5))\n",
    "print(first_and_last_index_2([1,2,3,4], 6))\n",
    "print(first_and_last_index_2([1,2,3,4,5,6,7,8,9,10], 8))"
   ]
  },
  {
   "cell_type": "markdown",
   "metadata": {},
   "source": [
    "### K-th largest element"
   ]
  },
  {
   "cell_type": "code",
   "execution_count": 35,
   "metadata": {},
   "outputs": [],
   "source": [
    "# Given an array of integer arr[] and an integer k,\n",
    "# find the k-th largest element"
   ]
  },
  {
   "cell_type": "code",
   "execution_count": 39,
   "metadata": {},
   "outputs": [
    {
     "name": "stdout",
     "output_type": "stream",
     "text": [
      "6\n",
      "-----\n",
      "6\n",
      "-----\n",
      "6\n"
     ]
    }
   ],
   "source": [
    "def K_largest_element(arr,k):\n",
    "    for i in range(k-1):\n",
    "        if len(arr):\n",
    "            arr.remove(max(arr))\n",
    "        else:\n",
    "            return -1\n",
    "    return max(arr)\n",
    "\n",
    "def K_largest_element_2(arr,k):\n",
    "    n = len(arr)\n",
    "    arr.sort()\n",
    "    return arr[n-k]\n",
    "\n",
    "# using priority queue\n",
    "import heapq\n",
    "def K_largest_element_3(arr,k):\n",
    "    arr = [-elem for elem in arr]\n",
    "    heapq.heapify(arr)\n",
    "    for _ in range(k-1):\n",
    "        heapq.heappop(arr)\n",
    "    return -(heapq.heappop(arr))\n",
    "\n",
    "print(K_largest_element([4,2,9,7,5,6,7,1,3], 4))\n",
    "print(\"-----\")\n",
    "print(K_largest_element_2([4,2,9,7,5,6,7,1,3], 4))\n",
    "print(\"-----\")\n",
    "print(K_largest_element_3([4,2,9,7,5,6,7,1,3], 4))"
   ]
  },
  {
   "cell_type": "markdown",
   "metadata": {},
   "source": [
    "### Symmetric Tree"
   ]
  },
  {
   "cell_type": "code",
   "execution_count": 43,
   "metadata": {},
   "outputs": [],
   "source": [
    "# Given a binary tree root, check if it is symmetric around its center (a mirror image of itself)"
   ]
  },
  {
   "cell_type": "code",
   "execution_count": 42,
   "metadata": {},
   "outputs": [
    {
     "name": "stdout",
     "output_type": "stream",
     "text": [
      "True\n",
      "--------\n",
      "False\n"
     ]
    }
   ],
   "source": [
    "class Node:\n",
    "    def __init__(self, val=0):\n",
    "        self.val = val\n",
    "        self.left = None\n",
    "        self.right = None\n",
    "\n",
    "def is_symmetric(root):\n",
    "    if root is None:\n",
    "        return True\n",
    "    return are_symmetric(root.left,root.right)\n",
    "\n",
    "def are_symmetric(root1,root2):\n",
    "    if root1 is None and root2 is None:\n",
    "        return True\n",
    "    elif ((root1 is None)!=(root2 is None)) or root1.val!=root2.val:\n",
    "        return False\n",
    "    else:\n",
    "        return are_symmetric(root1.left,root2.right) and are_symmetric(root1.right,root2.left)\n",
    "\n",
    "\n",
    "a = Node(1)\n",
    "b = Node(2)\n",
    "c = Node(2)\n",
    "d = Node(3)\n",
    "e = Node(4)\n",
    "f = Node(4)\n",
    "g = Node(3)\n",
    "\n",
    "# [1,2,2,3,4,4,3]\n",
    "a.left = b\n",
    "a.right = c\n",
    "b.left = d\n",
    "b.right = e\n",
    "c.left = f\n",
    "c.right = g\n",
    "\n",
    "print(is_symmetric(a))\n",
    "\n",
    "print(\"--------\")\n",
    "\n",
    "a = Node(1)\n",
    "b = Node(2)\n",
    "c = Node(2)\n",
    "d = Node(3)\n",
    "e = Node(3)\n",
    "\n",
    "# [1,2,2,None,3,None,3]\n",
    "a.left = b\n",
    "a.right = c\n",
    "b.right = d\n",
    "c.right = e\n",
    "\n",
    "print(is_symmetric(a))"
   ]
  },
  {
   "cell_type": "markdown",
   "metadata": {},
   "source": [
    "### Generate parenthesis"
   ]
  },
  {
   "cell_type": "code",
   "execution_count": 45,
   "metadata": {},
   "outputs": [],
   "source": [
    "# Given an integer n, generate all the valid combinations of n pairs of parenthesis\n",
    "# A combination that contains 1 type of parenthesis is valid if every opening parenthesis has it's closing parenthesis\n",
    "# and it doesn't have a closing parenthesis without having an unused opening parenthesis before it."
   ]
  },
  {
   "cell_type": "code",
   "execution_count": 52,
   "metadata": {},
   "outputs": [
    {
     "name": "stdout",
     "output_type": "stream",
     "text": [
      "True\n",
      "False\n",
      "True\n",
      "False\n",
      "False\n"
     ]
    }
   ],
   "source": [
    "def is_valid(s):\n",
    "    stack = []\n",
    "    for par in s:\n",
    "        if par==\"(\" or par==\"{\" or par==\"[\":\n",
    "            stack.append(par)\n",
    "        else:\n",
    "            if len(stack)==0 and s==\"\":\n",
    "                return False\n",
    "            elif len(stack)!=0 and par==\")\" and stack[len(stack)-1]==\"(\":\n",
    "                stack.pop()\n",
    "            elif len(stack)!=0 and par==\"}\" and stack[len(stack)-1]==\"{\":\n",
    "                stack.pop()\n",
    "            elif len(stack)!=0 and par==\"]\" and stack[len(stack)-1]==\"[\":\n",
    "                stack.pop()\n",
    "            else:\n",
    "                return False\n",
    "    return len(stack)==0\n",
    "\n",
    "print(is_valid(\"(())()(())\"))\n",
    "print(is_valid(\"(())((()\"))\n",
    "print(is_valid(\"()[]{}\"))\n",
    "print(is_valid(\"]\"))\n",
    "print(is_valid(\"()[]{}}])\"))"
   ]
  },
  {
   "cell_type": "markdown",
   "metadata": {},
   "source": [
    "### Gas station"
   ]
  },
  {
   "cell_type": "code",
   "execution_count": 1,
   "metadata": {},
   "outputs": [],
   "source": [
    "# Given a circular list of gas stations, where we can go from a station i to the station i+1\n",
    "# The last one goes back to the first one\n",
    "# find the index of the station from where we start to be able to traverse all the stations\n",
    "# and go back to the initial one without running out of gas"
   ]
  },
  {
   "cell_type": "code",
   "execution_count": 5,
   "metadata": {},
   "outputs": [],
   "source": [
    "## Note:\n",
    "# we can only move forward\n",
    "# the gas tank starts empty\n",
    "# gas[i] represents the amount of gas at the station i\n",
    "# cost[i] represents the cost to go from the station i to the next one\n",
    "# the answer is guaranteed to be unique\n",
    "# if the station we are searching for doesn't exist, return -1\n",
    "\n",
    "# |gas| == |cost|\n",
    "# gas[i] >= 0\n",
    "# cost[i] >= 0\n",
    "\n",
    "## input:\n",
    "# gas = [1,5,3,3,5,3,1,3,4,5]\n",
    "# cost = [5,2,2,8,2,4,2,5,1,2]"
   ]
  },
  {
   "cell_type": "code",
   "execution_count": 12,
   "metadata": {},
   "outputs": [
    {
     "name": "stdout",
     "output_type": "stream",
     "text": [
      "8\n",
      "-------\n",
      "-1\n"
     ]
    }
   ],
   "source": [
    "## This is a slow solution with time O(n^2)\n",
    "# def can_traverse(gas,cost,start):\n",
    "#     n=len(gas)\n",
    "#     remaining=0\n",
    "#     i=start\n",
    "#     started=False\n",
    "#     while i!=start or not started:\n",
    "#         started=True\n",
    "#         remaining+=gas[i]-cost[i]\n",
    "#         if remaining<0:\n",
    "#             return False\n",
    "#         i=(i+1)%n\n",
    "#     return True\n",
    "\n",
    "# def gas_station(gas,cost):\n",
    "#     for i in range(len(gas)):\n",
    "#         if can_traverse(gas,cost,i):\n",
    "#             return i\n",
    "#     return -1\n",
    "\n",
    "## This is a relatively fast solution with time O(n)\n",
    "def gas_station(gas,cost):\n",
    "    remaining=0\n",
    "    prev_remaining=0\n",
    "    candidate=0\n",
    "    for i in range(len(gas)):\n",
    "        remaining+=gas[i]-cost[i]\n",
    "        if remaining<0:\n",
    "            candidate=i+1\n",
    "            prev_remaining+=remaining\n",
    "            remaining=0\n",
    "    if candidate==len(gas) or remaining+prev_remaining<0:\n",
    "        return -1\n",
    "    else:\n",
    "        return candidate\n",
    "    \n",
    "\n",
    "gas = [1,5,3,3,5,3,1,3,4,5]\n",
    "cost = [5,2,2,8,2,4,2,5,1,2]\n",
    "print(gas_station(gas,cost))\n",
    "print(\"-------\")\n",
    "gas = [2,2,2,2,2,2,2,2,2,2]\n",
    "cost = [1,1,1,1,1,1,1,1,1,50]\n",
    "print(gas_station(gas,cost))"
   ]
  },
  {
   "cell_type": "markdown",
   "metadata": {},
   "source": [
    "### Course schedule"
   ]
  },
  {
   "cell_type": "code",
   "execution_count": 13,
   "metadata": {},
   "outputs": [],
   "source": [
    "# Given an integer n representing the number of courses (courses are labeled from 0 to n-1)\n",
    "# And an array prerequisites where prerequisites[i]=[a,b] means that you first need to take the course b before course a\n",
    "# Determine if it's possible to finish all the courses"
   ]
  },
  {
   "cell_type": "code",
   "execution_count": 17,
   "metadata": {},
   "outputs": [
    {
     "name": "stdout",
     "output_type": "stream",
     "text": [
      "True\n",
      "--------\n",
      "False\n"
     ]
    }
   ],
   "source": [
    "def dfs(graph,vertex,path,order,visited):\n",
    "    path.add(vertex)\n",
    "    for neighbour in graph[vertex]:\n",
    "        if neighbour in path:\n",
    "            return False\n",
    "        if neighbour not in visited:\n",
    "            visited.add(neighbour)\n",
    "            if not dfs(graph,neighbour,path,order,visited):\n",
    "                return False\n",
    "    path.remove(vertex)\n",
    "    order.append(vertex)\n",
    "    return True\n",
    "\n",
    "# def top_sort(graph):\n",
    "#     visited=set()\n",
    "#     path=[]\n",
    "#     order=[]\n",
    "#     for vertex in graph:\n",
    "#         if vertex not in visited:\n",
    "#             visited.add(vertex)\n",
    "#             dfs(graph,vertex,path,order,visited)\n",
    "#     return order[::-1]\n",
    "\n",
    "def course_schedule(n, prerequisite):\n",
    "    graph=[[] for i in range(n)]\n",
    "    for pre in prerequisite:\n",
    "        graph[pre[1]].append(pre[0])\n",
    "    visited=set()\n",
    "    path=set()\n",
    "    order=[]\n",
    "    for course in range(n):\n",
    "        if course not in visited:\n",
    "            visited.add(course)\n",
    "            if not dfs(graph,course,path,order,visited):\n",
    "                return False\n",
    "    return True\n",
    "\n",
    "print(course_schedule(6, [[3,0],[1,3],[2,1],[4,1],[4,2],[5,3],[5,4]]))\n",
    "print(\"--------\")\n",
    "print(course_schedule(6, [[0,1],[3,0],[1,3],[2,1],[4,1],[4,2],[5,3],[5,4]]))"
   ]
  },
  {
   "cell_type": "markdown",
   "metadata": {},
   "source": [
    "### K-th permutation"
   ]
  },
  {
   "cell_type": "code",
   "execution_count": 18,
   "metadata": {},
   "outputs": [],
   "source": [
    "# With the range of numbers from 1 to n inclusive, we can make n! permutations.\n",
    "# By labeling them in order starting from 1, you are asked to return the k-th permutation."
   ]
  },
  {
   "cell_type": "code",
   "execution_count": 22,
   "metadata": {},
   "outputs": [
    {
     "name": "stdout",
     "output_type": "stream",
     "text": [
      "213\n",
      "3241\n",
      "123\n"
     ]
    }
   ],
   "source": [
    "# import itertools\n",
    "\n",
    "# ## this solution takes time of O(n*n!), which is extremely slow\n",
    "# def kth_permutation(n,k):\n",
    "#     permutations=list(itertools.permutations(range(1,n+1)))\n",
    "#     return \"\".join(map(str, permutations[k-1]))\n",
    "\n",
    "def kth_permutation(n,k):\n",
    "    permutation = []\n",
    "    unused = list(range(1,n+1))\n",
    "    fact = [1]*(n+1)\n",
    "    for i in range(1,n+1):\n",
    "        fact[i]=i*fact[i-1]\n",
    "    k-=1\n",
    "    while n>0:\n",
    "        part_length = fact[n]//n\n",
    "        i=k//part_length\n",
    "        permutation.append(unused[i])\n",
    "        unused.pop(i)\n",
    "        n-=1\n",
    "        k%=part_length\n",
    "    return \"\".join(map(str,permutation))\n",
    "\n",
    "print(kth_permutation(3,3))\n",
    "print(kth_permutation(4,16))\n",
    "print(kth_permutation(3,1))"
   ]
  },
  {
   "cell_type": "markdown",
   "metadata": {},
   "source": [
    "### Minimum window substring"
   ]
  },
  {
   "cell_type": "code",
   "execution_count": 24,
   "metadata": {},
   "outputs": [],
   "source": [
    "# Given two strings s and t\n",
    "# find the shortest substring of s that contains all characters of t\n",
    "# if such substring doesn't exist, return \"\""
   ]
  },
  {
   "cell_type": "code",
   "execution_count": null,
   "metadata": {},
   "outputs": [],
   "source": [
    "# def contains_all(freq1,freq2):\n",
    "#     for ch in freq2:\n",
    "#         if freq1[ch]<freq2[ch]:\n",
    "#             return False\n",
    "#     return True\n",
    "\n",
    "# def min_window(s,t):\n",
    "#     n,m=len(s),len(t)\n",
    "#     if m>n or m==0:\n",
    "#         return \"\"\n",
    "#     freqt = Counter(t)"
   ]
  },
  {
   "cell_type": "code",
   "execution_count": null,
   "metadata": {},
   "outputs": [],
   "source": []
  },
  {
   "cell_type": "code",
   "execution_count": null,
   "metadata": {},
   "outputs": [],
   "source": []
  },
  {
   "cell_type": "code",
   "execution_count": null,
   "metadata": {},
   "outputs": [],
   "source": []
  },
  {
   "cell_type": "code",
   "execution_count": null,
   "metadata": {},
   "outputs": [],
   "source": []
  },
  {
   "cell_type": "code",
   "execution_count": null,
   "metadata": {},
   "outputs": [],
   "source": []
  }
 ],
 "metadata": {
  "kernelspec": {
   "display_name": "Python 3",
   "language": "python",
   "name": "python3"
  },
  "language_info": {
   "codemirror_mode": {
    "name": "ipython",
    "version": 3
   },
   "file_extension": ".py",
   "mimetype": "text/x-python",
   "name": "python",
   "nbconvert_exporter": "python",
   "pygments_lexer": "ipython3",
   "version": "3.7.4"
  }
 },
 "nbformat": 4,
 "nbformat_minor": 2
}
