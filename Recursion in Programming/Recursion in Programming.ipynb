{
 "cells": [
  {
   "cell_type": "markdown",
   "metadata": {},
   "source": [
    "### Reversing a string"
   ]
  },
  {
   "cell_type": "code",
   "execution_count": 4,
   "metadata": {},
   "outputs": [
    {
     "name": "stdout",
     "output_type": "stream",
     "text": [
      "gnirts emoS\n"
     ]
    }
   ],
   "source": [
    "def reverse_string(s):\n",
    "    if s==\"\":\n",
    "        return \"\"\n",
    "    return reverse_string(s[1:])+s[0]\n",
    "\n",
    "print(reverse_string(\"Some string\"))"
   ]
  },
  {
   "cell_type": "markdown",
   "metadata": {},
   "source": [
    "### Check palindrome"
   ]
  },
  {
   "cell_type": "code",
   "execution_count": 3,
   "metadata": {},
   "outputs": [
    {
     "name": "stdout",
     "output_type": "stream",
     "text": [
      "True\n",
      "False\n",
      "True\n"
     ]
    }
   ],
   "source": [
    "def check_palindrome(s):\n",
    "    if len(s)==0 or len(s)==1:\n",
    "        return True\n",
    "    if s[0]==s[len(s)-1]:\n",
    "        return check_palindrome(s[1:len(s)-1])\n",
    "    return False\n",
    "\n",
    "print(check_palindrome(\"ababa\"))\n",
    "print(check_palindrome(\"abab\"))\n",
    "print(check_palindrome(\"racecar\"))"
   ]
  },
  {
   "cell_type": "markdown",
   "metadata": {},
   "source": [
    "### Decimal to binary"
   ]
  },
  {
   "cell_type": "code",
   "execution_count": 14,
   "metadata": {},
   "outputs": [
    {
     "name": "stdout",
     "output_type": "stream",
     "text": [
      "100\n",
      "1000\n",
      "10\n",
      "1101\n",
      "11101001\n"
     ]
    }
   ],
   "source": [
    "def dec_to_bin(decimal,result=\"\"):\n",
    "    if decimal==0:\n",
    "        return result\n",
    "    result = str(decimal%2) + result\n",
    "    return dec_to_bin(decimal//2, result)\n",
    "\n",
    "print(dec_to_bin(4))\n",
    "print(dec_to_bin(8))\n",
    "print(dec_to_bin(2))\n",
    "print(dec_to_bin(13))\n",
    "print(dec_to_bin(233))"
   ]
  },
  {
   "cell_type": "markdown",
   "metadata": {},
   "source": [
    "### Sum of natural numbers"
   ]
  },
  {
   "cell_type": "code",
   "execution_count": 21,
   "metadata": {},
   "outputs": [
    {
     "name": "stdout",
     "output_type": "stream",
     "text": [
      "10\n",
      "55\n",
      "120\n"
     ]
    }
   ],
   "source": [
    "def sum_of_natural_numbers(num):\n",
    "    if num==1:\n",
    "        return 1\n",
    "    return num+sum_of_natural_numbers(num-1)\n",
    "\n",
    "print(sum_of_natural_numbers(4))\n",
    "print(sum_of_natural_numbers(10))\n",
    "print(sum_of_natural_numbers(15))"
   ]
  },
  {
   "cell_type": "markdown",
   "metadata": {},
   "source": [
    "### Binary search"
   ]
  },
  {
   "cell_type": "code",
   "execution_count": 23,
   "metadata": {},
   "outputs": [
    {
     "name": "stdout",
     "output_type": "stream",
     "text": [
      "1\n",
      "5\n"
     ]
    }
   ],
   "source": [
    "def binary_search(nums,start,end,target):\n",
    "    if start>end:\n",
    "        return -1\n",
    "    mid = start+((end-start)//2)\n",
    "    if target==nums[mid]:\n",
    "        return mid\n",
    "    if target<nums[mid]:\n",
    "        return binary_search(nums,start,mid-1,target)\n",
    "    return binary_search(nums,mid+1,end,target)\n",
    "\n",
    "print(binary_search([1,3,4,7,9,12,14],0,6,3))\n",
    "print(binary_search([1,3,4,7,9,12,14],0,6,12))"
   ]
  },
  {
   "cell_type": "markdown",
   "metadata": {},
   "source": [
    "### Fibonacci (Non-optimized)"
   ]
  },
  {
   "cell_type": "code",
   "execution_count": 25,
   "metadata": {},
   "outputs": [
    {
     "name": "stdout",
     "output_type": "stream",
     "text": [
      "3\n",
      "8\n",
      "13\n",
      "21\n",
      "34\n"
     ]
    }
   ],
   "source": [
    "def fibonacci(n):\n",
    "    if n==0 or n==1:\n",
    "        return n\n",
    "    else:\n",
    "        return fibonacci(n-1)+fibonacci(n-2)\n",
    "\n",
    "print(fibonacci(4))\n",
    "print(fibonacci(6))\n",
    "print(fibonacci(7))\n",
    "print(fibonacci(8))\n",
    "print(fibonacci(9))"
   ]
  },
  {
   "cell_type": "markdown",
   "metadata": {},
   "source": [
    "### Merge sort"
   ]
  },
  {
   "cell_type": "code",
   "execution_count": 33,
   "metadata": {},
   "outputs": [
    {
     "name": "stdout",
     "output_type": "stream",
     "text": [
      "[1, 3, 4, 5, 7, 9]\n",
      "[-5, 0, 2, 3, 10, 20]\n"
     ]
    }
   ],
   "source": [
    "def merge_sort(nums,start,end):\n",
    "    if start<end:\n",
    "        mid = start+((end-start)//2)\n",
    "        merge_sort(nums,start,mid)\n",
    "        merge_sort(nums,mid+1,end)\n",
    "        merge(nums,start,mid,end)\n",
    "\n",
    "def merge(nums,start,mid,end):\n",
    "    # build a temporary array to avoid modifying the original contents\n",
    "    temp = [0 for _ in range(end-start+1)]\n",
    "    i = start\n",
    "    j = mid+1\n",
    "    k = 0\n",
    "    \n",
    "    # while both sub-array have values, then try and merge them in sorted order\n",
    "    while i<=mid and j<=end:\n",
    "        if nums[i]<=nums[j]:\n",
    "            temp[k] = nums[i]\n",
    "            i+=1\n",
    "            k+=1\n",
    "        else:\n",
    "            temp[k] = nums[j]\n",
    "            j+=1\n",
    "            k+=1\n",
    "    \n",
    "    \n",
    "    # Add the rest of the values from the left sub-array into the result array\n",
    "    while i<=mid:\n",
    "        temp[k] = nums[i]\n",
    "        i+=1\n",
    "        k+=1\n",
    "    \n",
    "    # Add the rest of the values from the right sub-array into the result array\n",
    "    while j<=end:\n",
    "        temp[k] = nums[j]\n",
    "        j+=1\n",
    "        k+=1\n",
    "    \n",
    "    # Copy temp array data to actual array\n",
    "    for i in range(start,end+1):\n",
    "        nums[i] = temp[i-start]\n",
    "\n",
    "data = [9,4,1,7,3,5]\n",
    "merge_sort(data,0,len(data)-1)\n",
    "print(data)\n",
    "data = [-5,20,10,3,2,0]\n",
    "merge_sort(data,0,len(data)-1)\n",
    "print(data)"
   ]
  },
  {
   "cell_type": "markdown",
   "metadata": {},
   "source": [
    "### Linked list"
   ]
  },
  {
   "cell_type": "code",
   "execution_count": 37,
   "metadata": {},
   "outputs": [
    {
     "name": "stdout",
     "output_type": "stream",
     "text": [
      "['f', 'e', 'd', 'c', 'b', 'a']\n"
     ]
    }
   ],
   "source": [
    "class Node:\n",
    "    def __init__(self,val):\n",
    "        self.val = val\n",
    "        self.next = None\n",
    "\n",
    "def reverse_list(head):\n",
    "    if head==None or head.next==None:\n",
    "        return head\n",
    "    p = reverse_list(head.next)\n",
    "    head.next.next = head\n",
    "    head.next = None\n",
    "    return p\n",
    "\n",
    "def print_list(head):\n",
    "    l = []\n",
    "    current = head\n",
    "    while current:\n",
    "        l.append(current.val)\n",
    "        current = current.next\n",
    "    print(l)\n",
    "\n",
    "a = Node(\"a\")\n",
    "b = Node(\"b\")\n",
    "c = Node(\"c\")\n",
    "d = Node(\"d\")\n",
    "e = Node(\"e\")\n",
    "f = Node(\"f\")\n",
    "\n",
    "a.next = b\n",
    "b.next = c\n",
    "c.next = d\n",
    "d.next = e\n",
    "e.next = f\n",
    "# a -> b -> c -> d -> e -> f\n",
    "\n",
    "print_list(reverse_list(a))\n",
    "# f -> e -> d -> c -> b -> a"
   ]
  },
  {
   "cell_type": "markdown",
   "metadata": {},
   "source": [
    "### Merge two sorted linked lists"
   ]
  },
  {
   "cell_type": "code",
   "execution_count": 3,
   "metadata": {},
   "outputs": [
    {
     "name": "stdout",
     "output_type": "stream",
     "text": [
      "[1, 4, 8, 11, 16, 20, 22, 40]\n"
     ]
    }
   ],
   "source": [
    "class Node:\n",
    "    def __init__(self,val):\n",
    "        self.val = val\n",
    "        self.next = None\n",
    "\n",
    "def sorted_merge(A,B):\n",
    "    if A==None:\n",
    "        return B\n",
    "    if B==None:\n",
    "        return A\n",
    "    \n",
    "    if A.val<B.val:\n",
    "        A.next = sorted_merge(A.next,B)\n",
    "        return A\n",
    "    else:\n",
    "        B.next = sorted_merge(A,B.next)\n",
    "        return B\n",
    "\n",
    "def print_list(head):\n",
    "    l = []\n",
    "    current = head\n",
    "    while current:\n",
    "        l.append(current.val)\n",
    "        current = current.next\n",
    "    print(l)\n",
    "\n",
    "a = Node(1)\n",
    "b = Node(8)\n",
    "c = Node(22)\n",
    "d = Node(40)\n",
    "a.next = b\n",
    "b.next = c\n",
    "c.next = d\n",
    "# 1 -> 8 -> 22 -> 40\n",
    "\n",
    "e = Node(4)\n",
    "f = Node(11)\n",
    "g = Node(16)\n",
    "h = Node(20)\n",
    "e.next = f\n",
    "f.next = g\n",
    "g.next = h\n",
    "# 4 -> 11 -> 16 -> 20\n",
    "\n",
    "print_list(sorted_merge(a,e))"
   ]
  },
  {
   "cell_type": "markdown",
   "metadata": {},
   "source": [
    "### Insert value into binary search tree"
   ]
  },
  {
   "cell_type": "code",
   "execution_count": 4,
   "metadata": {},
   "outputs": [],
   "source": [
    "class Node:\n",
    "    def __init__(self,val):\n",
    "        self.val = val\n",
    "        self.next = None\n",
    "\n",
    "def insert_value_into_BST(head,data):\n",
    "    if head==None:\n",
    "        head = Node(data)\n",
    "        return head\n",
    "    if head.data<data:\n",
    "        head.right = insert_value_into_BST(head.right,data)\n",
    "    else:\n",
    "        head.left = insert_value_into_BST(head.left,data)\n",
    "    return head"
   ]
  },
  {
   "cell_type": "markdown",
   "metadata": {},
   "source": [
    "### Print all leaf nodes"
   ]
  },
  {
   "cell_type": "code",
   "execution_count": 6,
   "metadata": {},
   "outputs": [],
   "source": [
    "class Node:\n",
    "    def __init__(self,val):\n",
    "        self.val = val\n",
    "        self.next = None\n",
    "\n",
    "def print_leaf_nodes(root):\n",
    "    if root==None:\n",
    "        return\n",
    "    \n",
    "    # checks if a given node is a leaf\n",
    "    if root.left==None and root.right==None:\n",
    "        print(root.val)\n",
    "        return\n",
    "    \n",
    "    # go down the left and right half of the sub tree\n",
    "    if root.left!=None:\n",
    "        print_leaf_nodes(root.left)\n",
    "    if root.right!=None:\n",
    "        print_leaf_nodes(root.right)"
   ]
  },
  {
   "cell_type": "markdown",
   "metadata": {},
   "source": [
    "### Depth first search"
   ]
  },
  {
   "cell_type": "code",
   "execution_count": 8,
   "metadata": {},
   "outputs": [],
   "source": [
    "class Node:\n",
    "    def __init__(self,val):\n",
    "        self.val = val\n",
    "        self.next = None\n",
    "    def get_neighbours(self):\n",
    "        # returns a list containing all the neighbours of the current node\n",
    "        pass\n",
    "\n",
    "def DFS(node,goal,visited=set()):\n",
    "    if node.val==goal:\n",
    "        return True\n",
    "    for neighbour in node.get_neighbours():\n",
    "        if neighbour in visited:\n",
    "            continue\n",
    "        visited.add(neighbour)\n",
    "        isFound = DFS(neighbour,visited,goal)\n",
    "        if isFound:\n",
    "            return True\n",
    "    return False"
   ]
  },
  {
   "cell_type": "code",
   "execution_count": null,
   "metadata": {},
   "outputs": [],
   "source": []
  },
  {
   "cell_type": "code",
   "execution_count": null,
   "metadata": {},
   "outputs": [],
   "source": []
  },
  {
   "cell_type": "code",
   "execution_count": null,
   "metadata": {},
   "outputs": [],
   "source": []
  },
  {
   "cell_type": "code",
   "execution_count": null,
   "metadata": {},
   "outputs": [],
   "source": []
  }
 ],
 "metadata": {
  "kernelspec": {
   "display_name": "Python 3",
   "language": "python",
   "name": "python3"
  },
  "language_info": {
   "codemirror_mode": {
    "name": "ipython",
    "version": 3
   },
   "file_extension": ".py",
   "mimetype": "text/x-python",
   "name": "python",
   "nbconvert_exporter": "python",
   "pygments_lexer": "ipython3",
   "version": "3.7.4"
  }
 },
 "nbformat": 4,
 "nbformat_minor": 2
}
